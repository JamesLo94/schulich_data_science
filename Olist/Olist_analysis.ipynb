{
  "cells": [
    {
      "cell_type": "code",
      "execution_count": 2,
      "id": "61368dcd-78c6-4ec1-92eb-5d1eab4f2257",
      "metadata": {
        "id": "61368dcd-78c6-4ec1-92eb-5d1eab4f2257"
      },
      "outputs": [],
      "source": [
        "import pandas as pd\n",
        "import numpy as np\n",
        "import matplotlib.pyplot as plt\n",
        "import os"
      ]
    },
    {
      "cell_type": "code",
      "execution_count": null,
      "id": "6c2cbcab-6e2a-4c53-a907-4c0404ffdd16",
      "metadata": {
        "id": "6c2cbcab-6e2a-4c53-a907-4c0404ffdd16"
      },
      "outputs": [],
      "source": [
        "#load data\n",
        "customers = pd.read_csv(\"./data/olist_customers_dataset.csv\")\n",
        "geolocation = pd.read_csv(\"./data/olist_geolocation_dataset.csv\")\n",
        "orders = pd.read_csv(\"./data/olist_orders_dataset.csv\")\n",
        "order_items = pd.read_csv(\"./data/olist_order_items_dataset.csv\")\n",
        "order_payments = pd.read_csv(\"./data/olist_order_payments_dataset.csv\")\n",
        "order_reviews = pd.read_csv(\"./data/olist_order_reviews_dataset.csv\")\n",
        "products = pd.read_csv(\"./data/olist_products_dataset.csv\")\n",
        "sellers = pd.read_csv(\"./data/olist_sellers_dataset.csv\")\n",
        "category_translation = pd.read_csv(\"./data/product_category_name_translation.csv\")"
      ]
    },
    {
      "cell_type": "code",
      "execution_count": null,
      "id": "701088fa-3a66-4502-9bc7-4006eda73fdf",
      "metadata": {
        "id": "701088fa-3a66-4502-9bc7-4006eda73fdf"
      },
      "outputs": [],
      "source": [
        "#first merge product and it's name\n",
        "products = products.merge(category_translation, on='product_category_name', how='left')"
      ]
    },
    {
      "cell_type": "code",
      "execution_count": null,
      "id": "f22e0681-5a66-4a46-a143-5c3cb0f6a5f3",
      "metadata": {
        "id": "f22e0681-5a66-4a46-a143-5c3cb0f6a5f3"
      },
      "outputs": [],
      "source": [
        "#merge tables\n",
        "#then merge order and order_items\n",
        "df = orders.merge(order_items, on='order_id', how='left')\n",
        "#merge reviews, but only keep review score, will be use later\n",
        "df = df.merge(order_reviews[['order_id', 'review_score']], on='order_id', how='left')\n",
        "#merge the payment value\n",
        "df = df.merge(order_payments[['order_id', 'payment_value']], on='order_id', how='left')\n",
        "# add customer zip code\n",
        "df = df.merge(customers[['customer_id', 'customer_zip_code_prefix']], on='customer_id', how='left')\n",
        "# add seller zip code\n",
        "df = df.merge(sellers[['seller_id', 'seller_zip_code_prefix']], on='seller_id', how='left')\n",
        "# add prod category\n",
        "df = df.merge(products[['product_id', 'product_category_name_english']], on='product_id', how='left')"
      ]
    },
    {
      "cell_type": "code",
      "execution_count": 3,
      "id": "95877e44-f607-4979-a16a-d9ad37effc50",
      "metadata": {
        "colab": {
          "base_uri": "https://localhost:8080/",
          "height": 216
        },
        "id": "95877e44-f607-4979-a16a-d9ad37effc50",
        "outputId": "5c220865-2494-4041-eeca-e8db6334d901"
      },
      "outputs": [
        {
          "output_type": "error",
          "ename": "NameError",
          "evalue": "name 'df' is not defined",
          "traceback": [
            "\u001b[0;31m---------------------------------------------------------------------------\u001b[0m",
            "\u001b[0;31mNameError\u001b[0m                                 Traceback (most recent call last)",
            "\u001b[0;32m/tmp/ipython-input-3-2989717712.py\u001b[0m in \u001b[0;36m<cell line: 0>\u001b[0;34m()\u001b[0m\n\u001b[1;32m      3\u001b[0m \u001b[0;34m\u001b[0m\u001b[0m\n\u001b[1;32m      4\u001b[0m \u001b[0;31m# Shuffle and assign groups\u001b[0m\u001b[0;34m\u001b[0m\u001b[0;34m\u001b[0m\u001b[0m\n\u001b[0;32m----> 5\u001b[0;31m \u001b[0mdf\u001b[0m\u001b[0;34m[\u001b[0m\u001b[0;34m'group'\u001b[0m\u001b[0;34m]\u001b[0m \u001b[0;34m=\u001b[0m \u001b[0mnp\u001b[0m\u001b[0;34m.\u001b[0m\u001b[0mrandom\u001b[0m\u001b[0;34m.\u001b[0m\u001b[0mchoice\u001b[0m\u001b[0;34m(\u001b[0m\u001b[0;34m[\u001b[0m\u001b[0;34m'control'\u001b[0m\u001b[0;34m,\u001b[0m \u001b[0;34m'test'\u001b[0m\u001b[0;34m]\u001b[0m\u001b[0;34m,\u001b[0m \u001b[0msize\u001b[0m\u001b[0;34m=\u001b[0m\u001b[0mlen\u001b[0m\u001b[0;34m(\u001b[0m\u001b[0mdf\u001b[0m\u001b[0;34m)\u001b[0m\u001b[0;34m)\u001b[0m\u001b[0;34m\u001b[0m\u001b[0;34m\u001b[0m\u001b[0m\n\u001b[0m\u001b[1;32m      6\u001b[0m \u001b[0;34m\u001b[0m\u001b[0m\n\u001b[1;32m      7\u001b[0m \u001b[0;31m# Optional: check distribution\u001b[0m\u001b[0;34m\u001b[0m\u001b[0;34m\u001b[0m\u001b[0m\n",
            "\u001b[0;31mNameError\u001b[0m: name 'df' is not defined"
          ]
        }
      ],
      "source": [
        "# Set seed for reproducibility\n",
        "np.random.seed(42)\n",
        "\n",
        "# Shuffle and assign groups\n",
        "df['group'] = np.random.choice(['control', 'test'], size=len(df))\n",
        "\n",
        "# Optional: check distribution\n",
        "print(df['group'].value_counts())"
      ]
    },
    {
      "cell_type": "code",
      "execution_count": null,
      "id": "77c1ed7d-25a7-4786-a049-50c09733420f",
      "metadata": {
        "scrolled": true,
        "id": "77c1ed7d-25a7-4786-a049-50c09733420f"
      },
      "outputs": [],
      "source": []
    },
    {
      "cell_type": "code",
      "execution_count": null,
      "id": "4cce4d06-1295-4a6a-a5db-fd8445359f8f",
      "metadata": {
        "id": "4cce4d06-1295-4a6a-a5db-fd8445359f8f"
      },
      "outputs": [],
      "source": []
    },
    {
      "cell_type": "code",
      "execution_count": null,
      "id": "46ed2d6f-47e9-4b61-b585-b361bfb550a6",
      "metadata": {
        "id": "46ed2d6f-47e9-4b61-b585-b361bfb550a6"
      },
      "outputs": [],
      "source": []
    },
    {
      "cell_type": "code",
      "execution_count": null,
      "id": "4f200dd2-7605-4931-9374-e825a7e282a0",
      "metadata": {
        "scrolled": true,
        "id": "4f200dd2-7605-4931-9374-e825a7e282a0"
      },
      "outputs": [],
      "source": []
    },
    {
      "cell_type": "code",
      "execution_count": null,
      "id": "ad49f6c4-3e73-44ca-8438-4b249e56f85c",
      "metadata": {
        "id": "ad49f6c4-3e73-44ca-8438-4b249e56f85c"
      },
      "outputs": [],
      "source": []
    },
    {
      "cell_type": "code",
      "execution_count": null,
      "id": "5aa3d8f7-60d3-4a7a-9f42-98621f3e33ff",
      "metadata": {
        "id": "5aa3d8f7-60d3-4a7a-9f42-98621f3e33ff"
      },
      "outputs": [],
      "source": []
    },
    {
      "cell_type": "code",
      "execution_count": null,
      "id": "aa99e0af-a21a-4e84-a4fa-eccbda22a5d1",
      "metadata": {
        "id": "aa99e0af-a21a-4e84-a4fa-eccbda22a5d1"
      },
      "outputs": [],
      "source": []
    },
    {
      "cell_type": "code",
      "execution_count": null,
      "id": "c1e8bf39-20b4-40a5-b0a9-d6403e77b18c",
      "metadata": {
        "id": "c1e8bf39-20b4-40a5-b0a9-d6403e77b18c"
      },
      "outputs": [],
      "source": []
    }
  ],
  "metadata": {
    "kernelspec": {
      "display_name": "Python 3 (ipykernel)",
      "language": "python",
      "name": "python3"
    },
    "language_info": {
      "codemirror_mode": {
        "name": "ipython",
        "version": 3
      },
      "file_extension": ".py",
      "mimetype": "text/x-python",
      "name": "python",
      "nbconvert_exporter": "python",
      "pygments_lexer": "ipython3",
      "version": "3.10.9"
    },
    "colab": {
      "provenance": []
    }
  },
  "nbformat": 4,
  "nbformat_minor": 5
}