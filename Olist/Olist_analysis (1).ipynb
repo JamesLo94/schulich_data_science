{
  "cells": [
    {
      "cell_type": "code",
      "execution_count": 11,
      "id": "61368dcd-78c6-4ec1-92eb-5d1eab4f2257",
      "metadata": {
        "id": "61368dcd-78c6-4ec1-92eb-5d1eab4f2257"
      },
      "outputs": [],
      "source": [
        "import pandas as pd\n",
        "import numpy as np\n",
        "import matplotlib.pyplot as plt\n",
        "import os\n",
        "from scipy.stats import ttest_ind, chi2_contingency"
      ]
    },
    {
      "cell_type": "code",
      "execution_count": 2,
      "id": "6c2cbcab-6e2a-4c53-a907-4c0404ffdd16",
      "metadata": {
        "id": "6c2cbcab-6e2a-4c53-a907-4c0404ffdd16"
      },
      "outputs": [],
      "source": [
        "#load data\n",
        "customers = pd.read_csv('https://raw.githubusercontent.com/JamesLo94/schulich_data_science/main/Olist/olist_customers_dataset.csv')\n",
        "orders = pd.read_csv('https://raw.githubusercontent.com/JamesLo94/schulich_data_science/main/Olist/olist_orders_dataset.csv')\n",
        "order_items = pd.read_csv('https://raw.githubusercontent.com/JamesLo94/schulich_data_science/main/Olist/olist_order_items_dataset.csv')\n",
        "order_payments = pd.read_csv('https://raw.githubusercontent.com/JamesLo94/schulich_data_science/main/Olist/olist_order_payments_dataset.csv')\n",
        "order_reviews = pd.read_csv('https://raw.githubusercontent.com/JamesLo94/schulich_data_science/main/Olist/olist_order_reviews_dataset.csv')\n",
        "products = pd.read_csv('https://raw.githubusercontent.com/JamesLo94/schulich_data_science/main/Olist//olist_products_dataset.csv')\n",
        "sellers = pd.read_csv('https://raw.githubusercontent.com/JamesLo94/schulich_data_science/main/Olist/olist_sellers_dataset.csv')\n",
        "category_translation = pd.read_csv('https://raw.githubusercontent.com/JamesLo94/schulich_data_science/main/Olist/product_category_name_translation.csv')"
      ]
    },
    {
      "cell_type": "code",
      "execution_count": 3,
      "id": "701088fa-3a66-4502-9bc7-4006eda73fdf",
      "metadata": {
        "id": "701088fa-3a66-4502-9bc7-4006eda73fdf"
      },
      "outputs": [],
      "source": [
        "#first merge product and it's name\n",
        "products = products.merge(category_translation, on='product_category_name', how='left')"
      ]
    },
    {
      "cell_type": "code",
      "execution_count": null,
      "id": "f22e0681-5a66-4a46-a143-5c3cb0f6a5f3",
      "metadata": {
        "id": "f22e0681-5a66-4a46-a143-5c3cb0f6a5f3"
      },
      "outputs": [],
      "source": [
        "#1. merge tables\n",
        "#then merge order and order_items\n",
        "df = orders.merge(order_items, on='order_id', how='left')\n",
        "#merge reviews, but only keep review score, will be use later\n",
        "df = df.merge(order_reviews[['order_id', 'review_score']], on='order_id', how='left')\n",
        "#merge the payment value\n",
        "df = df.merge(order_payments[['order_id', 'payment_value']], on='order_id', how='left')\n",
        "# add customer zip code\n",
        "df = df.merge(customers[['customer_id', 'customer_zip_code_prefix']], on='customer_id', how='left')\n",
        "# add seller zip code\n",
        "df = df.merge(sellers[['seller_id', 'seller_zip_code_prefix']], on='seller_id', how='left')\n",
        "# add prod category\n",
        "df = df.merge(products[['product_id', 'product_category_name_english']], on='product_id', how='left')"
      ]
    },
    {
      "cell_type": "code",
      "execution_count": 15,
      "id": "6Gsbit3VDn8Y",
      "metadata": {
        "id": "6Gsbit3VDn8Y"
      },
      "outputs": [
        {
          "name": "stdout",
          "output_type": "stream",
          "text": [
            "=== Group Balance Summary ===\n",
            "        review_score                 shipping_delay                  \\\n",
            "                mean       std count           mean       std count   \n",
            "group                                                                 \n",
            "control     4.155963  1.324333   763     -11.093054  9.334861   763   \n",
            "test        4.193548  1.287756   744     -11.323925  8.900749   744   \n",
            "\n",
            "        payment_value                    \n",
            "                 mean         std count  \n",
            "group                                    \n",
            "control    162.747379  200.260593   763  \n",
            "test       152.585336  201.533546   744  \n",
            "\n",
            "=== T-Test Results (p-values) ===\n",
            "Review Score       : 0.5765\n",
            "Shipping Delay     : 0.6232\n",
            "Payment Value      : 0.3264\n",
            "\n",
            "Product Category Distribution p-value: 0.6202\n"
          ]
        }
      ],
      "source": [
        "\n",
        "\n",
        "# =========================\n",
        "# STEP 1: Prepare base dataframe\n",
        "# =========================\n",
        "\n",
        "# Assumes df is your fully merged dataframe with all necessary columns\n",
        "df['order_purchase_timestamp'] = pd.to_datetime(df['order_purchase_timestamp'])\n",
        "df['order_delivered_customer_date'] = pd.to_datetime(df['order_delivered_customer_date'])\n",
        "df['order_estimated_delivery_date'] = pd.to_datetime(df['order_estimated_delivery_date'])\n",
        "\n",
        "# Filter to last 2 years\n",
        "cutoff_date = df['order_purchase_timestamp'].max() - pd.DateOffset(years=2)\n",
        "df_recent = df[df['order_purchase_timestamp'] >= cutoff_date]\n",
        "\n",
        "# =========================\n",
        "# STEP 2: Focus on health_beauty category\n",
        "# =========================\n",
        "\n",
        "df_health = df_recent[df_recent['product_category_name_english'] == 'health_beauty']\n",
        "\n",
        "# Identify products in this category with multiple sellers\n",
        "product_seller_counts = df_health.groupby('product_id')['seller_id'].nunique().reset_index()\n",
        "multi_seller_products = product_seller_counts[product_seller_counts['seller_id'] > 1]['product_id']\n",
        "\n",
        "# Filter dataset to those products\n",
        "df_multi_seller = df_health[df_health['product_id'].isin(multi_seller_products)]\n",
        "\n",
        "# Get customers who bought those products\n",
        "valid_customers = df_multi_seller[['customer_id']].drop_duplicates()\n",
        "\n",
        "# Filter full dataset to these customers\n",
        "df_target = df.merge(valid_customers, on='customer_id', how='inner')\n",
        "\n",
        "# =========================\n",
        "# STEP 3: Random group assignment\n",
        "# =========================\n",
        "\n",
        "customer_df = df_target[['customer_id']].drop_duplicates()\n",
        "np.random.seed(42)\n",
        "customer_df['group'] = np.random.choice(['control', 'test'], size=len(customer_df))\n",
        "df_target = df_target.merge(customer_df, on='customer_id', how='left')\n",
        "\n",
        "# =========================\n",
        "# STEP 4: Feature engineering\n",
        "# =========================\n",
        "\n",
        "df_target['shipping_delay'] = (df_target['order_delivered_customer_date'] - \n",
        "                               df_target['order_estimated_delivery_date']).dt.days\n",
        "\n",
        "# Drop missing values\n",
        "df_clean = df_target.dropna(subset=['review_score', 'shipping_delay', 'payment_value'])\n",
        "\n",
        "# =========================\n",
        "# STEP 5: Balance check summary\n",
        "# =========================\n",
        "\n",
        "balance_summary = df_clean.groupby('group').agg({\n",
        "    'review_score': ['mean', 'std', 'count'],\n",
        "    'shipping_delay': ['mean', 'std', 'count'],\n",
        "    'payment_value': ['mean', 'std', 'count']\n",
        "})\n",
        "\n",
        "print(\"=== Group Balance Summary ===\")\n",
        "print(balance_summary)\n",
        "\n",
        "# =========================\n",
        "# STEP 6: T-tests\n",
        "# =========================\n",
        "\n",
        "grouped = df_clean.groupby('group')\n",
        "\n",
        "review_test = ttest_ind(grouped.get_group('control')['review_score'],\n",
        "                        grouped.get_group('test')['review_score'],\n",
        "                        equal_var=False)\n",
        "\n",
        "delay_test = ttest_ind(grouped.get_group('control')['shipping_delay'],\n",
        "                       grouped.get_group('test')['shipping_delay'],\n",
        "                       equal_var=False)\n",
        "\n",
        "payment_test = ttest_ind(grouped.get_group('control')['payment_value'],\n",
        "                         grouped.get_group('test')['payment_value'],\n",
        "                         equal_var=False)\n",
        "\n",
        "# =========================\n",
        "# STEP 7: Chi-square test for product category (within health_beauty)\n",
        "# =========================\n",
        "\n",
        "contingency = pd.crosstab(df_clean['product_category_name_english'], df_clean['group'])\n",
        "chi2, p_cat, _, _ = chi2_contingency(contingency)\n",
        "\n",
        "# =========================\n",
        "# STEP 8: Output Results\n",
        "# =========================\n",
        "\n",
        "print(\"\\n=== T-Test Results (p-values) ===\")\n",
        "print(f\"Review Score       : {review_test.pvalue:.4f}\")\n",
        "print(f\"Shipping Delay     : {delay_test.pvalue:.4f}\")\n",
        "print(f\"Payment Value      : {payment_test.pvalue:.4f}\")\n",
        "\n",
        "print(f\"\\nProduct Category Distribution p-value: {p_cat:.4f}\")"
      ]
    },
    {
      "cell_type": "code",
      "execution_count": 16,
      "id": "b8b411bf",
      "metadata": {},
      "outputs": [
        {
          "data": {
            "image/png": "[encoded data removed]",
            "text/plain": [
              "<Figure size 800x500 with 1 Axes>"
            ]
          },
          "metadata": {},
          "output_type": "display_data"
        }
      ],
      "source": [
        "# Create a dictionary of test results\n",
        "p_values = {\n",
        "    'Review Score': review_test.pvalue,\n",
        "    'Shipping Delay': delay_test.pvalue,\n",
        "    'Payment Value': payment_test.pvalue,\n",
        "    'Product Category': p_cat\n",
        "}\n",
        "\n",
        "# Plot\n",
        "plt.figure(figsize=(8, 5))\n",
        "plt.bar(p_values.keys(), p_values.values(), color='skyblue')\n",
        "plt.axhline(0.05, color='red', linestyle='--', label='Significance Threshold (0.05)')\n",
        "plt.title('P-values for Group Balance Checks')\n",
        "plt.ylabel('P-value')\n",
        "plt.ylim(0, 1)\n",
        "plt.legend()\n",
        "plt.tight_layout()\n",
        "plt.show()"
      ]
    }
  ],
  "metadata": {
    "colab": {
      "provenance": []
    },
    "kernelspec": {
      "display_name": "Python 3",
      "language": "python",
      "name": "python3"
    },
    "language_info": {
      "codemirror_mode": {
        "name": "ipython",
        "version": 3
      },
      "file_extension": ".py",
      "mimetype": "text/x-python",
      "name": "python",
      "nbconvert_exporter": "python",
      "pygments_lexer": "ipython3",
      "version": "3.8.7"
    }
  },
  "nbformat": 4,
  "nbformat_minor": 5
}
