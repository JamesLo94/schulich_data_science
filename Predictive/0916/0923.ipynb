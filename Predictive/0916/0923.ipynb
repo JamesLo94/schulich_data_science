{
 "cells": [
  {
   "cell_type": "code",
   "execution_count": 1,
   "id": "7884ba91",
   "metadata": {},
   "outputs": [],
   "source": [
    "import numpy as np\n",
    "import pandas as pd\n",
    "import matplotlib.pyplot as plt\n",
    "import statsmodels.api as sm"
   ]
  },
  {
   "cell_type": "code",
   "execution_count": 2,
   "id": "7669ab47",
   "metadata": {},
   "outputs": [],
   "source": [
    "mu, sigma = 0, 5\n",
    "x = np.random.uniform(40,80,100)\n",
    "epsilon = np.random.normal(mu, sigma, 100)\n",
    "y = 3 + 4*x + epsilon"
   ]
  },
  {
   "cell_type": "code",
   "execution_count": 6,
   "id": "81758561",
   "metadata": {},
   "outputs": [],
   "source": [
    "model_reg = sm.OLS(y,x).fit()"
   ]
  },
  {
   "cell_type": "code",
   "execution_count": null,
   "id": "a80845cd",
   "metadata": {},
   "outputs": [
    {
     "name": "stdout",
     "output_type": "stream",
     "text": [
      "                                 OLS Regression Results                                \n",
      "=======================================================================================\n",
      "Dep. Variable:                      y   R-squared (uncentered):                   1.000\n",
      "Model:                            OLS   Adj. R-squared (uncentered):              1.000\n",
      "Method:                 Least Squares   F-statistic:                          2.795e+05\n",
      "Date:                Tue, 23 Sep 2025   Prob (F-statistic):                   1.22e-172\n",
      "Time:                        20:41:11   Log-Likelihood:                         -298.31\n",
      "No. Observations:                 100   AIC:                                      598.6\n",
      "Df Residuals:                      99   BIC:                                      601.2\n",
      "Df Model:                           1                                                  \n",
      "Covariance Type:            nonrobust                                                  \n",
      "==============================================================================\n",
      "                 coef    std err          t      P>|t|      [0.025      0.975]\n",
      "------------------------------------------------------------------------------\n",
      "x1             4.0545      0.008    528.657      0.000       4.039       4.070\n",
      "==============================================================================\n",
      "Omnibus:                        0.374   Durbin-Watson:                   2.192\n",
      "Prob(Omnibus):                  0.830   Jarque-Bera (JB):                0.537\n",
      "Skew:                          -0.099   Prob(JB):                        0.764\n",
      "Kurtosis:                       2.700   Cond. No.                         1.00\n",
      "==============================================================================\n",
      "\n",
      "Notes:\n",
      "[1] R² is computed without centering (uncentered) since the model does not contain a constant.\n",
      "[2] Standard Errors assume that the covariance matrix of the errors is correctly specified.\n"
     ]
    }
   ],
   "source": [
    "print(model_reg.summary())\n",
    "# what is Durbin-Watson? the range should be 2~4 and what does it mean?\n",
    "# what kind of insight can I find out based on the summary?"
   ]
  },
  {
   "cell_type": "code",
   "execution_count": 8,
   "id": "393d102e",
   "metadata": {},
   "outputs": [
    {
     "name": "stdout",
     "output_type": "stream",
     "text": [
      "                            OLS Regression Results                            \n",
      "==============================================================================\n",
      "Dep. Variable:                      y   R-squared:                       0.989\n",
      "Model:                            OLS   Adj. R-squared:                  0.989\n",
      "Method:                 Least Squares   F-statistic:                     8990.\n",
      "Date:                Tue, 23 Sep 2025   Prob (F-statistic):           3.25e-98\n",
      "Time:                        20:49:04   Log-Likelihood:                -296.50\n",
      "No. Observations:                 100   AIC:                             597.0\n",
      "Df Residuals:                      98   BIC:                             602.2\n",
      "Df Model:                           1                                         \n",
      "Covariance Type:            nonrobust                                         \n",
      "==============================================================================\n",
      "                 coef    std err          t      P>|t|      [0.025      0.975]\n",
      "------------------------------------------------------------------------------\n",
      "const          4.9962      2.626      1.903      0.060      -0.215      10.207\n",
      "x1             3.9760      0.042     94.816      0.000       3.893       4.059\n",
      "==============================================================================\n",
      "Omnibus:                        0.940   Durbin-Watson:                   2.194\n",
      "Prob(Omnibus):                  0.625   Jarque-Bera (JB):                0.912\n",
      "Skew:                          -0.002   Prob(JB):                        0.634\n",
      "Kurtosis:                       2.532   Cond. No.                         347.\n",
      "==============================================================================\n",
      "\n",
      "Notes:\n",
      "[1] Standard Errors assume that the covariance matrix of the errors is correctly specified.\n"
     ]
    }
   ],
   "source": [
    "x_updated = sm.add_constant(x)\n",
    "model_updated = sm.OLS(y, x_updated).fit()\n",
    "print(model_updated.summary())"
   ]
  },
  {
   "cell_type": "code",
   "execution_count": 9,
   "id": "9147266c",
   "metadata": {},
   "outputs": [],
   "source": [
    "epsilon[0] = np.random.normal(mu, sigma, 1)\n",
    "for i in range(0,99):\n",
    "  epsilon[i+1] = 0.4*epsilon[i] + 0.6*np.random.normal(mu, sigma, 1)"
   ]
  },
  {
   "cell_type": "code",
   "execution_count": 10,
   "id": "179e65f2",
   "metadata": {},
   "outputs": [],
   "source": [
    "y = 3 + 4*x + epsilon"
   ]
  },
  {
   "cell_type": "code",
   "execution_count": 11,
   "id": "605557fc",
   "metadata": {},
   "outputs": [
    {
     "name": "stdout",
     "output_type": "stream",
     "text": [
      "                            OLS Regression Results                            \n",
      "==============================================================================\n",
      "Dep. Variable:                      y   R-squared:                       0.995\n",
      "Model:                            OLS   Adj. R-squared:                  0.995\n",
      "Method:                 Least Squares   F-statistic:                 2.041e+04\n",
      "Date:                Tue, 23 Sep 2025   Prob (F-statistic):          1.57e-115\n",
      "Time:                        20:51:38   Log-Likelihood:                -256.26\n",
      "No. Observations:                 100   AIC:                             516.5\n",
      "Df Residuals:                      98   BIC:                             521.7\n",
      "Df Model:                           1                                         \n",
      "Covariance Type:            nonrobust                                         \n",
      "==============================================================================\n",
      "                 coef    std err          t      P>|t|      [0.025      0.975]\n",
      "------------------------------------------------------------------------------\n",
      "const          2.5290      1.756      1.440      0.153      -0.956       6.014\n",
      "x1             4.0058      0.028    142.851      0.000       3.950       4.061\n",
      "==============================================================================\n",
      "Omnibus:                        0.433   Durbin-Watson:                   1.389\n",
      "Prob(Omnibus):                  0.805   Jarque-Bera (JB):                0.368\n",
      "Skew:                          -0.146   Prob(JB):                        0.832\n",
      "Kurtosis:                       2.942   Cond. No.                         347.\n",
      "==============================================================================\n",
      "\n",
      "Notes:\n",
      "[1] Standard Errors assume that the covariance matrix of the errors is correctly specified.\n"
     ]
    }
   ],
   "source": [
    "x_updated = sm.add_constant(x)\n",
    "model_OLS = sm.OLS(y,x_updated).fit()\n",
    "print(model_OLS.summary())"
   ]
  },
  {
   "cell_type": "code",
   "execution_count": 12,
   "id": "09bb2966",
   "metadata": {},
   "outputs": [],
   "source": [
    "from statsmodels.stats.diagnostic import het_breuschpagan"
   ]
  },
  {
   "cell_type": "code",
   "execution_count": 13,
   "id": "32208d77",
   "metadata": {},
   "outputs": [],
   "source": [
    "resid = model_OLS.resid\n",
    "exog = model_OLS.model.exog"
   ]
  },
  {
   "cell_type": "code",
   "execution_count": 14,
   "id": "96c02005",
   "metadata": {},
   "outputs": [],
   "source": [
    "lm_stat, lm_pvalue, f_stat, f_pvalue = het_breuschpagan(resid, exog)"
   ]
  },
  {
   "cell_type": "code",
   "execution_count": 15,
   "id": "76389645",
   "metadata": {},
   "outputs": [
    {
     "name": "stdout",
     "output_type": "stream",
     "text": [
      "0.32857004790518746\n"
     ]
    }
   ],
   "source": [
    "print(lm_pvalue)"
   ]
  },
  {
   "cell_type": "code",
   "execution_count": 16,
   "id": "0da59e30",
   "metadata": {},
   "outputs": [],
   "source": [
    "from scipy.linalg import toeplitz"
   ]
  },
  {
   "cell_type": "code",
   "execution_count": 18,
   "id": "c5720635",
   "metadata": {},
   "outputs": [
    {
     "data": {
      "text/plain": [
       "array([[1, 0, 5, 0, 0, 0, 0, 0, 0],\n",
       "       [0, 1, 0, 5, 0, 0, 0, 0, 0],\n",
       "       [5, 0, 1, 0, 5, 0, 0, 0, 0],\n",
       "       [0, 5, 0, 1, 0, 5, 0, 0, 0],\n",
       "       [0, 0, 5, 0, 1, 0, 5, 0, 0],\n",
       "       [0, 0, 0, 5, 0, 1, 0, 5, 0],\n",
       "       [0, 0, 0, 0, 5, 0, 1, 0, 5],\n",
       "       [0, 0, 0, 0, 0, 5, 0, 1, 0],\n",
       "       [0, 0, 0, 0, 0, 0, 5, 0, 1]])"
      ]
     },
     "execution_count": 18,
     "metadata": {},
     "output_type": "execute_result"
    }
   ],
   "source": [
    "toeplitz(np.array([1,0,5,0,0,0,0,0,0]))"
   ]
  },
  {
   "cell_type": "code",
   "execution_count": 19,
   "id": "2edc6c25",
   "metadata": {},
   "outputs": [],
   "source": [
    "rho = 0.4\n",
    "cov_matrix = sigma**2 * toeplitz(np.append([1,rho], np.zeros(98)))"
   ]
  },
  {
   "cell_type": "code",
   "execution_count": 21,
   "id": "d2d7edc6",
   "metadata": {},
   "outputs": [
    {
     "name": "stdout",
     "output_type": "stream",
     "text": [
      "                            GLS Regression Results                            \n",
      "==============================================================================\n",
      "Dep. Variable:                      y   R-squared:                       0.996\n",
      "Model:                            GLS   Adj. R-squared:                  0.996\n",
      "Method:                 Least Squares   F-statistic:                 2.496e+04\n",
      "Date:                Tue, 23 Sep 2025   Prob (F-statistic):          8.46e-120\n",
      "Time:                        21:01:47   Log-Likelihood:                -254.19\n",
      "No. Observations:                 100   AIC:                             512.4\n",
      "Df Residuals:                      98   BIC:                             517.6\n",
      "Df Model:                           1                                         \n",
      "Covariance Type:            nonrobust                                         \n",
      "==============================================================================\n",
      "                 coef    std err          t      P>|t|      [0.025      0.975]\n",
      "------------------------------------------------------------------------------\n",
      "const          4.1593      1.621      2.565      0.012       0.942       7.377\n",
      "x1             3.9792      0.025    157.989      0.000       3.929       4.029\n",
      "==============================================================================\n",
      "Omnibus:                        0.698   Durbin-Watson:                   2.387\n",
      "Prob(Omnibus):                  0.705   Jarque-Bera (JB):                0.818\n",
      "Skew:                          -0.175   Prob(JB):                        0.664\n",
      "Kurtosis:                       2.729   Cond. No.                         225.\n",
      "==============================================================================\n",
      "\n",
      "Notes:\n",
      "[1] Standard Errors assume that the covariance matrix of the errors is correctly specified.\n"
     ]
    }
   ],
   "source": [
    "print(sm.GLS(y,x_updated,cov_matrix).fit().summary())"
   ]
  },
  {
   "cell_type": "code",
   "execution_count": 22,
   "id": "829cf76e",
   "metadata": {},
   "outputs": [],
   "source": [
    "df = pd.read_csv('https://raw.githubusercontent.com/delinai/schulich_ds1/refs/heads/main/Datasets/kc_house_data.csv')"
   ]
  },
  {
   "cell_type": "code",
   "execution_count": 23,
   "id": "bf589d38",
   "metadata": {},
   "outputs": [],
   "source": [
    "x = df.iloc[:,3:]\n",
    "y = df['price']"
   ]
  },
  {
   "cell_type": "code",
   "execution_count": 24,
   "id": "d558d98c",
   "metadata": {},
   "outputs": [
    {
     "name": "stdout",
     "output_type": "stream",
     "text": [
      "                                 OLS Regression Results                                \n",
      "=======================================================================================\n",
      "Dep. Variable:                  price   R-squared (uncentered):                   0.905\n",
      "Model:                            OLS   Adj. R-squared (uncentered):              0.905\n",
      "Method:                 Least Squares   F-statistic:                          1.211e+04\n",
      "Date:                Tue, 23 Sep 2025   Prob (F-statistic):                        0.00\n",
      "Time:                        21:11:44   Log-Likelihood:                     -2.9461e+05\n",
      "No. Observations:               21613   AIC:                                  5.892e+05\n",
      "Df Residuals:                   21596   BIC:                                  5.894e+05\n",
      "Df Model:                          17                                                  \n",
      "Covariance Type:            nonrobust                                                  \n",
      "=================================================================================\n",
      "                    coef    std err          t      P>|t|      [0.025      0.975]\n",
      "---------------------------------------------------------------------------------\n",
      "bedrooms      -3.551e+04   1888.716    -18.802      0.000   -3.92e+04   -3.18e+04\n",
      "bathrooms      4.105e+04   3253.759     12.618      0.000    3.47e+04    4.74e+04\n",
      "sqft_living     110.2642      2.268     48.607      0.000     105.818     114.711\n",
      "sqft_lot          0.1334      0.048      2.786      0.005       0.040       0.227\n",
      "floors         5261.5471   3541.347      1.486      0.137   -1679.755    1.22e+04\n",
      "waterfront     5.833e+05   1.74e+04     33.598      0.000    5.49e+05    6.17e+05\n",
      "view           5.236e+04   2128.298     24.600      0.000    4.82e+04    5.65e+04\n",
      "condition      2.721e+04   2323.818     11.709      0.000    2.27e+04    3.18e+04\n",
      "grade          9.548e+04   2145.492     44.503      0.000    9.13e+04    9.97e+04\n",
      "sqft_above       71.3928      2.238     31.902      0.000      67.006      75.779\n",
      "sqft_basement    38.8714      2.624     14.813      0.000      33.728      44.015\n",
      "yr_built      -2561.7953     68.006    -37.670      0.000   -2695.092   -2428.498\n",
      "yr_renovated     20.4187      3.646      5.600      0.000      13.272      27.566\n",
      "zipcode        -519.0756     17.826    -29.119      0.000    -554.016    -484.136\n",
      "lat            6.022e+05   1.07e+04     56.106      0.000    5.81e+05    6.23e+05\n",
      "long          -2.179e+05   1.31e+04    -16.683      0.000   -2.44e+05   -1.92e+05\n",
      "sqft_living15    23.0994      3.392      6.811      0.000      16.452      29.747\n",
      "sqft_lot15       -0.3761      0.073     -5.137      0.000      -0.520      -0.233\n",
      "==============================================================================\n",
      "Omnibus:                    18403.146   Durbin-Watson:                   1.991\n",
      "Prob(Omnibus):                  0.000   Jarque-Bera (JB):          1873534.498\n",
      "Skew:                           3.572   Prob(JB):                         0.00\n",
      "Kurtosis:                      48.049   Cond. No.                     2.99e+17\n",
      "==============================================================================\n",
      "\n",
      "Notes:\n",
      "[1] R² is computed without centering (uncentered) since the model does not contain a constant.\n",
      "[2] Standard Errors assume that the covariance matrix of the errors is correctly specified.\n",
      "[3] The smallest eigenvalue is 2.44e-21. This might indicate that there are\n",
      "strong multicollinearity problems or that the design matrix is singular.\n"
     ]
    }
   ],
   "source": [
    "model_houses = sm.OLS(y,x).fit()\n",
    "print(model_houses.summary())"
   ]
  },
  {
   "cell_type": "code",
   "execution_count": 25,
   "id": "71a0591f",
   "metadata": {},
   "outputs": [
    {
     "name": "stdout",
     "output_type": "stream",
     "text": [
      "                            OLS Regression Results                            \n",
      "==============================================================================\n",
      "Dep. Variable:                  price   R-squared:                       0.700\n",
      "Model:                            OLS   Adj. R-squared:                  0.700\n",
      "Method:                 Least Squares   F-statistic:                     2960.\n",
      "Date:                Tue, 23 Sep 2025   Prob (F-statistic):               0.00\n",
      "Time:                        21:11:56   Log-Likelihood:            -2.9460e+05\n",
      "No. Observations:               21613   AIC:                         5.892e+05\n",
      "Df Residuals:                   21595   BIC:                         5.894e+05\n",
      "Df Model:                          17                                         \n",
      "Covariance Type:            nonrobust                                         \n",
      "=================================================================================\n",
      "                    coef    std err          t      P>|t|      [0.025      0.975]\n",
      "---------------------------------------------------------------------------------\n",
      "const           6.69e+06   2.93e+06      2.282      0.022    9.44e+05    1.24e+07\n",
      "bedrooms      -3.577e+04   1891.843    -18.906      0.000   -3.95e+04   -3.21e+04\n",
      "bathrooms      4.114e+04   3253.678     12.645      0.000    3.48e+04    4.75e+04\n",
      "sqft_living     110.4401      2.270     48.661      0.000     105.992     114.889\n",
      "sqft_lot          0.1286      0.048      2.683      0.007       0.035       0.223\n",
      "floors         6689.5501   3595.859      1.860      0.063    -358.599    1.37e+04\n",
      "waterfront      5.83e+05   1.74e+04     33.580      0.000    5.49e+05    6.17e+05\n",
      "view           5.287e+04   2140.055     24.705      0.000    4.87e+04    5.71e+04\n",
      "condition      2.639e+04   2351.461     11.221      0.000    2.18e+04     3.1e+04\n",
      "grade          9.589e+04   2152.789     44.542      0.000    9.17e+04       1e+05\n",
      "sqft_above       70.7880      2.253     31.415      0.000      66.371      75.205\n",
      "sqft_basement    39.6604      2.647     14.985      0.000      34.473      44.848\n",
      "yr_built      -2620.2232     72.659    -36.062      0.000   -2762.640   -2477.806\n",
      "yr_renovated     19.8126      3.656      5.420      0.000      12.647      26.978\n",
      "zipcode        -582.4199     32.986    -17.657      0.000    -647.074    -517.765\n",
      "lat            6.027e+05   1.07e+04     56.149      0.000    5.82e+05    6.24e+05\n",
      "long          -2.147e+05   1.31e+04    -16.349      0.000    -2.4e+05   -1.89e+05\n",
      "sqft_living15    21.6814      3.448      6.289      0.000      14.924      28.439\n",
      "sqft_lot15       -0.3826      0.073     -5.222      0.000      -0.526      -0.239\n",
      "==============================================================================\n",
      "Omnibus:                    18384.201   Durbin-Watson:                   1.990\n",
      "Prob(Omnibus):                  0.000   Jarque-Bera (JB):          1868224.491\n",
      "Skew:                           3.566   Prob(JB):                         0.00\n",
      "Kurtosis:                      47.985   Cond. No.                     3.35e+17\n",
      "==============================================================================\n",
      "\n",
      "Notes:\n",
      "[1] Standard Errors assume that the covariance matrix of the errors is correctly specified.\n",
      "[2] The smallest eigenvalue is 1.95e-21. This might indicate that there are\n",
      "strong multicollinearity problems or that the design matrix is singular.\n"
     ]
    }
   ],
   "source": [
    "x = df.iloc[:,3:]\n",
    "y = df['price']\n",
    "x = sm.add_constant(x)\n",
    "model_houses = sm.OLS(y,x).fit()\n",
    "print(model_houses.summary())"
   ]
  },
  {
   "cell_type": "code",
   "execution_count": 26,
   "id": "3a6bce6a",
   "metadata": {},
   "outputs": [
    {
     "name": "stdout",
     "output_type": "stream",
     "text": [
      "0.0\n"
     ]
    }
   ],
   "source": [
    "resid = model_houses.resid\n",
    "exog = model_houses.model.exog\n",
    "lm_stat, lm_pvalue, f_stat, f_pvalue = het_breuschpagan(resid, exog)\n",
    "print(f_pvalue)"
   ]
  },
  {
   "cell_type": "code",
   "execution_count": 27,
   "id": "a67edd09",
   "metadata": {},
   "outputs": [
    {
     "name": "stdout",
     "output_type": "stream",
     "text": [
      "                            OLS Regression Results                            \n",
      "==============================================================================\n",
      "Dep. Variable:                  price   R-squared:                       0.700\n",
      "Model:                            OLS   Adj. R-squared:                  0.700\n",
      "Method:                 Least Squares   F-statistic:                     1015.\n",
      "Date:                Tue, 23 Sep 2025   Prob (F-statistic):               0.00\n",
      "Time:                        21:24:18   Log-Likelihood:            -2.9460e+05\n",
      "No. Observations:               21613   AIC:                         5.892e+05\n",
      "Df Residuals:                   21595   BIC:                         5.894e+05\n",
      "Df Model:                          17                                         \n",
      "Covariance Type:                  HC3                                         \n",
      "=================================================================================\n",
      "                    coef    std err          t      P>|t|      [0.025      0.975]\n",
      "---------------------------------------------------------------------------------\n",
      "const           6.69e+06   2.96e+06      2.258      0.024    8.82e+05    1.25e+07\n",
      "bedrooms      -3.577e+04   4670.070     -7.659      0.000   -4.49e+04   -2.66e+04\n",
      "bathrooms      4.114e+04   5254.583      7.830      0.000    3.08e+04    5.14e+04\n",
      "sqft_living     110.4401      7.338     15.051      0.000      96.058     124.822\n",
      "sqft_lot          0.1286      0.064      2.025      0.043       0.004       0.253\n",
      "floors         6689.5501   5057.095      1.323      0.186   -3222.730    1.66e+04\n",
      "waterfront      5.83e+05   6.07e+04      9.608      0.000    4.64e+05    7.02e+05\n",
      "view           5.287e+04   3965.545     13.333      0.000    4.51e+04    6.06e+04\n",
      "condition      2.639e+04   2363.761     11.163      0.000    2.18e+04     3.1e+04\n",
      "grade          9.589e+04   3182.870     30.127      0.000    8.97e+04    1.02e+05\n",
      "sqft_above       70.7880      5.874     12.050      0.000      59.274      82.302\n",
      "sqft_basement    39.6604      5.099      7.779      0.000      29.667      49.654\n",
      "yr_built      -2620.2232     91.519    -28.630      0.000   -2799.608   -2440.839\n",
      "yr_renovated     19.8126      5.592      3.543      0.000       8.851      30.774\n",
      "zipcode        -582.4199     37.489    -15.536      0.000    -655.902    -508.938\n",
      "lat            6.027e+05   9880.958     61.001      0.000    5.83e+05    6.22e+05\n",
      "long          -2.147e+05   1.45e+04    -14.768      0.000   -2.43e+05   -1.86e+05\n",
      "sqft_living15    21.6814      7.118      3.046      0.002       7.730      35.633\n",
      "sqft_lot15       -0.3826      0.077     -4.939      0.000      -0.534      -0.231\n",
      "==============================================================================\n",
      "Omnibus:                    18384.201   Durbin-Watson:                   1.990\n",
      "Prob(Omnibus):                  0.000   Jarque-Bera (JB):          1868224.491\n",
      "Skew:                           3.566   Prob(JB):                         0.00\n",
      "Kurtosis:                      47.985   Cond. No.                     3.35e+17\n",
      "==============================================================================\n",
      "\n",
      "Notes:\n",
      "[1] Standard Errors are heteroscedasticity robust (HC3)\n",
      "[2] The smallest eigenvalue is 1.95e-21. This might indicate that there are\n",
      "strong multicollinearity problems or that the design matrix is singular.\n"
     ]
    },
    {
     "name": "stderr",
     "output_type": "stream",
     "text": [
      "c:\\Users\\q\\AppData\\Local\\Programs\\Python\\Python38\\lib\\site-packages\\statsmodels\\base\\model.py:1896: ValueWarning: covariance of constraints does not have full rank. The number of constraints is 18, but rank is 17\n",
      "  warnings.warn('covariance of constraints does not have full '\n"
     ]
    }
   ],
   "source": [
    "print(model_houses.get_robustcov_results(cov_type='HC3').summary())"
   ]
  }
 ],
 "metadata": {
  "kernelspec": {
   "display_name": "Python 3",
   "language": "python",
   "name": "python3"
  },
  "language_info": {
   "codemirror_mode": {
    "name": "ipython",
    "version": 3
   },
   "file_extension": ".py",
   "mimetype": "text/x-python",
   "name": "python",
   "nbconvert_exporter": "python",
   "pygments_lexer": "ipython3",
   "version": "3.8.7"
  }
 },
 "nbformat": 4,
 "nbformat_minor": 5
}
