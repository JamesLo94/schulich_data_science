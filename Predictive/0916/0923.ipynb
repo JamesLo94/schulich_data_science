{
 "cells": [
  {
   "cell_type": "code",
   "execution_count": 1,
   "id": "7884ba91",
   "metadata": {},
   "outputs": [],
   "source": [
    "import numpy as np\n",
    "import pandas as pd\n",
    "import matplotlib.pyplot as plt\n",
    "import statsmodels.api as sm"
   ]
  },
  {
   "cell_type": "code",
   "execution_count": 2,
   "id": "7669ab47",
   "metadata": {},
   "outputs": [],
   "source": [
    "mu, sigma = 0, 5\n",
    "x = np.random.uniform(40,80,100)\n",
    "epsilon = np.random.normal(mu, sigma, 100)\n",
    "y = 3 + 4*x + epsilon"
   ]
  },
  {
   "cell_type": "code",
   "execution_count": 6,
   "id": "81758561",
   "metadata": {},
   "outputs": [],
   "source": [
    "model_reg = sm.OLS(y,x).fit()"
   ]
  },
  {
   "cell_type": "code",
   "execution_count": null,
   "id": "a80845cd",
   "metadata": {},
   "outputs": [
    {
     "name": "stdout",
     "output_type": "stream",
     "text": [
      "                                 OLS Regression Results                                \n",
      "=======================================================================================\n",
      "Dep. Variable:                      y   R-squared (uncentered):                   1.000\n",
      "Model:                            OLS   Adj. R-squared (uncentered):              1.000\n",
      "Method:                 Least Squares   F-statistic:                          2.795e+05\n",
      "Date:                Tue, 23 Sep 2025   Prob (F-statistic):                   1.22e-172\n",
      "Time:                        20:41:11   Log-Likelihood:                         -298.31\n",
      "No. Observations:                 100   AIC:                                      598.6\n",
      "Df Residuals:                      99   BIC:                                      601.2\n",
      "Df Model:                           1                                                  \n",
      "Covariance Type:            nonrobust                                                  \n",
      "==============================================================================\n",
      "                 coef    std err          t      P>|t|      [0.025      0.975]\n",
      "------------------------------------------------------------------------------\n",
      "x1             4.0545      0.008    528.657      0.000       4.039       4.070\n",
      "==============================================================================\n",
      "Omnibus:                        0.374   Durbin-Watson:                   2.192\n",
      "Prob(Omnibus):                  0.830   Jarque-Bera (JB):                0.537\n",
      "Skew:                          -0.099   Prob(JB):                        0.764\n",
      "Kurtosis:                       2.700   Cond. No.                         1.00\n",
      "==============================================================================\n",
      "\n",
      "Notes:\n",
      "[1] R² is computed without centering (uncentered) since the model does not contain a constant.\n",
      "[2] Standard Errors assume that the covariance matrix of the errors is correctly specified.\n"
     ]
    }
   ],
   "source": [
    "print(model_reg.summary())\n",
    "# what is Durbin-Watson? the range should be 2~4 and what does it mean?\n",
    "# what kind of insight can I find out based on the summary?"
   ]
  },
  {
   "cell_type": "code",
   "execution_count": 8,
   "id": "393d102e",
   "metadata": {},
   "outputs": [
    {
     "name": "stdout",
     "output_type": "stream",
     "text": [
      "                            OLS Regression Results                            \n",
      "==============================================================================\n",
      "Dep. Variable:                      y   R-squared:                       0.989\n",
      "Model:                            OLS   Adj. R-squared:                  0.989\n",
      "Method:                 Least Squares   F-statistic:                     8990.\n",
      "Date:                Tue, 23 Sep 2025   Prob (F-statistic):           3.25e-98\n",
      "Time:                        20:49:04   Log-Likelihood:                -296.50\n",
      "No. Observations:                 100   AIC:                             597.0\n",
      "Df Residuals:                      98   BIC:                             602.2\n",
      "Df Model:                           1                                         \n",
      "Covariance Type:            nonrobust                                         \n",
      "==============================================================================\n",
      "                 coef    std err          t      P>|t|      [0.025      0.975]\n",
      "------------------------------------------------------------------------------\n",
      "const          4.9962      2.626      1.903      0.060      -0.215      10.207\n",
      "x1             3.9760      0.042     94.816      0.000       3.893       4.059\n",
      "==============================================================================\n",
      "Omnibus:                        0.940   Durbin-Watson:                   2.194\n",
      "Prob(Omnibus):                  0.625   Jarque-Bera (JB):                0.912\n",
      "Skew:                          -0.002   Prob(JB):                        0.634\n",
      "Kurtosis:                       2.532   Cond. No.                         347.\n",
      "==============================================================================\n",
      "\n",
      "Notes:\n",
      "[1] Standard Errors assume that the covariance matrix of the errors is correctly specified.\n"
     ]
    }
   ],
   "source": [
    "x_updated = sm.add_constant(x)\n",
    "model_updated = sm.OLS(y, x_updated).fit()\n",
    "print(model_updated.summary())"
   ]
  },
  {
   "cell_type": "code",
   "execution_count": 9,
   "id": "9147266c",
   "metadata": {},
   "outputs": [],
   "source": [
    "epsilon[0] = np.random.normal(mu, sigma, 1)\n",
    "for i in range(0,99):\n",
    "  epsilon[i+1] = 0.4*epsilon[i] + 0.6*np.random.normal(mu, sigma, 1)"
   ]
  },
  {
   "cell_type": "code",
   "execution_count": 10,
   "id": "179e65f2",
   "metadata": {},
   "outputs": [],
   "source": [
    "y = 3 + 4*x + epsilon"
   ]
  },
  {
   "cell_type": "code",
   "execution_count": 11,
   "id": "605557fc",
   "metadata": {},
   "outputs": [
    {
     "name": "stdout",
     "output_type": "stream",
     "text": [
      "                            OLS Regression Results                            \n",
      "==============================================================================\n",
      "Dep. Variable:                      y   R-squared:                       0.995\n",
      "Model:                            OLS   Adj. R-squared:                  0.995\n",
      "Method:                 Least Squares   F-statistic:                 2.041e+04\n",
      "Date:                Tue, 23 Sep 2025   Prob (F-statistic):          1.57e-115\n",
      "Time:                        20:51:38   Log-Likelihood:                -256.26\n",
      "No. Observations:                 100   AIC:                             516.5\n",
      "Df Residuals:                      98   BIC:                             521.7\n",
      "Df Model:                           1                                         \n",
      "Covariance Type:            nonrobust                                         \n",
      "==============================================================================\n",
      "                 coef    std err          t      P>|t|      [0.025      0.975]\n",
      "------------------------------------------------------------------------------\n",
      "const          2.5290      1.756      1.440      0.153      -0.956       6.014\n",
      "x1             4.0058      0.028    142.851      0.000       3.950       4.061\n",
      "==============================================================================\n",
      "Omnibus:                        0.433   Durbin-Watson:                   1.389\n",
      "Prob(Omnibus):                  0.805   Jarque-Bera (JB):                0.368\n",
      "Skew:                          -0.146   Prob(JB):                        0.832\n",
      "Kurtosis:                       2.942   Cond. No.                         347.\n",
      "==============================================================================\n",
      "\n",
      "Notes:\n",
      "[1] Standard Errors assume that the covariance matrix of the errors is correctly specified.\n"
     ]
    }
   ],
   "source": [
    "x_updated = sm.add_constant(x)\n",
    "model_OLS = sm.OLS(y,x_updated).fit()\n",
    "print(model_OLS.summary())"
   ]
  },
  {
   "cell_type": "code",
   "execution_count": 12,
   "id": "09bb2966",
   "metadata": {},
   "outputs": [],
   "source": [
    "from statsmodels.stats.diagnostic import het_breuschpagan"
   ]
  },
  {
   "cell_type": "code",
   "execution_count": 13,
   "id": "32208d77",
   "metadata": {},
   "outputs": [],
   "source": [
    "resid = model_OLS.resid\n",
    "exog = model_OLS.model.exog"
   ]
  },
  {
   "cell_type": "code",
   "execution_count": 14,
   "id": "96c02005",
   "metadata": {},
   "outputs": [],
   "source": [
    "lm_stat, lm_pvalue, f_stat, f_pvalue = het_breuschpagan(resid, exog)"
   ]
  },
  {
   "cell_type": "code",
   "execution_count": 15,
   "id": "76389645",
   "metadata": {},
   "outputs": [
    {
     "name": "stdout",
     "output_type": "stream",
     "text": [
      "0.32857004790518746\n"
     ]
    }
   ],
   "source": [
    "print(lm_pvalue)"
   ]
  },
  {
   "cell_type": "code",
   "execution_count": 16,
   "id": "0da59e30",
   "metadata": {},
   "outputs": [],
   "source": [
    "from scipy.linalg import toeplitz"
   ]
  },
  {
   "cell_type": "code",
   "execution_count": 18,
   "id": "c5720635",
   "metadata": {},
   "outputs": [
    {
     "data": {
      "text/plain": [
       "array([[1, 0, 5, 0, 0, 0, 0, 0, 0],\n",
       "       [0, 1, 0, 5, 0, 0, 0, 0, 0],\n",
       "       [5, 0, 1, 0, 5, 0, 0, 0, 0],\n",
       "       [0, 5, 0, 1, 0, 5, 0, 0, 0],\n",
       "       [0, 0, 5, 0, 1, 0, 5, 0, 0],\n",
       "       [0, 0, 0, 5, 0, 1, 0, 5, 0],\n",
       "       [0, 0, 0, 0, 5, 0, 1, 0, 5],\n",
       "       [0, 0, 0, 0, 0, 5, 0, 1, 0],\n",
       "       [0, 0, 0, 0, 0, 0, 5, 0, 1]])"
      ]
     },
     "execution_count": 18,
     "metadata": {},
     "output_type": "execute_result"
    }
   ],
   "source": [
    "toeplitz(np.array([1,0,5,0,0,0,0,0,0]))"
   ]
  },
  {
   "cell_type": "code",
   "execution_count": 19,
   "id": "2edc6c25",
   "metadata": {},
   "outputs": [],
   "source": [
    "rho = 0.4\n",
    "cov_matrix = sigma**2 * toeplitz(np.append([1,rho], np.zeros(98)))"
   ]
  },
  {
   "cell_type": "code",
   "execution_count": null,
   "id": "d2d7edc6",
   "metadata": {},
   "outputs": [],
   "source": []
  }
 ],
 "metadata": {
  "kernelspec": {
   "display_name": "Python 3",
   "language": "python",
   "name": "python3"
  },
  "language_info": {
   "codemirror_mode": {
    "name": "ipython",
    "version": 3
   },
   "file_extension": ".py",
   "mimetype": "text/x-python",
   "name": "python",
   "nbconvert_exporter": "python",
   "pygments_lexer": "ipython3",
   "version": "3.8.7"
  }
 },
 "nbformat": 4,
 "nbformat_minor": 5
}
