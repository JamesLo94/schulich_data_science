{
  "nbformat": 4,
  "nbformat_minor": 0,
  "metadata": {
    "colab": {
      "provenance": []
    },
    "kernelspec": {
      "name": "python3",
      "display_name": "Python 3"
    },
    "language_info": {
      "name": "python"
    }
  },
  "cells": [
    {
      "cell_type": "code",
      "execution_count": 1,
      "metadata": {
        "id": "EEMoem1AJk4B"
      },
      "outputs": [],
      "source": [
        "import numpy as np\n",
        "import pandas as pd\n",
        "import matplotlib.pyplot as plt\n",
        "import statsmodels.api as sm"
      ]
    },
    {
      "cell_type": "code",
      "source": [
        "mu, sigma = 0, 5\n",
        "x = np.random.uniform(40,80,100)\n",
        "epsilon = np.random.normal(mu, sigma, 100)\n",
        "y = 3 + 4*x + epsilon"
      ],
      "metadata": {
        "id": "bhlgIJeKKECh"
      },
      "execution_count": 2,
      "outputs": []
    },
    {
      "cell_type": "code",
      "source": [
        "model_reg = sm.OLS(y,x).fit()"
      ],
      "metadata": {
        "id": "P6Xgjj-nKYQv"
      },
      "execution_count": 3,
      "outputs": []
    },
    {
      "cell_type": "code",
      "source": [
        "print(model_reg.summary())"
      ],
      "metadata": {
        "colab": {
          "base_uri": "https://localhost:8080/"
        },
        "id": "NlPZlVD4KdlC",
        "outputId": "cb8615a7-cefa-4942-9e48-13284046fb85"
      },
      "execution_count": 6,
      "outputs": [
        {
          "output_type": "stream",
          "name": "stdout",
          "text": [
            "                                 OLS Regression Results                                \n",
            "=======================================================================================\n",
            "Dep. Variable:                      y   R-squared (uncentered):                   1.000\n",
            "Model:                            OLS   Adj. R-squared (uncentered):              1.000\n",
            "Method:                 Least Squares   F-statistic:                          2.888e+05\n",
            "Date:                Wed, 24 Sep 2025   Prob (F-statistic):                   2.39e-173\n",
            "Time:                        00:40:30   Log-Likelihood:                         -296.51\n",
            "No. Observations:                 100   AIC:                                      595.0\n",
            "Df Residuals:                      99   BIC:                                      597.6\n",
            "Df Model:                           1                                                  \n",
            "Covariance Type:            nonrobust                                                  \n",
            "==============================================================================\n",
            "                 coef    std err          t      P>|t|      [0.025      0.975]\n",
            "------------------------------------------------------------------------------\n",
            "x1             4.0479      0.008    537.417      0.000       4.033       4.063\n",
            "==============================================================================\n",
            "Omnibus:                        0.891   Durbin-Watson:                   1.917\n",
            "Prob(Omnibus):                  0.641   Jarque-Bera (JB):                0.884\n",
            "Skew:                          -0.012   Prob(JB):                        0.643\n",
            "Kurtosis:                       2.540   Cond. No.                         1.00\n",
            "==============================================================================\n",
            "\n",
            "Notes:\n",
            "[1] R² is computed without centering (uncentered) since the model does not contain a constant.\n",
            "[2] Standard Errors assume that the covariance matrix of the errors is correctly specified.\n"
          ]
        }
      ]
    },
    {
      "cell_type": "code",
      "source": [
        "x_updated = sm.add_constant(x)\n",
        "model_updated = sm.OLS(y, x_updated).fit()\n",
        "print(model_updated.summary())"
      ],
      "metadata": {
        "colab": {
          "base_uri": "https://localhost:8080/"
        },
        "id": "K8q_k-XzKe2w",
        "outputId": "404ce286-a80e-44aa-ec23-f7244a422568"
      },
      "execution_count": 8,
      "outputs": [
        {
          "output_type": "stream",
          "name": "stdout",
          "text": [
            "                            OLS Regression Results                            \n",
            "==============================================================================\n",
            "Dep. Variable:                      y   R-squared:                       0.990\n",
            "Model:                            OLS   Adj. R-squared:                  0.989\n",
            "Method:                 Least Squares   F-statistic:                     9251.\n",
            "Date:                Wed, 24 Sep 2025   Prob (F-statistic):           8.12e-99\n",
            "Time:                        00:48:51   Log-Likelihood:                -296.43\n",
            "No. Observations:                 100   AIC:                             596.9\n",
            "Df Residuals:                      98   BIC:                             602.1\n",
            "Df Model:                           1                                         \n",
            "Covariance Type:            nonrobust                                         \n",
            "==============================================================================\n",
            "                 coef    std err          t      P>|t|      [0.025      0.975]\n",
            "------------------------------------------------------------------------------\n",
            "const          0.9841      2.625      0.375      0.709      -4.226       6.194\n",
            "x1             4.0324      0.042     96.183      0.000       3.949       4.116\n",
            "==============================================================================\n",
            "Omnibus:                        0.877   Durbin-Watson:                   1.913\n",
            "Prob(Omnibus):                  0.645   Jarque-Bera (JB):                0.884\n",
            "Skew:                          -0.042   Prob(JB):                        0.643\n",
            "Kurtosis:                       2.547   Cond. No.                         347.\n",
            "==============================================================================\n",
            "\n",
            "Notes:\n",
            "[1] Standard Errors assume that the covariance matrix of the errors is correctly specified.\n"
          ]
        }
      ]
    },
    {
      "cell_type": "code",
      "source": [
        "epsilon[0] = np.random.normal(mu, sigma, 1)\n",
        "for i in range(0,99):\n",
        "  epsilon[i+1] = 0.4*epsilon[i] + 0.6*np.random.normal(mu, sigma, 1)"
      ],
      "metadata": {
        "colab": {
          "base_uri": "https://localhost:8080/"
        },
        "id": "WXhVbgEOMbxa",
        "outputId": "61e943ec-b4ba-4958-fdf5-51ff13e06ed7"
      },
      "execution_count": 9,
      "outputs": [
        {
          "output_type": "stream",
          "name": "stderr",
          "text": [
            "/tmp/ipython-input-2748598615.py:1: DeprecationWarning: Conversion of an array with ndim > 0 to a scalar is deprecated, and will error in future. Ensure you extract a single element from your array before performing this operation. (Deprecated NumPy 1.25.)\n",
            "  epsilon[0] = np.random.normal(mu, sigma, 1)\n",
            "/tmp/ipython-input-2748598615.py:3: DeprecationWarning: Conversion of an array with ndim > 0 to a scalar is deprecated, and will error in future. Ensure you extract a single element from your array before performing this operation. (Deprecated NumPy 1.25.)\n",
            "  epsilon[i+1] = 0.4*epsilon[i] + 0.6*np.random.normal(mu, sigma, 1)\n"
          ]
        }
      ]
    },
    {
      "cell_type": "code",
      "source": [
        "y = 3 + 4*x + epsilon\n"
      ],
      "metadata": {
        "id": "ulSRG1PrM2En"
      },
      "execution_count": 10,
      "outputs": []
    },
    {
      "cell_type": "code",
      "source": [
        "x_updated = sm.add_constant(x)\n",
        "model_OLS = sm.OLS(y,x_updated).fit()\n",
        "print(model_OLS.summary())"
      ],
      "metadata": {
        "colab": {
          "base_uri": "https://localhost:8080/"
        },
        "id": "L72_dmq-M7Mt",
        "outputId": "ffcfdfdf-63cf-4b01-a756-93449597d630"
      },
      "execution_count": 11,
      "outputs": [
        {
          "output_type": "stream",
          "name": "stdout",
          "text": [
            "                            OLS Regression Results                            \n",
            "==============================================================================\n",
            "Dep. Variable:                      y   R-squared:                       0.997\n",
            "Model:                            OLS   Adj. R-squared:                  0.997\n",
            "Method:                 Least Squares   F-statistic:                 2.997e+04\n",
            "Date:                Wed, 24 Sep 2025   Prob (F-statistic):          1.12e-123\n",
            "Time:                        00:51:06   Log-Likelihood:                -237.22\n",
            "No. Observations:                 100   AIC:                             478.4\n",
            "Df Residuals:                      98   BIC:                             483.6\n",
            "Df Model:                           1                                         \n",
            "Covariance Type:            nonrobust                                         \n",
            "==============================================================================\n",
            "                 coef    std err          t      P>|t|      [0.025      0.975]\n",
            "------------------------------------------------------------------------------\n",
            "const          2.0050      1.452      1.381      0.171      -0.877       4.887\n",
            "x1             4.0143      0.023    173.113      0.000       3.968       4.060\n",
            "==============================================================================\n",
            "Omnibus:                        5.727   Durbin-Watson:                   1.504\n",
            "Prob(Omnibus):                  0.057   Jarque-Bera (JB):                2.708\n",
            "Skew:                           0.076   Prob(JB):                        0.258\n",
            "Kurtosis:                       2.208   Cond. No.                         347.\n",
            "==============================================================================\n",
            "\n",
            "Notes:\n",
            "[1] Standard Errors assume that the covariance matrix of the errors is correctly specified.\n"
          ]
        }
      ]
    },
    {
      "cell_type": "code",
      "source": [
        "from statsmodels.stats.diagnostic import het_breuschpagan"
      ],
      "metadata": {
        "id": "0Hc3BWUrM9_q"
      },
      "execution_count": 12,
      "outputs": []
    },
    {
      "cell_type": "code",
      "source": [
        "resid = model_OLS.resid\n",
        "exog = model_OLS.model.exog\n",
        "lm_stat, lm_pvalue, f_stat, f_pvalue = het_breuschpagan(resid, exog)\n",
        "print(f_pvalue)"
      ],
      "metadata": {
        "id": "QKfonGdmNskM"
      },
      "execution_count": 13,
      "outputs": []
    },
    {
      "cell_type": "code",
      "source": [
        "lm_stat, lm_pvalue, f_stat, f_pvalue = het_breuschpagan(resid, exog)"
      ],
      "metadata": {
        "id": "Ww6HGbosNzEs"
      },
      "execution_count": 14,
      "outputs": []
    },
    {
      "cell_type": "code",
      "source": [
        "print(lm_pvalue)"
      ],
      "metadata": {
        "colab": {
          "base_uri": "https://localhost:8080/"
        },
        "id": "9YPxnPToN3Mp",
        "outputId": "3f4f6bd1-585a-45a2-891d-a9f7b8f1750d"
      },
      "execution_count": 15,
      "outputs": [
        {
          "output_type": "stream",
          "name": "stdout",
          "text": [
            "0.21908486038972702\n"
          ]
        }
      ]
    },
    {
      "cell_type": "code",
      "source": [
        "print(f_pvalue)"
      ],
      "metadata": {
        "colab": {
          "base_uri": "https://localhost:8080/"
        },
        "id": "JgUKYmG8N6sf",
        "outputId": "e2275ef2-acfd-401c-d29f-bdb157fbbd6a"
      },
      "execution_count": 16,
      "outputs": [
        {
          "output_type": "stream",
          "name": "stdout",
          "text": [
            "0.22317161547155306\n"
          ]
        }
      ]
    },
    {
      "cell_type": "code",
      "source": [
        "from scipy.linalg import toeplitz"
      ],
      "metadata": {
        "id": "f1nuhQnDOKK2"
      },
      "execution_count": 17,
      "outputs": []
    },
    {
      "cell_type": "code",
      "source": [
        "toeplitz(np.array([1,0.5,0,0,0,0,0,0]))\n"
      ],
      "metadata": {
        "colab": {
          "base_uri": "https://localhost:8080/"
        },
        "id": "ZSah_5-hOtyo",
        "outputId": "98f81bd2-fc33-47bc-ad0b-1076fbf0cca1"
      },
      "execution_count": 18,
      "outputs": [
        {
          "output_type": "execute_result",
          "data": {
            "text/plain": [
              "array([[1. , 0.5, 0. , 0. , 0. , 0. , 0. , 0. ],\n",
              "       [0.5, 1. , 0.5, 0. , 0. , 0. , 0. , 0. ],\n",
              "       [0. , 0.5, 1. , 0.5, 0. , 0. , 0. , 0. ],\n",
              "       [0. , 0. , 0.5, 1. , 0.5, 0. , 0. , 0. ],\n",
              "       [0. , 0. , 0. , 0.5, 1. , 0.5, 0. , 0. ],\n",
              "       [0. , 0. , 0. , 0. , 0.5, 1. , 0.5, 0. ],\n",
              "       [0. , 0. , 0. , 0. , 0. , 0.5, 1. , 0.5],\n",
              "       [0. , 0. , 0. , 0. , 0. , 0. , 0.5, 1. ]])"
            ]
          },
          "metadata": {},
          "execution_count": 18
        }
      ]
    },
    {
      "cell_type": "code",
      "source": [
        "rho = 0.4\n",
        "cov_matrix = sigma**2 * toeplitz(np.append([1,rho], np.zeros(98)))"
      ],
      "metadata": {
        "id": "ZTClfLJKOw4O"
      },
      "execution_count": 19,
      "outputs": []
    },
    {
      "cell_type": "code",
      "source": [
        "print(sm.GLS(y,x_updated,cov_matrix).fit().summary())\n"
      ],
      "metadata": {
        "colab": {
          "base_uri": "https://localhost:8080/"
        },
        "id": "S0Pk7DeGPIiT",
        "outputId": "336cda75-9973-42a8-b7bd-a40e658135d0"
      },
      "execution_count": 21,
      "outputs": [
        {
          "output_type": "stream",
          "name": "stdout",
          "text": [
            "                            GLS Regression Results                            \n",
            "==============================================================================\n",
            "Dep. Variable:                      y   R-squared:                       0.997\n",
            "Model:                            GLS   Adj. R-squared:                  0.997\n",
            "Method:                 Least Squares   F-statistic:                 3.082e+04\n",
            "Date:                Wed, 24 Sep 2025   Prob (F-statistic):          2.84e-124\n",
            "Time:                        01:01:31   Log-Likelihood:                -238.63\n",
            "No. Observations:                 100   AIC:                             481.3\n",
            "Df Residuals:                      98   BIC:                             486.5\n",
            "Df Model:                           1                                         \n",
            "Covariance Type:            nonrobust                                         \n",
            "==============================================================================\n",
            "                 coef    std err          t      P>|t|      [0.025      0.975]\n",
            "------------------------------------------------------------------------------\n",
            "const          4.8104      1.450      3.318      0.001       1.934       7.687\n",
            "x1             3.9687      0.023    175.567      0.000       3.924       4.014\n",
            "==============================================================================\n",
            "Omnibus:                        1.470   Durbin-Watson:                   2.474\n",
            "Prob(Omnibus):                  0.479   Jarque-Bera (JB):                1.192\n",
            "Skew:                          -0.008   Prob(JB):                        0.551\n",
            "Kurtosis:                       2.465   Cond. No.                         234.\n",
            "==============================================================================\n",
            "\n",
            "Notes:\n",
            "[1] Standard Errors assume that the covariance matrix of the errors is correctly specified.\n"
          ]
        }
      ]
    },
    {
      "cell_type": "code",
      "source": [
        "df = pd.read_csv('https://raw.githubusercontent.com/delinai/schulich_ds1/refs/heads/main/Datasets/kc_house_data.csv')"
      ],
      "metadata": {
        "id": "6VHyb9t2PTPU"
      },
      "execution_count": 22,
      "outputs": []
    },
    {
      "cell_type": "code",
      "source": [
        "df.head()"
      ],
      "metadata": {
        "colab": {
          "base_uri": "https://localhost:8080/",
          "height": 255
        },
        "id": "u-AshYqBP7KY",
        "outputId": "3ea133ce-6037-4b40-96f7-96b97e73e738"
      },
      "execution_count": 23,
      "outputs": [
        {
          "output_type": "execute_result",
          "data": {
            "text/plain": [
              "           id             date     price  bedrooms  bathrooms  sqft_living  \\\n",
              "0  7129300520  20141013T000000  221900.0         3       1.00         1180   \n",
              "1  6414100192  20141209T000000  538000.0         3       2.25         2570   \n",
              "2  5631500400  20150225T000000  180000.0         2       1.00          770   \n",
              "3  2487200875  20141209T000000  604000.0         4       3.00         1960   \n",
              "4  1954400510  20150218T000000  510000.0         3       2.00         1680   \n",
              "\n",
              "   sqft_lot  floors  waterfront  view  ...  grade  sqft_above  sqft_basement  \\\n",
              "0      5650     1.0           0     0  ...      7        1180              0   \n",
              "1      7242     2.0           0     0  ...      7        2170            400   \n",
              "2     10000     1.0           0     0  ...      6         770              0   \n",
              "3      5000     1.0           0     0  ...      7        1050            910   \n",
              "4      8080     1.0           0     0  ...      8        1680              0   \n",
              "\n",
              "   yr_built  yr_renovated  zipcode      lat     long  sqft_living15  \\\n",
              "0      1955             0    98178  47.5112 -122.257           1340   \n",
              "1      1951          1991    98125  47.7210 -122.319           1690   \n",
              "2      1933             0    98028  47.7379 -122.233           2720   \n",
              "3      1965             0    98136  47.5208 -122.393           1360   \n",
              "4      1987             0    98074  47.6168 -122.045           1800   \n",
              "\n",
              "   sqft_lot15  \n",
              "0        5650  \n",
              "1        7639  \n",
              "2        8062  \n",
              "3        5000  \n",
              "4        7503  \n",
              "\n",
              "[5 rows x 21 columns]"
            ],
            "text/html": [
              "\n",
              "  <div id=\"df-73d68659-eb95-41e4-9c55-19d528699a91\" class=\"colab-df-container\">\n",
              "    <div>\n",
              "<style scoped>\n",
              "    .dataframe tbody tr th:only-of-type {\n",
              "        vertical-align: middle;\n",
              "    }\n",
              "\n",
              "    .dataframe tbody tr th {\n",
              "        vertical-align: top;\n",
              "    }\n",
              "\n",
              "    .dataframe thead th {\n",
              "        text-align: right;\n",
              "    }\n",
              "</style>\n",
              "<table border=\"1\" class=\"dataframe\">\n",
              "  <thead>\n",
              "    <tr style=\"text-align: right;\">\n",
              "      <th></th>\n",
              "      <th>id</th>\n",
              "      <th>date</th>\n",
              "      <th>price</th>\n",
              "      <th>bedrooms</th>\n",
              "      <th>bathrooms</th>\n",
              "      <th>sqft_living</th>\n",
              "      <th>sqft_lot</th>\n",
              "      <th>floors</th>\n",
              "      <th>waterfront</th>\n",
              "      <th>view</th>\n",
              "      <th>...</th>\n",
              "      <th>grade</th>\n",
              "      <th>sqft_above</th>\n",
              "      <th>sqft_basement</th>\n",
              "      <th>yr_built</th>\n",
              "      <th>yr_renovated</th>\n",
              "      <th>zipcode</th>\n",
              "      <th>lat</th>\n",
              "      <th>long</th>\n",
              "      <th>sqft_living15</th>\n",
              "      <th>sqft_lot15</th>\n",
              "    </tr>\n",
              "  </thead>\n",
              "  <tbody>\n",
              "    <tr>\n",
              "      <th>0</th>\n",
              "      <td>7129300520</td>\n",
              "      <td>20141013T000000</td>\n",
              "      <td>221900.0</td>\n",
              "      <td>3</td>\n",
              "      <td>1.00</td>\n",
              "      <td>1180</td>\n",
              "      <td>5650</td>\n",
              "      <td>1.0</td>\n",
              "      <td>0</td>\n",
              "      <td>0</td>\n",
              "      <td>...</td>\n",
              "      <td>7</td>\n",
              "      <td>1180</td>\n",
              "      <td>0</td>\n",
              "      <td>1955</td>\n",
              "      <td>0</td>\n",
              "      <td>98178</td>\n",
              "      <td>47.5112</td>\n",
              "      <td>-122.257</td>\n",
              "      <td>1340</td>\n",
              "      <td>5650</td>\n",
              "    </tr>\n",
              "    <tr>\n",
              "      <th>1</th>\n",
              "      <td>6414100192</td>\n",
              "      <td>20141209T000000</td>\n",
              "      <td>538000.0</td>\n",
              "      <td>3</td>\n",
              "      <td>2.25</td>\n",
              "      <td>2570</td>\n",
              "      <td>7242</td>\n",
              "      <td>2.0</td>\n",
              "      <td>0</td>\n",
              "      <td>0</td>\n",
              "      <td>...</td>\n",
              "      <td>7</td>\n",
              "      <td>2170</td>\n",
              "      <td>400</td>\n",
              "      <td>1951</td>\n",
              "      <td>1991</td>\n",
              "      <td>98125</td>\n",
              "      <td>47.7210</td>\n",
              "      <td>-122.319</td>\n",
              "      <td>1690</td>\n",
              "      <td>7639</td>\n",
              "    </tr>\n",
              "    <tr>\n",
              "      <th>2</th>\n",
              "      <td>5631500400</td>\n",
              "      <td>20150225T000000</td>\n",
              "      <td>180000.0</td>\n",
              "      <td>2</td>\n",
              "      <td>1.00</td>\n",
              "      <td>770</td>\n",
              "      <td>10000</td>\n",
              "      <td>1.0</td>\n",
              "      <td>0</td>\n",
              "      <td>0</td>\n",
              "      <td>...</td>\n",
              "      <td>6</td>\n",
              "      <td>770</td>\n",
              "      <td>0</td>\n",
              "      <td>1933</td>\n",
              "      <td>0</td>\n",
              "      <td>98028</td>\n",
              "      <td>47.7379</td>\n",
              "      <td>-122.233</td>\n",
              "      <td>2720</td>\n",
              "      <td>8062</td>\n",
              "    </tr>\n",
              "    <tr>\n",
              "      <th>3</th>\n",
              "      <td>2487200875</td>\n",
              "      <td>20141209T000000</td>\n",
              "      <td>604000.0</td>\n",
              "      <td>4</td>\n",
              "      <td>3.00</td>\n",
              "      <td>1960</td>\n",
              "      <td>5000</td>\n",
              "      <td>1.0</td>\n",
              "      <td>0</td>\n",
              "      <td>0</td>\n",
              "      <td>...</td>\n",
              "      <td>7</td>\n",
              "      <td>1050</td>\n",
              "      <td>910</td>\n",
              "      <td>1965</td>\n",
              "      <td>0</td>\n",
              "      <td>98136</td>\n",
              "      <td>47.5208</td>\n",
              "      <td>-122.393</td>\n",
              "      <td>1360</td>\n",
              "      <td>5000</td>\n",
              "    </tr>\n",
              "    <tr>\n",
              "      <th>4</th>\n",
              "      <td>1954400510</td>\n",
              "      <td>20150218T000000</td>\n",
              "      <td>510000.0</td>\n",
              "      <td>3</td>\n",
              "      <td>2.00</td>\n",
              "      <td>1680</td>\n",
              "      <td>8080</td>\n",
              "      <td>1.0</td>\n",
              "      <td>0</td>\n",
              "      <td>0</td>\n",
              "      <td>...</td>\n",
              "      <td>8</td>\n",
              "      <td>1680</td>\n",
              "      <td>0</td>\n",
              "      <td>1987</td>\n",
              "      <td>0</td>\n",
              "      <td>98074</td>\n",
              "      <td>47.6168</td>\n",
              "      <td>-122.045</td>\n",
              "      <td>1800</td>\n",
              "      <td>7503</td>\n",
              "    </tr>\n",
              "  </tbody>\n",
              "</table>\n",
              "<p>5 rows × 21 columns</p>\n",
              "</div>\n",
              "    <div class=\"colab-df-buttons\">\n",
              "\n",
              "  <div class=\"colab-df-container\">\n",
              "    <button class=\"colab-df-convert\" onclick=\"convertToInteractive('df-73d68659-eb95-41e4-9c55-19d528699a91')\"\n",
              "            title=\"Convert this dataframe to an interactive table.\"\n",
              "            style=\"display:none;\">\n",
              "\n",
              "  <svg xmlns=\"http://www.w3.org/2000/svg\" height=\"24px\" viewBox=\"0 -960 960 960\">\n",
              "    <path d=\"M120-120v-720h720v720H120Zm60-500h600v-160H180v160Zm220 220h160v-160H400v160Zm0 220h160v-160H400v160ZM180-400h160v-160H180v160Zm440 0h160v-160H620v160ZM180-180h160v-160H180v160Zm440 0h160v-160H620v160Z\"/>\n",
              "  </svg>\n",
              "    </button>\n",
              "\n",
              "  <style>\n",
              "    .colab-df-container {\n",
              "      display:flex;\n",
              "      gap: 12px;\n",
              "    }\n",
              "\n",
              "    .colab-df-convert {\n",
              "      background-color: #E8F0FE;\n",
              "      border: none;\n",
              "      border-radius: 50%;\n",
              "      cursor: pointer;\n",
              "      display: none;\n",
              "      fill: #1967D2;\n",
              "      height: 32px;\n",
              "      padding: 0 0 0 0;\n",
              "      width: 32px;\n",
              "    }\n",
              "\n",
              "    .colab-df-convert:hover {\n",
              "      background-color: #E2EBFA;\n",
              "      box-shadow: 0px 1px 2px rgba(60, 64, 67, 0.3), 0px 1px 3px 1px rgba(60, 64, 67, 0.15);\n",
              "      fill: #174EA6;\n",
              "    }\n",
              "\n",
              "    .colab-df-buttons div {\n",
              "      margin-bottom: 4px;\n",
              "    }\n",
              "\n",
              "    [theme=dark] .colab-df-convert {\n",
              "      background-color: #3B4455;\n",
              "      fill: #D2E3FC;\n",
              "    }\n",
              "\n",
              "    [theme=dark] .colab-df-convert:hover {\n",
              "      background-color: #434B5C;\n",
              "      box-shadow: 0px 1px 3px 1px rgba(0, 0, 0, 0.15);\n",
              "      filter: drop-shadow(0px 1px 2px rgba(0, 0, 0, 0.3));\n",
              "      fill: #FFFFFF;\n",
              "    }\n",
              "  </style>\n",
              "\n",
              "    <script>\n",
              "      const buttonEl =\n",
              "        document.querySelector('#df-73d68659-eb95-41e4-9c55-19d528699a91 button.colab-df-convert');\n",
              "      buttonEl.style.display =\n",
              "        google.colab.kernel.accessAllowed ? 'block' : 'none';\n",
              "\n",
              "      async function convertToInteractive(key) {\n",
              "        const element = document.querySelector('#df-73d68659-eb95-41e4-9c55-19d528699a91');\n",
              "        const dataTable =\n",
              "          await google.colab.kernel.invokeFunction('convertToInteractive',\n",
              "                                                    [key], {});\n",
              "        if (!dataTable) return;\n",
              "\n",
              "        const docLinkHtml = 'Like what you see? Visit the ' +\n",
              "          '<a target=\"_blank\" href=https://colab.research.google.com/notebooks/data_table.ipynb>data table notebook</a>'\n",
              "          + ' to learn more about interactive tables.';\n",
              "        element.innerHTML = '';\n",
              "        dataTable['output_type'] = 'display_data';\n",
              "        await google.colab.output.renderOutput(dataTable, element);\n",
              "        const docLink = document.createElement('div');\n",
              "        docLink.innerHTML = docLinkHtml;\n",
              "        element.appendChild(docLink);\n",
              "      }\n",
              "    </script>\n",
              "  </div>\n",
              "\n",
              "\n",
              "    <div id=\"df-a06ae063-355b-4f84-ae83-3e813d86dc0f\">\n",
              "      <button class=\"colab-df-quickchart\" onclick=\"quickchart('df-a06ae063-355b-4f84-ae83-3e813d86dc0f')\"\n",
              "                title=\"Suggest charts\"\n",
              "                style=\"display:none;\">\n",
              "\n",
              "<svg xmlns=\"http://www.w3.org/2000/svg\" height=\"24px\"viewBox=\"0 0 24 24\"\n",
              "     width=\"24px\">\n",
              "    <g>\n",
              "        <path d=\"M19 3H5c-1.1 0-2 .9-2 2v14c0 1.1.9 2 2 2h14c1.1 0 2-.9 2-2V5c0-1.1-.9-2-2-2zM9 17H7v-7h2v7zm4 0h-2V7h2v10zm4 0h-2v-4h2v4z\"/>\n",
              "    </g>\n",
              "</svg>\n",
              "      </button>\n",
              "\n",
              "<style>\n",
              "  .colab-df-quickchart {\n",
              "      --bg-color: #E8F0FE;\n",
              "      --fill-color: #1967D2;\n",
              "      --hover-bg-color: #E2EBFA;\n",
              "      --hover-fill-color: #174EA6;\n",
              "      --disabled-fill-color: #AAA;\n",
              "      --disabled-bg-color: #DDD;\n",
              "  }\n",
              "\n",
              "  [theme=dark] .colab-df-quickchart {\n",
              "      --bg-color: #3B4455;\n",
              "      --fill-color: #D2E3FC;\n",
              "      --hover-bg-color: #434B5C;\n",
              "      --hover-fill-color: #FFFFFF;\n",
              "      --disabled-bg-color: #3B4455;\n",
              "      --disabled-fill-color: #666;\n",
              "  }\n",
              "\n",
              "  .colab-df-quickchart {\n",
              "    background-color: var(--bg-color);\n",
              "    border: none;\n",
              "    border-radius: 50%;\n",
              "    cursor: pointer;\n",
              "    display: none;\n",
              "    fill: var(--fill-color);\n",
              "    height: 32px;\n",
              "    padding: 0;\n",
              "    width: 32px;\n",
              "  }\n",
              "\n",
              "  .colab-df-quickchart:hover {\n",
              "    background-color: var(--hover-bg-color);\n",
              "    box-shadow: 0 1px 2px rgba(60, 64, 67, 0.3), 0 1px 3px 1px rgba(60, 64, 67, 0.15);\n",
              "    fill: var(--button-hover-fill-color);\n",
              "  }\n",
              "\n",
              "  .colab-df-quickchart-complete:disabled,\n",
              "  .colab-df-quickchart-complete:disabled:hover {\n",
              "    background-color: var(--disabled-bg-color);\n",
              "    fill: var(--disabled-fill-color);\n",
              "    box-shadow: none;\n",
              "  }\n",
              "\n",
              "  .colab-df-spinner {\n",
              "    border: 2px solid var(--fill-color);\n",
              "    border-color: transparent;\n",
              "    border-bottom-color: var(--fill-color);\n",
              "    animation:\n",
              "      spin 1s steps(1) infinite;\n",
              "  }\n",
              "\n",
              "  @keyframes spin {\n",
              "    0% {\n",
              "      border-color: transparent;\n",
              "      border-bottom-color: var(--fill-color);\n",
              "      border-left-color: var(--fill-color);\n",
              "    }\n",
              "    20% {\n",
              "      border-color: transparent;\n",
              "      border-left-color: var(--fill-color);\n",
              "      border-top-color: var(--fill-color);\n",
              "    }\n",
              "    30% {\n",
              "      border-color: transparent;\n",
              "      border-left-color: var(--fill-color);\n",
              "      border-top-color: var(--fill-color);\n",
              "      border-right-color: var(--fill-color);\n",
              "    }\n",
              "    40% {\n",
              "      border-color: transparent;\n",
              "      border-right-color: var(--fill-color);\n",
              "      border-top-color: var(--fill-color);\n",
              "    }\n",
              "    60% {\n",
              "      border-color: transparent;\n",
              "      border-right-color: var(--fill-color);\n",
              "    }\n",
              "    80% {\n",
              "      border-color: transparent;\n",
              "      border-right-color: var(--fill-color);\n",
              "      border-bottom-color: var(--fill-color);\n",
              "    }\n",
              "    90% {\n",
              "      border-color: transparent;\n",
              "      border-bottom-color: var(--fill-color);\n",
              "    }\n",
              "  }\n",
              "</style>\n",
              "\n",
              "      <script>\n",
              "        async function quickchart(key) {\n",
              "          const quickchartButtonEl =\n",
              "            document.querySelector('#' + key + ' button');\n",
              "          quickchartButtonEl.disabled = true;  // To prevent multiple clicks.\n",
              "          quickchartButtonEl.classList.add('colab-df-spinner');\n",
              "          try {\n",
              "            const charts = await google.colab.kernel.invokeFunction(\n",
              "                'suggestCharts', [key], {});\n",
              "          } catch (error) {\n",
              "            console.error('Error during call to suggestCharts:', error);\n",
              "          }\n",
              "          quickchartButtonEl.classList.remove('colab-df-spinner');\n",
              "          quickchartButtonEl.classList.add('colab-df-quickchart-complete');\n",
              "        }\n",
              "        (() => {\n",
              "          let quickchartButtonEl =\n",
              "            document.querySelector('#df-a06ae063-355b-4f84-ae83-3e813d86dc0f button');\n",
              "          quickchartButtonEl.style.display =\n",
              "            google.colab.kernel.accessAllowed ? 'block' : 'none';\n",
              "        })();\n",
              "      </script>\n",
              "    </div>\n",
              "\n",
              "    </div>\n",
              "  </div>\n"
            ],
            "application/vnd.google.colaboratory.intrinsic+json": {
              "type": "dataframe",
              "variable_name": "df"
            }
          },
          "metadata": {},
          "execution_count": 23
        }
      ]
    },
    {
      "cell_type": "code",
      "source": [
        "x = df.iloc[:,3:]\n",
        "y = df['price']\n",
        "x = sm.add_constant(x)\n"
      ],
      "metadata": {
        "id": "bQCyOMEnP74h"
      },
      "execution_count": 28,
      "outputs": []
    },
    {
      "cell_type": "code",
      "source": [
        "model_houses = sm.OLS(y,x).fit()"
      ],
      "metadata": {
        "id": "dFJo9JpfQzS3"
      },
      "execution_count": 29,
      "outputs": []
    },
    {
      "cell_type": "code",
      "source": [
        "print(model_houses.summary())"
      ],
      "metadata": {
        "colab": {
          "base_uri": "https://localhost:8080/"
        },
        "id": "1rAaVBZzQ4ya",
        "outputId": "fee2a0bc-aba7-44d8-e52b-25de084b8652"
      },
      "execution_count": 30,
      "outputs": [
        {
          "output_type": "stream",
          "name": "stdout",
          "text": [
            "                            OLS Regression Results                            \n",
            "==============================================================================\n",
            "Dep. Variable:                  price   R-squared:                       0.700\n",
            "Model:                            OLS   Adj. R-squared:                  0.700\n",
            "Method:                 Least Squares   F-statistic:                     2960.\n",
            "Date:                Wed, 24 Sep 2025   Prob (F-statistic):               0.00\n",
            "Time:                        01:09:48   Log-Likelihood:            -2.9460e+05\n",
            "No. Observations:               21613   AIC:                         5.892e+05\n",
            "Df Residuals:                   21595   BIC:                         5.894e+05\n",
            "Df Model:                          17                                         \n",
            "Covariance Type:            nonrobust                                         \n",
            "=================================================================================\n",
            "                    coef    std err          t      P>|t|      [0.025      0.975]\n",
            "---------------------------------------------------------------------------------\n",
            "const           6.69e+06   2.93e+06      2.282      0.022    9.44e+05    1.24e+07\n",
            "bedrooms      -3.577e+04   1891.843    -18.906      0.000   -3.95e+04   -3.21e+04\n",
            "bathrooms      4.114e+04   3253.678     12.645      0.000    3.48e+04    4.75e+04\n",
            "sqft_living     110.4406      2.270     48.661      0.000     105.992     114.889\n",
            "sqft_lot          0.1286      0.048      2.683      0.007       0.035       0.223\n",
            "floors         6689.5501   3595.859      1.860      0.063    -358.599    1.37e+04\n",
            "waterfront      5.83e+05   1.74e+04     33.580      0.000    5.49e+05    6.17e+05\n",
            "view           5.287e+04   2140.055     24.705      0.000    4.87e+04    5.71e+04\n",
            "condition      2.639e+04   2351.461     11.221      0.000    2.18e+04     3.1e+04\n",
            "grade          9.589e+04   2152.789     44.542      0.000    9.17e+04       1e+05\n",
            "sqft_above       70.7875      2.253     31.415      0.000      66.371      75.204\n",
            "sqft_basement    39.6599      2.647     14.985      0.000      34.472      44.847\n",
            "yr_built      -2620.2232     72.659    -36.062      0.000   -2762.640   -2477.806\n",
            "yr_renovated     19.8126      3.656      5.420      0.000      12.647      26.978\n",
            "zipcode        -582.4199     32.986    -17.657      0.000    -647.074    -517.765\n",
            "lat            6.027e+05   1.07e+04     56.149      0.000    5.82e+05    6.24e+05\n",
            "long          -2.147e+05   1.31e+04    -16.349      0.000    -2.4e+05   -1.89e+05\n",
            "sqft_living15    21.6814      3.448      6.289      0.000      14.924      28.439\n",
            "sqft_lot15       -0.3826      0.073     -5.222      0.000      -0.526      -0.239\n",
            "==============================================================================\n",
            "Omnibus:                    18384.201   Durbin-Watson:                   1.990\n",
            "Prob(Omnibus):                  0.000   Jarque-Bera (JB):          1868224.491\n",
            "Skew:                           3.566   Prob(JB):                         0.00\n",
            "Kurtosis:                      47.985   Cond. No.                     4.79e+17\n",
            "==============================================================================\n",
            "\n",
            "Notes:\n",
            "[1] Standard Errors assume that the covariance matrix of the errors is correctly specified.\n",
            "[2] The smallest eigenvalue is 9.53e-22. This might indicate that there are\n",
            "strong multicollinearity problems or that the design matrix is singular.\n"
          ]
        }
      ]
    },
    {
      "cell_type": "code",
      "source": [
        "resid = model_houses.resid\n",
        "exog = model_houses.model.exog\n",
        "lm_stat, lm_pvalue, f_stat, f_pvalue = het_breuschpagan(resid, exog)\n",
        "print(f_pvalue)"
      ],
      "metadata": {
        "colab": {
          "base_uri": "https://localhost:8080/"
        },
        "id": "ha1C29_CQ7aJ",
        "outputId": "97432e59-9c5d-4547-8022-fb53e12c68d5"
      },
      "execution_count": 31,
      "outputs": [
        {
          "output_type": "stream",
          "name": "stdout",
          "text": [
            "0.0\n"
          ]
        }
      ]
    },
    {
      "cell_type": "code",
      "source": [
        "print(model_houses.get_robustcov_results(cov_type='HC3').summary())"
      ],
      "metadata": {
        "colab": {
          "base_uri": "https://localhost:8080/"
        },
        "id": "1KEEXRjIRHTv",
        "outputId": "16ef73f7-fac4-499f-d78e-3549fea19c15"
      },
      "execution_count": 37,
      "outputs": [
        {
          "output_type": "stream",
          "name": "stdout",
          "text": [
            "                            OLS Regression Results                            \n",
            "==============================================================================\n",
            "Dep. Variable:                  price   R-squared:                       0.700\n",
            "Model:                            OLS   Adj. R-squared:                  0.700\n",
            "Method:                 Least Squares   F-statistic:                     1015.\n",
            "Date:                Wed, 24 Sep 2025   Prob (F-statistic):               0.00\n",
            "Time:                        01:20:56   Log-Likelihood:            -2.9460e+05\n",
            "No. Observations:               21613   AIC:                         5.892e+05\n",
            "Df Residuals:                   21595   BIC:                         5.894e+05\n",
            "Df Model:                          17                                         \n",
            "Covariance Type:                  HC3                                         \n",
            "=================================================================================\n",
            "                    coef    std err          t      P>|t|      [0.025      0.975]\n",
            "---------------------------------------------------------------------------------\n",
            "const           6.69e+06   2.96e+06      2.258      0.024    8.82e+05    1.25e+07\n",
            "bedrooms      -3.577e+04   4670.070     -7.659      0.000   -4.49e+04   -2.66e+04\n",
            "bathrooms      4.114e+04   5254.583      7.830      0.000    3.08e+04    5.14e+04\n",
            "sqft_living     110.4406      7.338     15.051      0.000      96.058     124.823\n",
            "sqft_lot          0.1286      0.064      2.025      0.043       0.004       0.253\n",
            "floors         6689.5501   5057.095      1.323      0.186   -3222.730    1.66e+04\n",
            "waterfront      5.83e+05   6.07e+04      9.608      0.000    4.64e+05    7.02e+05\n",
            "view           5.287e+04   3965.545     13.333      0.000    4.51e+04    6.06e+04\n",
            "condition      2.639e+04   2363.761     11.163      0.000    2.18e+04     3.1e+04\n",
            "grade          9.589e+04   3182.870     30.127      0.000    8.97e+04    1.02e+05\n",
            "sqft_above       70.7875      5.874     12.050      0.000      59.273      82.302\n",
            "sqft_basement    39.6599      5.099      7.779      0.000      29.666      49.653\n",
            "yr_built      -2620.2232     91.519    -28.630      0.000   -2799.608   -2440.839\n",
            "yr_renovated     19.8126      5.592      3.543      0.000       8.851      30.774\n",
            "zipcode        -582.4199     37.489    -15.536      0.000    -655.902    -508.938\n",
            "lat            6.027e+05   9880.958     61.001      0.000    5.83e+05    6.22e+05\n",
            "long          -2.147e+05   1.45e+04    -14.768      0.000   -2.43e+05   -1.86e+05\n",
            "sqft_living15    21.6814      7.118      3.046      0.002       7.730      35.633\n",
            "sqft_lot15       -0.3826      0.077     -4.939      0.000      -0.534      -0.231\n",
            "==============================================================================\n",
            "Omnibus:                    18384.201   Durbin-Watson:                   1.990\n",
            "Prob(Omnibus):                  0.000   Jarque-Bera (JB):          1868224.491\n",
            "Skew:                           3.566   Prob(JB):                         0.00\n",
            "Kurtosis:                      47.985   Cond. No.                     4.79e+17\n",
            "==============================================================================\n",
            "\n",
            "Notes:\n",
            "[1] Standard Errors are heteroscedasticity robust (HC3)\n",
            "[2] The smallest eigenvalue is 9.53e-22. This might indicate that there are\n",
            "strong multicollinearity problems or that the design matrix is singular.\n"
          ]
        },
        {
          "output_type": "stream",
          "name": "stderr",
          "text": [
            "/usr/local/lib/python3.12/dist-packages/statsmodels/base/model.py:1894: ValueWarning: covariance of constraints does not have full rank. The number of constraints is 18, but rank is 17\n",
            "  warnings.warn('covariance of constraints does not have full '\n"
          ]
        }
      ]
    },
    {
      "cell_type": "code",
      "source": [],
      "metadata": {
        "id": "XZOTHpNuTn7K"
      },
      "execution_count": null,
      "outputs": []
    }
  ]
}