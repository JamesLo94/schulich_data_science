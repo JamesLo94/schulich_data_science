{
  "nbformat": 4,
  "nbformat_minor": 0,
  "metadata": {
    "colab": {
      "provenance": []
    },
    "kernelspec": {
      "name": "python3",
      "display_name": "Python 3"
    },
    "language_info": {
      "name": "python"
    }
  },
  "cells": [
    {
      "cell_type": "code",
      "source": [
        "import numpy as np"
      ],
      "metadata": {
        "id": "sU053HHsCR8p"
      },
      "execution_count": 7,
      "outputs": []
    },
    {
      "cell_type": "code",
      "source": [
        "pip install numpy"
      ],
      "metadata": {
        "colab": {
          "base_uri": "https://localhost:8080/"
        },
        "id": "6Jnrdef9Co1m",
        "outputId": "8febf5d1-1f36-43ae-ae09-4785063114ca"
      },
      "execution_count": 1,
      "outputs": [
        {
          "output_type": "stream",
          "name": "stdout",
          "text": [
            "Requirement already satisfied: numpy in /usr/local/lib/python3.12/dist-packages (2.3.3)\n"
          ]
        }
      ]
    },
    {
      "cell_type": "code",
      "source": [
        "# common elements of Python\n",
        "# lists, tuples, sets and dictionaries\n",
        "# common operations >> conditionals, loops\n",
        "# numpy operations\n",
        "# common pandas operations"
      ],
      "metadata": {
        "id": "-fC-cH27DcB5"
      },
      "execution_count": 2,
      "outputs": []
    },
    {
      "cell_type": "code",
      "source": [
        "# lists --> []\n",
        "\n",
        "list1 = [12, 15, 78, 15, 25]"
      ],
      "metadata": {
        "id": "Ir3iqxMnEP9Z"
      },
      "execution_count": 3,
      "outputs": []
    },
    {
      "cell_type": "code",
      "source": [
        "list1.append(100)\n",
        "list1"
      ],
      "metadata": {
        "colab": {
          "base_uri": "https://localhost:8080/"
        },
        "id": "rMAhElNZE5i3",
        "outputId": "b8b19170-05dd-4ed9-90e1-3cdfa60b6161"
      },
      "execution_count": 4,
      "outputs": [
        {
          "output_type": "execute_result",
          "data": {
            "text/plain": [
              "[12, 15, 78, 15, 25, 100]"
            ]
          },
          "metadata": {},
          "execution_count": 4
        }
      ]
    },
    {
      "cell_type": "code",
      "source": [
        "# when you append a LIST of items you get a nested list\n",
        "list1.append([100, 200])\n",
        "list1"
      ],
      "metadata": {
        "colab": {
          "base_uri": "https://localhost:8080/"
        },
        "id": "4NTbaxyGFCcV",
        "outputId": "3fc1131c-e1a9-4c73-cd44-03c25ec705c9"
      },
      "execution_count": 6,
      "outputs": [
        {
          "output_type": "execute_result",
          "data": {
            "text/plain": [
              "[12, 15, 78, 15, 25, 100, [100, 200]]"
            ]
          },
          "metadata": {},
          "execution_count": 6
        }
      ]
    },
    {
      "cell_type": "code",
      "source": [
        "# combine two lists together using extend()\n",
        "list1.extend([100,200,300])\n",
        "list1"
      ],
      "metadata": {
        "colab": {
          "base_uri": "https://localhost:8080/"
        },
        "id": "0-bPX6SNFJDE",
        "outputId": "f9e1e367-645d-41b8-e290-5427ebb6bdfa"
      },
      "execution_count": 7,
      "outputs": [
        {
          "output_type": "execute_result",
          "data": {
            "text/plain": [
              "[12, 15, 78, 15, 25, 100, [100, 200], 100, 200, 300]"
            ]
          },
          "metadata": {},
          "execution_count": 7
        }
      ]
    },
    {
      "cell_type": "code",
      "source": [
        "# insert a value at a specific position\n",
        "list1.insert(2, 1000)\n",
        "list1"
      ],
      "metadata": {
        "colab": {
          "base_uri": "https://localhost:8080/"
        },
        "id": "O43CAOHZFgzW",
        "outputId": "2d0c7fb9-709b-45ca-ab54-f08db319a8cb"
      },
      "execution_count": 9,
      "outputs": [
        {
          "output_type": "execute_result",
          "data": {
            "text/plain": [
              "[12, 15, 1000, 78, 15, 25, 100, [100, 200], 100, 200, 300]"
            ]
          },
          "metadata": {},
          "execution_count": 9
        }
      ]
    },
    {
      "cell_type": "code",
      "source": [
        "# pop() or remove()\n",
        "list1.pop(7)\n",
        "list1"
      ],
      "metadata": {
        "colab": {
          "base_uri": "https://localhost:8080/"
        },
        "id": "fHFNc0ZDFnMN",
        "outputId": "d78c062f-23e2-4752-a247-1c95e99fcf7b"
      },
      "execution_count": 10,
      "outputs": [
        {
          "output_type": "execute_result",
          "data": {
            "text/plain": [
              "[12, 15, 1000, 78, 15, 25, 100, 100, 200, 300]"
            ]
          },
          "metadata": {},
          "execution_count": 10
        }
      ]
    },
    {
      "cell_type": "code",
      "source": [
        "# remove() --> first time the value occurs\n",
        "list1.remove(15)"
      ],
      "metadata": {
        "id": "cBeALL7ZF9Xy"
      },
      "execution_count": 11,
      "outputs": []
    },
    {
      "cell_type": "code",
      "source": [
        "list1"
      ],
      "metadata": {
        "colab": {
          "base_uri": "https://localhost:8080/"
        },
        "id": "YNGbXnAtGFNA",
        "outputId": "2de5d151-7320-497d-d830-c9a19afa6e28"
      },
      "execution_count": 12,
      "outputs": [
        {
          "output_type": "execute_result",
          "data": {
            "text/plain": [
              "[12, 1000, 78, 15, 25, 100, 100, 200, 300]"
            ]
          },
          "metadata": {},
          "execution_count": 12
        }
      ]
    },
    {
      "cell_type": "code",
      "source": [
        "# index() tells you the FIRST index position of a value\n",
        "list1.index(100)"
      ],
      "metadata": {
        "colab": {
          "base_uri": "https://localhost:8080/"
        },
        "id": "SbW-p8ciGF0K",
        "outputId": "a2f2ea35-ca07-41ab-b80e-d3e70ace96b5"
      },
      "execution_count": 13,
      "outputs": [
        {
          "output_type": "execute_result",
          "data": {
            "text/plain": [
              "5"
            ]
          },
          "metadata": {},
          "execution_count": 13
        }
      ]
    },
    {
      "cell_type": "code",
      "source": [
        "# count() will tell you how many of a specific value you have\n",
        "list1.count(100)"
      ],
      "metadata": {
        "colab": {
          "base_uri": "https://localhost:8080/"
        },
        "id": "-zFYqKV1GN6K",
        "outputId": "955c399f-b5fd-4113-9d8b-6ab3cfb7120b"
      },
      "execution_count": 14,
      "outputs": [
        {
          "output_type": "execute_result",
          "data": {
            "text/plain": [
              "2"
            ]
          },
          "metadata": {},
          "execution_count": 14
        }
      ]
    },
    {
      "cell_type": "code",
      "source": [
        "# indexing and slicing\n",
        "list1[0]"
      ],
      "metadata": {
        "colab": {
          "base_uri": "https://localhost:8080/"
        },
        "id": "PAxLlmcTGV70",
        "outputId": "57711547-7450-4ea6-cf67-edef54bb35da"
      },
      "execution_count": 15,
      "outputs": [
        {
          "output_type": "execute_result",
          "data": {
            "text/plain": [
              "12"
            ]
          },
          "metadata": {},
          "execution_count": 15
        }
      ]
    },
    {
      "cell_type": "code",
      "source": [
        "# slice -- isolate a range of values\n",
        "list1[3:7]"
      ],
      "metadata": {
        "colab": {
          "base_uri": "https://localhost:8080/"
        },
        "id": "kSVS5j0QGjMX",
        "outputId": "09ff2626-048f-4050-e361-33cc337e0bea"
      },
      "execution_count": 16,
      "outputs": [
        {
          "output_type": "execute_result",
          "data": {
            "text/plain": [
              "[15, 25, 100, 100]"
            ]
          },
          "metadata": {},
          "execution_count": 16
        }
      ]
    },
    {
      "cell_type": "code",
      "source": [
        "# starting position : ending position : step (2 = every other item)\n",
        "list1[1:8:2]"
      ],
      "metadata": {
        "colab": {
          "base_uri": "https://localhost:8080/"
        },
        "id": "lrseJMFYGoyO",
        "outputId": "806c1067-4b16-4ee0-b214-4cab53ff4bf6"
      },
      "execution_count": 17,
      "outputs": [
        {
          "output_type": "execute_result",
          "data": {
            "text/plain": [
              "[1000, 15, 100, 200]"
            ]
          },
          "metadata": {},
          "execution_count": 17
        }
      ]
    },
    {
      "cell_type": "code",
      "source": [
        "# lists support item assignment meaning we can overwrite values\n",
        "list1[0] = 4000"
      ],
      "metadata": {
        "id": "Pyf5GCp6G0bO"
      },
      "execution_count": 18,
      "outputs": []
    },
    {
      "cell_type": "code",
      "source": [
        "list1"
      ],
      "metadata": {
        "colab": {
          "base_uri": "https://localhost:8080/"
        },
        "id": "zW8Lr7q0HDin",
        "outputId": "67e2c1ee-ac3f-4e4f-da1f-d408e933cc15"
      },
      "execution_count": 19,
      "outputs": [
        {
          "output_type": "execute_result",
          "data": {
            "text/plain": [
              "[4000, 1000, 78, 15, 25, 100, 100, 200, 300]"
            ]
          },
          "metadata": {},
          "execution_count": 19
        }
      ]
    },
    {
      "cell_type": "code",
      "source": [
        "# tuple --> defined with round brackets ()\n",
        "tuple1 = (8, 7, 6, 15)"
      ],
      "metadata": {
        "id": "ffGe8vVwHDyR"
      },
      "execution_count": 21,
      "outputs": []
    },
    {
      "cell_type": "code",
      "source": [
        "# count the number of elements of a certain value\n",
        "tuple1.count(8)"
      ],
      "metadata": {
        "colab": {
          "base_uri": "https://localhost:8080/"
        },
        "id": "j8hs1c2_HWRN",
        "outputId": "d31fecfd-1247-49f5-f12b-65275993fd99"
      },
      "execution_count": 22,
      "outputs": [
        {
          "output_type": "execute_result",
          "data": {
            "text/plain": [
              "1"
            ]
          },
          "metadata": {},
          "execution_count": 22
        }
      ]
    },
    {
      "cell_type": "code",
      "source": [
        "# find the first position of a certain value\n",
        "tuple1.index(15)"
      ],
      "metadata": {
        "colab": {
          "base_uri": "https://localhost:8080/"
        },
        "id": "_XK5t-geHaih",
        "outputId": "e892e006-9156-402a-9b2c-7bafb9018cf6"
      },
      "execution_count": 23,
      "outputs": [
        {
          "output_type": "execute_result",
          "data": {
            "text/plain": [
              "3"
            ]
          },
          "metadata": {},
          "execution_count": 23
        }
      ]
    },
    {
      "cell_type": "code",
      "source": [
        "# find a value in a certain position\n",
        "tuple1[0]"
      ],
      "metadata": {
        "colab": {
          "base_uri": "https://localhost:8080/"
        },
        "id": "FNFag1akHb57",
        "outputId": "f1dc8b93-16d9-49b0-c4b5-f8b72c6b7d5f"
      },
      "execution_count": 24,
      "outputs": [
        {
          "output_type": "execute_result",
          "data": {
            "text/plain": [
              "8"
            ]
          },
          "metadata": {},
          "execution_count": 24
        }
      ]
    },
    {
      "cell_type": "code",
      "source": [
        "# you cannot overwrite or change values in a tuple\n",
        "tuple1[0] = 1000"
      ],
      "metadata": {
        "colab": {
          "base_uri": "https://localhost:8080/",
          "height": 159
        },
        "id": "Ymthzf-QHjm1",
        "outputId": "b0100f8d-e376-46b4-c5d6-a466da416b7c"
      },
      "execution_count": 25,
      "outputs": [
        {
          "output_type": "error",
          "ename": "TypeError",
          "evalue": "'tuple' object does not support item assignment",
          "traceback": [
            "\u001b[0;31m---------------------------------------------------------------------------\u001b[0m",
            "\u001b[0;31mTypeError\u001b[0m                                 Traceback (most recent call last)",
            "\u001b[0;32m/tmp/ipython-input-1691492092.py\u001b[0m in \u001b[0;36m<cell line: 0>\u001b[0;34m()\u001b[0m\n\u001b[1;32m      1\u001b[0m \u001b[0;31m# you cannot overwrite or change values in a tuple\u001b[0m\u001b[0;34m\u001b[0m\u001b[0;34m\u001b[0m\u001b[0m\n\u001b[0;32m----> 2\u001b[0;31m \u001b[0mtuple1\u001b[0m\u001b[0;34m[\u001b[0m\u001b[0;36m0\u001b[0m\u001b[0;34m]\u001b[0m \u001b[0;34m=\u001b[0m \u001b[0;36m1000\u001b[0m\u001b[0;34m\u001b[0m\u001b[0;34m\u001b[0m\u001b[0m\n\u001b[0m",
            "\u001b[0;31mTypeError\u001b[0m: 'tuple' object does not support item assignment"
          ]
        }
      ]
    },
    {
      "cell_type": "code",
      "source": [
        "# sets --> {}\n",
        "set1 = {12, 13, 15, 18, 25, 15, 100, 100}"
      ],
      "metadata": {
        "id": "X41mFEyqHpaw"
      },
      "execution_count": 26,
      "outputs": []
    },
    {
      "cell_type": "code",
      "source": [
        "# sets do not hold duplicates, so even if you define one with dupes it will remove them\n",
        "set1"
      ],
      "metadata": {
        "colab": {
          "base_uri": "https://localhost:8080/"
        },
        "id": "iFoX1CR8IAQf",
        "outputId": "1f888f4f-55ef-41d6-94c2-85dd027a1ad3"
      },
      "execution_count": 27,
      "outputs": [
        {
          "output_type": "execute_result",
          "data": {
            "text/plain": [
              "{12, 13, 15, 18, 25, 100}"
            ]
          },
          "metadata": {},
          "execution_count": 27
        }
      ]
    },
    {
      "cell_type": "code",
      "source": [
        "set2 = {13, 100, 18, 14, 27, 35}"
      ],
      "metadata": {
        "id": "DfR6gFecIAp9"
      },
      "execution_count": 28,
      "outputs": []
    },
    {
      "cell_type": "code",
      "source": [
        "# find common elements\n",
        "set1.intersection(set2)"
      ],
      "metadata": {
        "colab": {
          "base_uri": "https://localhost:8080/"
        },
        "id": "k1kqTNGcIb4y",
        "outputId": "acfbded0-ba64-490f-b48a-e4545285965e"
      },
      "execution_count": 29,
      "outputs": [
        {
          "output_type": "execute_result",
          "data": {
            "text/plain": [
              "{13, 18, 100}"
            ]
          },
          "metadata": {},
          "execution_count": 29
        }
      ]
    },
    {
      "cell_type": "code",
      "source": [
        "# find elements that exist in set 1 but NOT in set 2\n",
        "set1.difference(set2)"
      ],
      "metadata": {
        "colab": {
          "base_uri": "https://localhost:8080/"
        },
        "id": "vvmrblbtIfsP",
        "outputId": "da098f43-bb12-4b60-8a0c-a2432a2b9431"
      },
      "execution_count": 30,
      "outputs": [
        {
          "output_type": "execute_result",
          "data": {
            "text/plain": [
              "{12, 15, 25}"
            ]
          },
          "metadata": {},
          "execution_count": 30
        }
      ]
    },
    {
      "cell_type": "code",
      "source": [
        "# elements in set2 that don't exist in set1\n",
        "set2.difference(set1)"
      ],
      "metadata": {
        "colab": {
          "base_uri": "https://localhost:8080/"
        },
        "id": "M1AOEHEtIkjB",
        "outputId": "1bab4b11-3b62-4109-a233-af759ab771c9"
      },
      "execution_count": 31,
      "outputs": [
        {
          "output_type": "execute_result",
          "data": {
            "text/plain": [
              "{14, 27, 35}"
            ]
          },
          "metadata": {},
          "execution_count": 31
        }
      ]
    },
    {
      "cell_type": "code",
      "source": [
        "set1"
      ],
      "metadata": {
        "colab": {
          "base_uri": "https://localhost:8080/"
        },
        "id": "2fUmrsMHIn7w",
        "outputId": "e9a7361f-55bf-4f25-dc6b-ed922fda9248"
      },
      "execution_count": 32,
      "outputs": [
        {
          "output_type": "execute_result",
          "data": {
            "text/plain": [
              "{12, 13, 15, 18, 25, 100}"
            ]
          },
          "metadata": {},
          "execution_count": 32
        }
      ]
    },
    {
      "cell_type": "code",
      "source": [
        "set2"
      ],
      "metadata": {
        "colab": {
          "base_uri": "https://localhost:8080/"
        },
        "id": "AI_qszPeI0d2",
        "outputId": "6b5a5e0e-52ce-4707-a0d8-e3509c027a07"
      },
      "execution_count": 33,
      "outputs": [
        {
          "output_type": "execute_result",
          "data": {
            "text/plain": [
              "{13, 14, 18, 27, 35, 100}"
            ]
          },
          "metadata": {},
          "execution_count": 33
        }
      ]
    },
    {
      "cell_type": "code",
      "source": [
        "# if i only want to keep elements in set2 which are different than set1\n",
        "set2.difference_update(set1)"
      ],
      "metadata": {
        "id": "Ehsza6brI0zB"
      },
      "execution_count": 34,
      "outputs": []
    },
    {
      "cell_type": "code",
      "source": [
        "set2"
      ],
      "metadata": {
        "colab": {
          "base_uri": "https://localhost:8080/"
        },
        "id": "HiPTnV-cI9iM",
        "outputId": "68cebad1-cc1e-4d6b-f129-3079ff921047"
      },
      "execution_count": 35,
      "outputs": [
        {
          "output_type": "execute_result",
          "data": {
            "text/plain": [
              "{14, 27, 35}"
            ]
          },
          "metadata": {},
          "execution_count": 35
        }
      ]
    },
    {
      "cell_type": "code",
      "source": [
        "set1.intersection(list1)"
      ],
      "metadata": {
        "colab": {
          "base_uri": "https://localhost:8080/"
        },
        "id": "1ZzWb1i-I96l",
        "outputId": "62977f9e-cca3-4071-8c25-907d3c23391c"
      },
      "execution_count": 39,
      "outputs": [
        {
          "output_type": "execute_result",
          "data": {
            "text/plain": [
              "{15, 25, 100}"
            ]
          },
          "metadata": {},
          "execution_count": 39
        }
      ]
    },
    {
      "cell_type": "code",
      "source": [
        "sum(list1)"
      ],
      "metadata": {
        "colab": {
          "base_uri": "https://localhost:8080/"
        },
        "id": "x0DABJpKJfvx",
        "outputId": "fe7c4505-3dde-42b6-b774-5e9d3c0847e6"
      },
      "execution_count": 40,
      "outputs": [
        {
          "output_type": "execute_result",
          "data": {
            "text/plain": [
              "5818"
            ]
          },
          "metadata": {},
          "execution_count": 40
        }
      ]
    },
    {
      "cell_type": "code",
      "source": [
        "sum(set1)"
      ],
      "metadata": {
        "colab": {
          "base_uri": "https://localhost:8080/"
        },
        "id": "JDzrh-zSJ-IP",
        "outputId": "38c6f3b1-413a-45e5-e268-c8eeb4d25b7c"
      },
      "execution_count": 41,
      "outputs": [
        {
          "output_type": "execute_result",
          "data": {
            "text/plain": [
              "183"
            ]
          },
          "metadata": {},
          "execution_count": 41
        }
      ]
    },
    {
      "cell_type": "code",
      "source": [
        "sum(tuple1)"
      ],
      "metadata": {
        "colab": {
          "base_uri": "https://localhost:8080/"
        },
        "id": "Vm6QimlvJ-kS",
        "outputId": "f39ef818-e858-4fee-d041-8202fb74d313"
      },
      "execution_count": 42,
      "outputs": [
        {
          "output_type": "execute_result",
          "data": {
            "text/plain": [
              "36"
            ]
          },
          "metadata": {},
          "execution_count": 42
        }
      ]
    },
    {
      "cell_type": "code",
      "source": [
        "min(list1)"
      ],
      "metadata": {
        "colab": {
          "base_uri": "https://localhost:8080/"
        },
        "id": "yGkEx9skJ_Hg",
        "outputId": "43dca180-e18a-49ed-f45a-f453604b9eee"
      },
      "execution_count": 43,
      "outputs": [
        {
          "output_type": "execute_result",
          "data": {
            "text/plain": [
              "15"
            ]
          },
          "metadata": {},
          "execution_count": 43
        }
      ]
    },
    {
      "cell_type": "code",
      "source": [
        "max(set2)"
      ],
      "metadata": {
        "colab": {
          "base_uri": "https://localhost:8080/"
        },
        "id": "mgSFhWGwKExa",
        "outputId": "5a72a7fd-1714-46d3-90c3-639b2a3da4bb"
      },
      "execution_count": 44,
      "outputs": [
        {
          "output_type": "execute_result",
          "data": {
            "text/plain": [
              "35"
            ]
          },
          "metadata": {},
          "execution_count": 44
        }
      ]
    },
    {
      "cell_type": "code",
      "source": [
        "# dictionaries\n",
        "\n",
        "dict1 = {'ON': 'Toronto', 'MB': 'Winnipeg', 'SK':'Regina', 'BC':'Victoria'}"
      ],
      "metadata": {
        "id": "aA9U-m-yKFz7"
      },
      "execution_count": 45,
      "outputs": []
    },
    {
      "cell_type": "code",
      "source": [
        "# all the keys of the dictionary\n",
        "dict1.keys()"
      ],
      "metadata": {
        "colab": {
          "base_uri": "https://localhost:8080/"
        },
        "id": "aV_dV4VmKcxL",
        "outputId": "32413960-b0e4-46cd-b48b-0169de768cfc"
      },
      "execution_count": 46,
      "outputs": [
        {
          "output_type": "execute_result",
          "data": {
            "text/plain": [
              "dict_keys(['ON', 'MB', 'SK', 'BC'])"
            ]
          },
          "metadata": {},
          "execution_count": 46
        }
      ]
    },
    {
      "cell_type": "code",
      "source": [
        "dict1.values()"
      ],
      "metadata": {
        "colab": {
          "base_uri": "https://localhost:8080/"
        },
        "id": "83-EzQTaKnQa",
        "outputId": "be8f7792-8620-4d83-8f10-6fa64ef3209d"
      },
      "execution_count": 47,
      "outputs": [
        {
          "output_type": "execute_result",
          "data": {
            "text/plain": [
              "dict_values(['Toronto', 'Winnipeg', 'Regina', 'Victoria'])"
            ]
          },
          "metadata": {},
          "execution_count": 47
        }
      ]
    },
    {
      "cell_type": "code",
      "source": [
        "# hierarchical data example - shopping cart\n",
        "\n",
        "dict2 = {'customer1':{'books':['book1','book2'],'food':['chips','tomatoes']},'customer2':{'clothing':['socks','shirt'], 'electronics':['tv','computer','ipad']}}"
      ],
      "metadata": {
        "id": "ZE4vfiBAKth8"
      },
      "execution_count": 48,
      "outputs": []
    },
    {
      "cell_type": "code",
      "source": [
        "dict2.keys()"
      ],
      "metadata": {
        "colab": {
          "base_uri": "https://localhost:8080/"
        },
        "id": "LJOAExYiLEsQ",
        "outputId": "39fc3aea-abba-4803-93a0-296a77a11d5c"
      },
      "execution_count": 49,
      "outputs": [
        {
          "output_type": "execute_result",
          "data": {
            "text/plain": [
              "dict_keys(['customer1', 'customer2'])"
            ]
          },
          "metadata": {},
          "execution_count": 49
        }
      ]
    },
    {
      "cell_type": "code",
      "source": [
        "dict2.values()"
      ],
      "metadata": {
        "colab": {
          "base_uri": "https://localhost:8080/"
        },
        "id": "Vml-aecoLHf4",
        "outputId": "9d0338ab-8c8c-43e0-aa09-17a8cd5009d2"
      },
      "execution_count": 50,
      "outputs": [
        {
          "output_type": "execute_result",
          "data": {
            "text/plain": [
              "dict_values([{'books': ['book1', 'book2'], 'food': ['chips', 'tomatoes']}, {'clothing': ['socks', 'shirt'], 'electronics': ['tv', 'computer', 'ipad']}])"
            ]
          },
          "metadata": {},
          "execution_count": 50
        }
      ]
    },
    {
      "cell_type": "code",
      "source": [
        "dict2['customer1'].keys()"
      ],
      "metadata": {
        "colab": {
          "base_uri": "https://localhost:8080/"
        },
        "id": "24Yz8lu7LJyR",
        "outputId": "4153c49f-4a28-4f34-f64c-d93bb9023e45"
      },
      "execution_count": 52,
      "outputs": [
        {
          "output_type": "execute_result",
          "data": {
            "text/plain": [
              "dict_keys(['books', 'food'])"
            ]
          },
          "metadata": {},
          "execution_count": 52
        }
      ]
    },
    {
      "cell_type": "code",
      "source": [
        "dict2['customer1'].values()"
      ],
      "metadata": {
        "colab": {
          "base_uri": "https://localhost:8080/"
        },
        "id": "0S9I2BVrLapW",
        "outputId": "5a829456-3d79-4042-ecae-c03de2c36958"
      },
      "execution_count": 53,
      "outputs": [
        {
          "output_type": "execute_result",
          "data": {
            "text/plain": [
              "dict_values([['book1', 'book2'], ['chips', 'tomatoes']])"
            ]
          },
          "metadata": {},
          "execution_count": 53
        }
      ]
    },
    {
      "cell_type": "code",
      "source": [
        "# adding a new key:value to a dictionary - just add one that doesn't exist\n",
        "dict2['customer3'] = {'groceries':['chips','pop'], 'shoes':['running shoes', 'tennis shoes']}"
      ],
      "metadata": {
        "id": "57ztSDY1LeUL"
      },
      "execution_count": 54,
      "outputs": []
    },
    {
      "cell_type": "code",
      "source": [
        "dict2"
      ],
      "metadata": {
        "colab": {
          "base_uri": "https://localhost:8080/"
        },
        "id": "bTzQ7GGWMBuy",
        "outputId": "9a497b2d-3bcb-475c-d7c1-7d6ea7a2f452"
      },
      "execution_count": 55,
      "outputs": [
        {
          "output_type": "execute_result",
          "data": {
            "text/plain": [
              "{'customer1': {'books': ['book1', 'book2'], 'food': ['chips', 'tomatoes']},\n",
              " 'customer2': {'clothing': ['socks', 'shirt'],\n",
              "  'electronics': ['tv', 'computer', 'ipad']},\n",
              " 'customer3': {'groceries': ['chips', 'pop'],\n",
              "  'shoes': ['running shoes', 'tennis shoes']}}"
            ]
          },
          "metadata": {},
          "execution_count": 55
        }
      ]
    },
    {
      "cell_type": "code",
      "source": [
        "# removing an element, we can use pop()\n",
        "dict2.pop('customer3')"
      ],
      "metadata": {
        "colab": {
          "base_uri": "https://localhost:8080/"
        },
        "id": "GZkzjyndMCOQ",
        "outputId": "8255cc42-1479-4599-ef34-8b29a348a2d0"
      },
      "execution_count": 56,
      "outputs": [
        {
          "output_type": "execute_result",
          "data": {
            "text/plain": [
              "{'groceries': ['chips', 'pop'], 'shoes': ['running shoes', 'tennis shoes']}"
            ]
          },
          "metadata": {},
          "execution_count": 56
        }
      ]
    },
    {
      "cell_type": "code",
      "source": [
        "dict2"
      ],
      "metadata": {
        "colab": {
          "base_uri": "https://localhost:8080/"
        },
        "id": "dZYCYq5vMJkj",
        "outputId": "93e08d57-ed9d-4844-e56a-994ac93d2b19"
      },
      "execution_count": 57,
      "outputs": [
        {
          "output_type": "execute_result",
          "data": {
            "text/plain": [
              "{'customer1': {'books': ['book1', 'book2'], 'food': ['chips', 'tomatoes']},\n",
              " 'customer2': {'clothing': ['socks', 'shirt'],\n",
              "  'electronics': ['tv', 'computer', 'ipad']}}"
            ]
          },
          "metadata": {},
          "execution_count": 57
        }
      ]
    },
    {
      "cell_type": "code",
      "source": [
        "dict2.items()"
      ],
      "metadata": {
        "colab": {
          "base_uri": "https://localhost:8080/"
        },
        "id": "606ml30fMKL-",
        "outputId": "cb2b84e7-0a1b-41e6-b9a3-7894de3dd1da"
      },
      "execution_count": 58,
      "outputs": [
        {
          "output_type": "execute_result",
          "data": {
            "text/plain": [
              "dict_items([('customer1', {'books': ['book1', 'book2'], 'food': ['chips', 'tomatoes']}), ('customer2', {'clothing': ['socks', 'shirt'], 'electronics': ['tv', 'computer', 'ipad']})])"
            ]
          },
          "metadata": {},
          "execution_count": 58
        }
      ]
    },
    {
      "cell_type": "code",
      "source": [
        "# conditional statements\n",
        "x = 9*12/14+10"
      ],
      "metadata": {
        "id": "XUCXeQHuMPGq"
      },
      "execution_count": 72,
      "outputs": []
    },
    {
      "cell_type": "code",
      "source": [
        "# make sure conditions are mutually exclusive\n",
        "if x > 10:\n",
        "  x = (x + 15) / 22\n",
        "  x = x/12\n",
        "  print(f'{x} is calculated')\n",
        "elif x > 5 and x <= 10:\n",
        "  x = (x +10) / 12\n",
        "  print(x)\n",
        "\n",
        "else:\n",
        "  x = 0\n"
      ],
      "metadata": {
        "id": "UbRA1Zd1NI6t"
      },
      "execution_count": 74,
      "outputs": []
    },
    {
      "cell_type": "code",
      "source": [
        "# looping -- the for loop\n",
        "\n",
        "for i in list1:\n",
        "  if i > 100:\n",
        "    i = (i + 15) / 22\n",
        "    i = i/12\n",
        "    print(f'{i} is calculated')\n",
        "  elif i > 5 and i <= 100:\n",
        "    i = (i +10) / 12\n",
        "    print(i)\n",
        "  else:\n",
        "    i = 0"
      ],
      "metadata": {
        "colab": {
          "base_uri": "https://localhost:8080/"
        },
        "id": "yNfjoNoMNQE9",
        "outputId": "cc1a2553-c9c5-4cea-e2a7-0232c209cb1a"
      },
      "execution_count": 77,
      "outputs": [
        {
          "output_type": "stream",
          "name": "stdout",
          "text": [
            "15.208333333333334 is calculated\n",
            "3.8446969696969693 is calculated\n",
            "7.333333333333333\n",
            "2.0833333333333335\n",
            "2.9166666666666665\n",
            "9.166666666666666\n",
            "9.166666666666666\n",
            "0.8143939393939394 is calculated\n",
            "1.1931818181818181 is calculated\n"
          ]
        }
      ]
    },
    {
      "cell_type": "code",
      "source": [
        "dict2"
      ],
      "metadata": {
        "colab": {
          "base_uri": "https://localhost:8080/"
        },
        "id": "pSiVj7puO5-C",
        "outputId": "a559ae09-8c23-4838-a525-df1db82b466c"
      },
      "execution_count": 78,
      "outputs": [
        {
          "output_type": "execute_result",
          "data": {
            "text/plain": [
              "{'customer1': {'books': ['book1', 'book2'], 'food': ['chips', 'tomatoes']},\n",
              " 'customer2': {'clothing': ['socks', 'shirt'],\n",
              "  'electronics': ['tv', 'computer', 'ipad']}}"
            ]
          },
          "metadata": {},
          "execution_count": 78
        }
      ]
    },
    {
      "cell_type": "code",
      "source": [
        "# calculate how many items from each major category were ordered\n",
        "categories_w_purchases = []\n",
        "items_purchased = []\n",
        "num_categories = 0\n",
        "num_items = 0\n",
        "num_items_by_category = {}\n",
        "\n",
        "for key, value in dict2.items():\n",
        "  for a, b in value.items():\n",
        "    if a not in categories_w_purchases:\n",
        "      categories_w_purchases.append(a)\n",
        "      num_categories += 1\n",
        "    for item in b:\n",
        "      if item not in items_purchased:\n",
        "        items_purchased.append(item)\n",
        "        num_items += 1\n",
        "      if a not in num_items_by_category.keys():\n",
        "        num_items_by_category[a] = 1\n",
        "      else:\n",
        "        num_items_by_category[a] += 1\n",
        "\n",
        "print(categories_w_purchases)\n",
        "print(items_purchased)\n",
        "print(num_categories)\n",
        "print(num_items)\n",
        "print(num_items_by_category)"
      ],
      "metadata": {
        "colab": {
          "base_uri": "https://localhost:8080/"
        },
        "id": "HynRHGxgPYSQ",
        "outputId": "1e6f56b3-09e2-4597-f9e3-2a585ea8b196"
      },
      "execution_count": 89,
      "outputs": [
        {
          "output_type": "stream",
          "name": "stdout",
          "text": [
            "['books', 'food', 'clothing', 'electronics']\n",
            "['book1', 'book2', 'chips', 'tomatoes', 'socks', 'shirt', 'tv', 'computer', 'ipad']\n",
            "4\n",
            "9\n",
            "{'books': 2, 'food': 2, 'clothing': 2, 'electronics': 3}\n"
          ]
        }
      ]
    },
    {
      "cell_type": "code",
      "source": [
        "for i in dict2.items():\n",
        "  print(i)"
      ],
      "metadata": {
        "colab": {
          "base_uri": "https://localhost:8080/"
        },
        "id": "C4bpcmYhPaf4",
        "outputId": "6a067ff9-02a4-49e9-dc80-4d9b2954233d"
      },
      "execution_count": 86,
      "outputs": [
        {
          "output_type": "stream",
          "name": "stdout",
          "text": [
            "('customer1', {'books': ['book1', 'book2'], 'food': ['chips', 'tomatoes']})\n",
            "('customer2', {'clothing': ['socks', 'shirt'], 'electronics': ['tv', 'computer', 'ipad']})\n"
          ]
        }
      ]
    },
    {
      "cell_type": "code",
      "source": [
        "import numpy as np"
      ],
      "metadata": {
        "id": "AQ52WwDFQeQL"
      },
      "execution_count": 90,
      "outputs": []
    },
    {
      "cell_type": "code",
      "source": [
        "arr1 = np.array(list1)"
      ],
      "metadata": {
        "id": "ENp5IfPISBTn"
      },
      "execution_count": 91,
      "outputs": []
    },
    {
      "cell_type": "code",
      "source": [
        "arr1"
      ],
      "metadata": {
        "colab": {
          "base_uri": "https://localhost:8080/"
        },
        "id": "Ae1TR3zfSjEP",
        "outputId": "2e7050de-5080-42be-9fbd-70df852d7f55"
      },
      "execution_count": 92,
      "outputs": [
        {
          "output_type": "execute_result",
          "data": {
            "text/plain": [
              "array([4000, 1000,   78,   15,   25,  100,  100,  200,  300])"
            ]
          },
          "metadata": {},
          "execution_count": 92
        }
      ]
    },
    {
      "cell_type": "code",
      "source": [
        "arr1.mean()"
      ],
      "metadata": {
        "colab": {
          "base_uri": "https://localhost:8080/"
        },
        "id": "VyET2IqUSjdh",
        "outputId": "22ed53a2-d087-450b-e88d-c46a9303f37b"
      },
      "execution_count": 93,
      "outputs": [
        {
          "output_type": "execute_result",
          "data": {
            "text/plain": [
              "np.float64(646.4444444444445)"
            ]
          },
          "metadata": {},
          "execution_count": 93
        }
      ]
    },
    {
      "cell_type": "code",
      "source": [
        "arr1.sum()"
      ],
      "metadata": {
        "colab": {
          "base_uri": "https://localhost:8080/"
        },
        "id": "oqWjyXTXS0LJ",
        "outputId": "6951911c-1ea6-4ecc-bc1b-b7bcdb7cfa58"
      },
      "execution_count": 94,
      "outputs": [
        {
          "output_type": "execute_result",
          "data": {
            "text/plain": [
              "np.int64(5818)"
            ]
          },
          "metadata": {},
          "execution_count": 94
        }
      ]
    },
    {
      "cell_type": "code",
      "source": [
        "arr1.astype(float)"
      ],
      "metadata": {
        "colab": {
          "base_uri": "https://localhost:8080/"
        },
        "id": "TD1N5oWjS5D-",
        "outputId": "e3181b5c-36c2-47cb-a96b-a64594296756"
      },
      "execution_count": 95,
      "outputs": [
        {
          "output_type": "execute_result",
          "data": {
            "text/plain": [
              "array([4000., 1000.,   78.,   15.,   25.,  100.,  100.,  200.,  300.])"
            ]
          },
          "metadata": {},
          "execution_count": 95
        }
      ]
    },
    {
      "cell_type": "code",
      "source": [
        "arr1[0]"
      ],
      "metadata": {
        "colab": {
          "base_uri": "https://localhost:8080/"
        },
        "id": "yTWqIOWhS83-",
        "outputId": "40cd8a7e-2ac3-4b75-f3e2-72d24d7454c2"
      },
      "execution_count": 96,
      "outputs": [
        {
          "output_type": "execute_result",
          "data": {
            "text/plain": [
              "np.int64(4000)"
            ]
          },
          "metadata": {},
          "execution_count": 96
        }
      ]
    },
    {
      "cell_type": "code",
      "source": [
        "arr1.shape"
      ],
      "metadata": {
        "colab": {
          "base_uri": "https://localhost:8080/"
        },
        "id": "HMPpJ4aHS7oJ",
        "outputId": "60f4c772-12c6-456d-9614-82ba004cdf90"
      },
      "execution_count": 97,
      "outputs": [
        {
          "output_type": "execute_result",
          "data": {
            "text/plain": [
              "(9,)"
            ]
          },
          "metadata": {},
          "execution_count": 97
        }
      ]
    },
    {
      "cell_type": "code",
      "source": [
        "arr1 = np.append(arr1, 500)"
      ],
      "metadata": {
        "id": "ZsP_hTHjTHGr"
      },
      "execution_count": 102,
      "outputs": []
    },
    {
      "cell_type": "code",
      "source": [
        "arr1.shape"
      ],
      "metadata": {
        "colab": {
          "base_uri": "https://localhost:8080/"
        },
        "id": "mz9dUe7rTJSz",
        "outputId": "c248d65c-fa3a-4048-9db8-00912880fd91"
      },
      "execution_count": 103,
      "outputs": [
        {
          "output_type": "execute_result",
          "data": {
            "text/plain": [
              "(10,)"
            ]
          },
          "metadata": {},
          "execution_count": 103
        }
      ]
    },
    {
      "cell_type": "code",
      "source": [
        "arr1.reshape(5,2)"
      ],
      "metadata": {
        "colab": {
          "base_uri": "https://localhost:8080/"
        },
        "id": "UdpjTv73TUv_",
        "outputId": "040fa247-6ea6-41be-81a4-0fc63cb53e43"
      },
      "execution_count": 104,
      "outputs": [
        {
          "output_type": "execute_result",
          "data": {
            "text/plain": [
              "array([[4000, 1000],\n",
              "       [  78,   15],\n",
              "       [  25,  100],\n",
              "       [ 100,  200],\n",
              "       [ 300,  500]])"
            ]
          },
          "metadata": {},
          "execution_count": 104
        }
      ]
    },
    {
      "cell_type": "code",
      "source": [
        "arr1.reshape(2,5)"
      ],
      "metadata": {
        "colab": {
          "base_uri": "https://localhost:8080/"
        },
        "id": "jPBki1_eTjCH",
        "outputId": "32e2a51e-2414-4619-844b-6fb0936ce1c5"
      },
      "execution_count": 105,
      "outputs": [
        {
          "output_type": "execute_result",
          "data": {
            "text/plain": [
              "array([[4000, 1000,   78,   15,   25],\n",
              "       [ 100,  100,  200,  300,  500]])"
            ]
          },
          "metadata": {},
          "execution_count": 105
        }
      ]
    },
    {
      "cell_type": "code",
      "source": [
        "arr1"
      ],
      "metadata": {
        "colab": {
          "base_uri": "https://localhost:8080/"
        },
        "id": "lI3RP7W-TkxL",
        "outputId": "89fde087-9506-4fad-eb57-a0ef7b873803"
      },
      "execution_count": 106,
      "outputs": [
        {
          "output_type": "execute_result",
          "data": {
            "text/plain": [
              "array([4000, 1000,   78,   15,   25,  100,  100,  200,  300,  500])"
            ]
          },
          "metadata": {},
          "execution_count": 106
        }
      ]
    },
    {
      "cell_type": "code",
      "source": [
        "arr2 = np.array([10])"
      ],
      "metadata": {
        "id": "WGqLzo97T7t_"
      },
      "execution_count": 107,
      "outputs": []
    },
    {
      "cell_type": "code",
      "source": [
        "arr1 + arr2"
      ],
      "metadata": {
        "colab": {
          "base_uri": "https://localhost:8080/"
        },
        "id": "npkjrGj_T-5J",
        "outputId": "5bb3e42a-a67e-4c62-85ff-9fe21e652f53"
      },
      "execution_count": 108,
      "outputs": [
        {
          "output_type": "execute_result",
          "data": {
            "text/plain": [
              "array([4010, 1010,   88,   25,   35,  110,  110,  210,  310,  510])"
            ]
          },
          "metadata": {},
          "execution_count": 108
        }
      ]
    },
    {
      "cell_type": "code",
      "source": [
        "arr1 * arr2"
      ],
      "metadata": {
        "colab": {
          "base_uri": "https://localhost:8080/"
        },
        "id": "-1LWHe0zT_qm",
        "outputId": "17b52a48-e645-41eb-eb34-91de4271c9c6"
      },
      "execution_count": 109,
      "outputs": [
        {
          "output_type": "execute_result",
          "data": {
            "text/plain": [
              "array([40000, 10000,   780,   150,   250,  1000,  1000,  2000,  3000,\n",
              "        5000])"
            ]
          },
          "metadata": {},
          "execution_count": 109
        }
      ]
    },
    {
      "cell_type": "code",
      "source": [],
      "metadata": {
        "id": "CT_y66BdUCdo"
      },
      "execution_count": null,
      "outputs": []
    }
  ]
}