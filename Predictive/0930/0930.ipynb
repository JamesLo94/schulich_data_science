{
 "cells": [
  {
   "cell_type": "code",
   "execution_count": 17,
   "id": "7becdbdc",
   "metadata": {},
   "outputs": [],
   "source": [
    "import pandas as pd\n",
    "import numpy as np\n",
    "import matplotlib.pyplot as plt\n",
    "import statsmodels.api as sm\n",
    "from sklearn import linear_model as lm\n",
    "\n",
    "df = pd.read_csv('https://raw.githubusercontent.com/delinai/schulich_ds1/refs/heads/main/Datasets/kc_house_data.csv')"
   ]
  },
  {
   "cell_type": "code",
   "execution_count": 18,
   "id": "db3fc4e7",
   "metadata": {},
   "outputs": [],
   "source": [
    "x = df.iloc[:,3:]\n",
    "y = df['price']\n",
    "x = sm.add_constant(x)"
   ]
  },
  {
   "cell_type": "code",
   "execution_count": 19,
   "id": "b070772a",
   "metadata": {},
   "outputs": [],
   "source": [
    "model_houses = sm.OLS(y,x).fit()"
   ]
  },
  {
   "cell_type": "code",
   "execution_count": 20,
   "id": "2c1ddf17",
   "metadata": {},
   "outputs": [
    {
     "data": {
      "text/plain": [
       "Index(['const', 'bedrooms', 'bathrooms', 'sqft_living', 'sqft_lot', 'floors',\n",
       "       'waterfront', 'view', 'condition', 'grade', 'sqft_above',\n",
       "       'sqft_basement', 'yr_built', 'yr_renovated', 'zipcode', 'lat', 'long',\n",
       "       'sqft_living15', 'sqft_lot15'],\n",
       "      dtype='object')"
      ]
     },
     "execution_count": 20,
     "metadata": {},
     "output_type": "execute_result"
    }
   ],
   "source": [
    "x.columns"
   ]
  },
  {
   "cell_type": "code",
   "execution_count": 21,
   "id": "ef21c8d5",
   "metadata": {},
   "outputs": [],
   "source": [
    "x = x.iloc[:,1:]"
   ]
  },
  {
   "cell_type": "code",
   "execution_count": 22,
   "id": "d525b559",
   "metadata": {},
   "outputs": [
    {
     "name": "stderr",
     "output_type": "stream",
     "text": [
      "c:\\Users\\q\\AppData\\Local\\Programs\\Python\\Python38\\lib\\site-packages\\sklearn\\linear_model\\_coordinate_descent.py:628: ConvergenceWarning: Objective did not converge. You might want to increase the number of iterations, check the scale of the features or consider increasing regularisation. Duality gap: 3.986e+14, tolerance: 2.913e+11\n",
      "  model = cd_fast.enet_coordinate_descent(\n"
     ]
    },
    {
     "data": {
      "text/plain": [
       "array([-3.57559842e+04,  4.11108709e+04,  2.84818067e+02,  1.28219702e-01,\n",
       "        6.67928397e+03,  5.81445656e+05,  5.29220812e+04,  2.63513732e+04,\n",
       "        9.59170369e+04, -1.03584377e+02, -1.34664906e+02, -2.62150608e+03,\n",
       "        1.98221202e+01, -5.81031778e+02,  6.02100539e+05, -2.13835108e+05,\n",
       "        2.16525206e+01, -3.83132258e-01])"
      ]
     },
     "execution_count": 22,
     "metadata": {},
     "output_type": "execute_result"
    }
   ],
   "source": [
    "housing_lasso = lm.Lasso(alpha=10).fit(x,y)\n",
    "housing_lasso.coef_"
   ]
  },
  {
   "cell_type": "code",
   "execution_count": 14,
   "id": "267203cf",
   "metadata": {},
   "outputs": [],
   "source": [
    "x = x.iloc[:,1:]"
   ]
  },
  {
   "cell_type": "code",
   "execution_count": 23,
   "id": "ab2f7011",
   "metadata": {},
   "outputs": [
    {
     "name": "stderr",
     "output_type": "stream",
     "text": [
      "c:\\Users\\q\\AppData\\Local\\Programs\\Python\\Python38\\lib\\site-packages\\sklearn\\linear_model\\_coordinate_descent.py:628: ConvergenceWarning: Objective did not converge. You might want to increase the number of iterations, check the scale of the features or consider increasing regularisation. Duality gap: 5.348e+14, tolerance: 2.913e+11\n",
      "  model = cd_fast.enet_coordinate_descent(\n"
     ]
    },
    {
     "data": {
      "text/plain": [
       "array([-2.16013795e+04,  0.00000000e+00,  2.74119952e+02, -2.22627361e-02,\n",
       "        0.00000000e+00,  0.00000000e+00,  5.48269200e+04,  0.00000000e+00,\n",
       "        1.05906121e+05, -7.74626262e+01, -8.37003127e+01, -3.03919501e+03,\n",
       "        2.65113813e+01,  7.83962080e+01,  0.00000000e+00, -0.00000000e+00,\n",
       "        2.85042097e+01, -5.91213109e-01])"
      ]
     },
     "execution_count": 23,
     "metadata": {},
     "output_type": "execute_result"
    }
   ],
   "source": [
    "housing_lasso = lm.Lasso(alpha=10000).fit(x,y)\n",
    "housing_lasso.coef_"
   ]
  },
  {
   "cell_type": "code",
   "execution_count": 24,
   "id": "4d8e2dba",
   "metadata": {},
   "outputs": [
    {
     "data": {
      "text/plain": [
       "array([-3.60298219e+04,  4.11642884e+04,  1.10604846e+02,  1.22108123e-01,\n",
       "        7.40946808e+03,  5.42743185e+05,  5.44497507e+04,  2.62150268e+04,\n",
       "        9.64523666e+04,  7.04043311e+01,  4.02004676e+01, -2.64913748e+03,\n",
       "        1.99895480e+01, -5.63133495e+02,  5.85465595e+05, -2.05287713e+05,\n",
       "        2.14311629e+01, -3.87374800e-01])"
      ]
     },
     "execution_count": 24,
     "metadata": {},
     "output_type": "execute_result"
    }
   ],
   "source": [
    "model_ridge = lm.Ridge(alpha=10).fit(x,y)\n",
    "model_ridge.coef_"
   ]
  },
  {
   "cell_type": "code",
   "execution_count": 27,
   "id": "49915c45",
   "metadata": {},
   "outputs": [
    {
     "data": {
      "text/plain": [
       "array([-6.74735408e+02,  2.43101017e+02,  1.65219446e+02,  5.73636731e-02,\n",
       "        2.41951435e+02,  1.20235044e+02,  9.18172515e+02,  1.88455509e+02,\n",
       "        1.29455536e+03,  9.22104748e+01,  7.30089714e+01, -2.13159607e+03,\n",
       "        4.65992462e+01,  3.93249391e+02,  2.42072836e+02, -8.89041797e+01,\n",
       "        9.65648100e+01, -7.17132615e-01])"
      ]
     },
     "execution_count": 27,
     "metadata": {},
     "output_type": "execute_result"
    }
   ],
   "source": [
    "model_ridge = lm.Ridge(alpha=1000000).fit(x,y)\n",
    "model_ridge.coef_"
   ]
  }
 ],
 "metadata": {
  "kernelspec": {
   "display_name": "Python 3",
   "language": "python",
   "name": "python3"
  },
  "language_info": {
   "codemirror_mode": {
    "name": "ipython",
    "version": 3
   },
   "file_extension": ".py",
   "mimetype": "text/x-python",
   "name": "python",
   "nbconvert_exporter": "python",
   "pygments_lexer": "ipython3",
   "version": "3.8.7"
  }
 },
 "nbformat": 4,
 "nbformat_minor": 5
}
