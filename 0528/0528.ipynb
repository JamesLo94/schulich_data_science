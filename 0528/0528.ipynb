{
 "cells": [
  {
   "cell_type": "code",
   "execution_count": 3,
   "id": "cd6235aa",
   "metadata": {},
   "outputs": [],
   "source": [
    "import pandas as pd\n",
    "df = pd.read_csv('https://raw.githubusercontent.com/delinai/schulich_ds1_2024/main/Datasets/class_5_data.csv')\n",
    "df.drop('Unnamed: 0', axis=1, inplace=True)"
   ]
  },
  {
   "cell_type": "code",
   "execution_count": 8,
   "id": "35aba00d",
   "metadata": {},
   "outputs": [
    {
     "data": {
      "text/html": [
       "<div>\n",
       "<style scoped>\n",
       "    .dataframe tbody tr th:only-of-type {\n",
       "        vertical-align: middle;\n",
       "    }\n",
       "\n",
       "    .dataframe tbody tr th {\n",
       "        vertical-align: top;\n",
       "    }\n",
       "\n",
       "    .dataframe thead th {\n",
       "        text-align: right;\n",
       "    }\n",
       "</style>\n",
       "<table border=\"1\" class=\"dataframe\">\n",
       "  <thead>\n",
       "    <tr style=\"text-align: right;\">\n",
       "      <th></th>\n",
       "      <th>Customer_ID</th>\n",
       "      <th>Age</th>\n",
       "      <th>Gender</th>\n",
       "      <th>Campaign_Exposure</th>\n",
       "      <th>Transaction_Category</th>\n",
       "      <th>Purchase_Amount</th>\n",
       "      <th>Premium_Product</th>\n",
       "    </tr>\n",
       "  </thead>\n",
       "  <tbody>\n",
       "    <tr>\n",
       "      <th>0</th>\n",
       "      <td>1</td>\n",
       "      <td>39</td>\n",
       "      <td>Male</td>\n",
       "      <td>1</td>\n",
       "      <td>Electronics</td>\n",
       "      <td>93.775039</td>\n",
       "      <td>0</td>\n",
       "    </tr>\n",
       "    <tr>\n",
       "      <th>1</th>\n",
       "      <td>1</td>\n",
       "      <td>39</td>\n",
       "      <td>Male</td>\n",
       "      <td>1</td>\n",
       "      <td>Home Essentials</td>\n",
       "      <td>65.573266</td>\n",
       "      <td>0</td>\n",
       "    </tr>\n",
       "    <tr>\n",
       "      <th>2</th>\n",
       "      <td>1</td>\n",
       "      <td>39</td>\n",
       "      <td>Male</td>\n",
       "      <td>1</td>\n",
       "      <td>Home Essentials</td>\n",
       "      <td>61.982719</td>\n",
       "      <td>0</td>\n",
       "    </tr>\n",
       "    <tr>\n",
       "      <th>3</th>\n",
       "      <td>1</td>\n",
       "      <td>39</td>\n",
       "      <td>Male</td>\n",
       "      <td>1</td>\n",
       "      <td>Electronics</td>\n",
       "      <td>46.487828</td>\n",
       "      <td>1</td>\n",
       "    </tr>\n",
       "    <tr>\n",
       "      <th>4</th>\n",
       "      <td>1</td>\n",
       "      <td>39</td>\n",
       "      <td>Male</td>\n",
       "      <td>1</td>\n",
       "      <td>Home Essentials</td>\n",
       "      <td>93.138071</td>\n",
       "      <td>0</td>\n",
       "    </tr>\n",
       "    <tr>\n",
       "      <th>5</th>\n",
       "      <td>1</td>\n",
       "      <td>39</td>\n",
       "      <td>Male</td>\n",
       "      <td>1</td>\n",
       "      <td>Clothing</td>\n",
       "      <td>47.597182</td>\n",
       "      <td>1</td>\n",
       "    </tr>\n",
       "    <tr>\n",
       "      <th>6</th>\n",
       "      <td>1</td>\n",
       "      <td>39</td>\n",
       "      <td>Male</td>\n",
       "      <td>1</td>\n",
       "      <td>Clothing</td>\n",
       "      <td>57.596415</td>\n",
       "      <td>0</td>\n",
       "    </tr>\n",
       "    <tr>\n",
       "      <th>7</th>\n",
       "      <td>1</td>\n",
       "      <td>39</td>\n",
       "      <td>Male</td>\n",
       "      <td>1</td>\n",
       "      <td>Clothing</td>\n",
       "      <td>48.714884</td>\n",
       "      <td>0</td>\n",
       "    </tr>\n",
       "    <tr>\n",
       "      <th>8</th>\n",
       "      <td>1</td>\n",
       "      <td>39</td>\n",
       "      <td>Male</td>\n",
       "      <td>1</td>\n",
       "      <td>Home Essentials</td>\n",
       "      <td>62.596692</td>\n",
       "      <td>0</td>\n",
       "    </tr>\n",
       "    <tr>\n",
       "      <th>9</th>\n",
       "      <td>1</td>\n",
       "      <td>39</td>\n",
       "      <td>Male</td>\n",
       "      <td>1</td>\n",
       "      <td>Electronics</td>\n",
       "      <td>94.215648</td>\n",
       "      <td>0</td>\n",
       "    </tr>\n",
       "    <tr>\n",
       "      <th>10</th>\n",
       "      <td>1</td>\n",
       "      <td>39</td>\n",
       "      <td>Male</td>\n",
       "      <td>1</td>\n",
       "      <td>Home Essentials</td>\n",
       "      <td>38.253443</td>\n",
       "      <td>1</td>\n",
       "    </tr>\n",
       "    <tr>\n",
       "      <th>11</th>\n",
       "      <td>1</td>\n",
       "      <td>39</td>\n",
       "      <td>Male</td>\n",
       "      <td>1</td>\n",
       "      <td>Home Essentials</td>\n",
       "      <td>62.701278</td>\n",
       "      <td>1</td>\n",
       "    </tr>\n",
       "    <tr>\n",
       "      <th>12</th>\n",
       "      <td>1</td>\n",
       "      <td>39</td>\n",
       "      <td>Male</td>\n",
       "      <td>1</td>\n",
       "      <td>Electronics</td>\n",
       "      <td>69.385548</td>\n",
       "      <td>1</td>\n",
       "    </tr>\n",
       "    <tr>\n",
       "      <th>13</th>\n",
       "      <td>1</td>\n",
       "      <td>39</td>\n",
       "      <td>Male</td>\n",
       "      <td>1</td>\n",
       "      <td>Electronics</td>\n",
       "      <td>40.504029</td>\n",
       "      <td>0</td>\n",
       "    </tr>\n",
       "    <tr>\n",
       "      <th>14</th>\n",
       "      <td>1</td>\n",
       "      <td>39</td>\n",
       "      <td>Male</td>\n",
       "      <td>1</td>\n",
       "      <td>Electronics</td>\n",
       "      <td>58.583619</td>\n",
       "      <td>1</td>\n",
       "    </tr>\n",
       "  </tbody>\n",
       "</table>\n",
       "</div>"
      ],
      "text/plain": [
       "    Customer_ID  Age Gender  Campaign_Exposure Transaction_Category  \\\n",
       "0             1   39   Male                  1          Electronics   \n",
       "1             1   39   Male                  1      Home Essentials   \n",
       "2             1   39   Male                  1      Home Essentials   \n",
       "3             1   39   Male                  1          Electronics   \n",
       "4             1   39   Male                  1      Home Essentials   \n",
       "5             1   39   Male                  1             Clothing   \n",
       "6             1   39   Male                  1             Clothing   \n",
       "7             1   39   Male                  1             Clothing   \n",
       "8             1   39   Male                  1      Home Essentials   \n",
       "9             1   39   Male                  1          Electronics   \n",
       "10            1   39   Male                  1      Home Essentials   \n",
       "11            1   39   Male                  1      Home Essentials   \n",
       "12            1   39   Male                  1          Electronics   \n",
       "13            1   39   Male                  1          Electronics   \n",
       "14            1   39   Male                  1          Electronics   \n",
       "\n",
       "    Purchase_Amount  Premium_Product  \n",
       "0         93.775039                0  \n",
       "1         65.573266                0  \n",
       "2         61.982719                0  \n",
       "3         46.487828                1  \n",
       "4         93.138071                0  \n",
       "5         47.597182                1  \n",
       "6         57.596415                0  \n",
       "7         48.714884                0  \n",
       "8         62.596692                0  \n",
       "9         94.215648                0  \n",
       "10        38.253443                1  \n",
       "11        62.701278                1  \n",
       "12        69.385548                1  \n",
       "13        40.504029                0  \n",
       "14        58.583619                1  "
      ]
     },
     "execution_count": 8,
     "metadata": {},
     "output_type": "execute_result"
    }
   ],
   "source": [
    "df[df['Customer_ID'] == 1]"
   ]
  },
  {
   "cell_type": "code",
   "execution_count": 9,
   "id": "528b1727",
   "metadata": {},
   "outputs": [
    {
     "data": {
      "text/plain": [
       "Campaign_Exposure\n",
       "0    500\n",
       "1    500\n",
       "Name: Customer_ID, dtype: int64"
      ]
     },
     "execution_count": 9,
     "metadata": {},
     "output_type": "execute_result"
    }
   ],
   "source": [
    "# check sample sizing\n",
    "\n",
    "df.groupby('Campaign_Exposure')['Customer_ID'].nunique()"
   ]
  },
  {
   "cell_type": "code",
   "execution_count": null,
   "id": "0971a6ee",
   "metadata": {},
   "outputs": [],
   "source": [
    "df.rename(columns = {'Age':'Customer_Age_Months'}, inplace=True)"
   ]
  },
  {
   "cell_type": "code",
   "execution_count": null,
   "id": "c7bc66a4",
   "metadata": {},
   "outputs": [],
   "source": [
    "import seaborn as sns\n",
    "\n",
    "sns.boxplot(df['Purchase_Amount'])"
   ]
  },
  {
   "cell_type": "code",
   "execution_count": null,
   "id": "c64c2f4c",
   "metadata": {},
   "outputs": [],
   "source": [
    "sns.histplot(df[\"Purchase_Amount\"])"
   ]
  },
  {
   "cell_type": "code",
   "execution_count": null,
   "id": "ae3fc959",
   "metadata": {},
   "outputs": [],
   "source": [
    "cust_level = df.groupby('Customer_ID')[['Customer_Age_Months','Gender','Campaign_Exposure','Transaction_Category','Purchase_Amount','Premium_Product']]\\\n",
    ".agg({'Customer_Age_Months':'max','Gender':'max','Campaign_Exposure':'max','Purchase_Amount':'mean','Premium_Product':'mean'})"
   ]
  },
  {
   "cell_type": "code",
   "execution_count": null,
   "id": "09c4c9f1",
   "metadata": {},
   "outputs": [],
   "source": [
    "campaign_cx = cust_level[cust_level['Campaign_Exposure']==1]\n",
    "reg_cx = cust_level[cust_level['Campaign_Exposure']==0]"
   ]
  },
  {
   "cell_type": "code",
   "execution_count": null,
   "id": "7461ad23",
   "metadata": {},
   "outputs": [],
   "source": [
    "sns.histplot(campaign_cx[\"Purchase_Amount\"])\n",
    "sns.histplot(reg_cx[\"Purchase_Amount\"])"
   ]
  },
  {
   "cell_type": "code",
   "execution_count": null,
   "id": "e7f5afe9",
   "metadata": {},
   "outputs": [],
   "source": [
    "from scipy.stats import ttest_ind\n",
    "from scipy.stats import mannwhitneyu"
   ]
  },
  {
   "cell_type": "code",
   "execution_count": null,
   "id": "1e539422",
   "metadata": {},
   "outputs": [],
   "source": [
    "t_stat, p_value = ttest_ind(campaign_cx['Purchase_Amount'], reg_cx['Purchase_Amount'], alternative='greater')"
   ]
  },
  {
   "cell_type": "code",
   "execution_count": null,
   "id": "f12a6b3a",
   "metadata": {},
   "outputs": [],
   "source": [
    "print(p_value)"
   ]
  },
  {
   "cell_type": "code",
   "execution_count": null,
   "id": "956caa5a",
   "metadata": {},
   "outputs": [],
   "source": [
    "u_stat, p_value = mannwhitneyu(campaign_cx['Purchase_Amount'], reg_cx['Purchase_Amount'], alternative='greater')"
   ]
  },
  {
   "cell_type": "code",
   "execution_count": null,
   "id": "553dd3b9",
   "metadata": {},
   "outputs": [],
   "source": [
    "print(p_value)"
   ]
  }
 ],
 "metadata": {
  "kernelspec": {
   "display_name": "Python 3",
   "language": "python",
   "name": "python3"
  },
  "language_info": {
   "codemirror_mode": {
    "name": "ipython",
    "version": 3
   },
   "file_extension": ".py",
   "mimetype": "text/x-python",
   "name": "python",
   "nbconvert_exporter": "python",
   "pygments_lexer": "ipython3",
   "version": "3.8.7"
  }
 },
 "nbformat": 4,
 "nbformat_minor": 5
}
