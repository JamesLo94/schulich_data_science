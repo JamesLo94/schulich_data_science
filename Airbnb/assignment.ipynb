{
 "cells": [
  {
   "cell_type": "code",
   "execution_count": 1,
   "id": "206fbde5",
   "metadata": {},
   "outputs": [],
   "source": [
    "# import libraries\n",
    "import pandas as pd\n",
    "import numpy as np\n",
    "import matplotlib.pyplot as plt\n",
    "import seaborn as sns\n",
    "import warnings\n",
    "import glob\n",
    "import os\n",
    "warnings.filterwarnings('ignore')"
   ]
  },
  {
   "cell_type": "code",
   "execution_count": 2,
   "id": "f80eb78e",
   "metadata": {},
   "outputs": [],
   "source": [
    "listing_2406 = pd.read_csv('C:/Users/q/Desktop/James/Schulich/Data Science/Airbnb/data/listings_2406.csv')\n",
    "listing_2407 = pd.read_csv('C:/Users/q/Desktop/James/Schulich/Data Science/Airbnb/data/listings_2407.csv')\n",
    "listing_2408 = pd.read_csv('C:/Users/q/Desktop/James/Schulich/Data Science/Airbnb/data/listings_2408.csv')\n",
    "listing_2409 = pd.read_csv('C:/Users/q/Desktop/James/Schulich/Data Science/Airbnb/data/listings_2409.csv')\n",
    "listing_2410 = pd.read_csv('C:/Users/q/Desktop/James/Schulich/Data Science/Airbnb/data/listings_2410.csv')\n",
    "listing_2411 = pd.read_csv('C:/Users/q/Desktop/James/Schulich/Data Science/Airbnb/data/listings_2411.csv')\n",
    "listing_2412 = pd.read_csv('C:/Users/q/Desktop/James/Schulich/Data Science/Airbnb/data/listings_2412.csv')\n",
    "listing_2501 = pd.read_csv('C:/Users/q/Desktop/James/Schulich/Data Science/Airbnb/data/listings_2501.csv')\n",
    "listing_2502 = pd.read_csv('C:/Users/q/Desktop/James/Schulich/Data Science/Airbnb/data/listings_2502.csv')\n",
    "listing_2503 = pd.read_csv('C:/Users/q/Desktop/James/Schulich/Data Science/Airbnb/data/listings_2503.csv')\n",
    "listing_2504 = pd.read_csv('C:/Users/q/Desktop/James/Schulich/Data Science/Airbnb/data/listings_2504.csv')\n",
    "listing_2505 = pd.read_csv('C:/Users/q/Desktop/James/Schulich/Data Science/Airbnb/data/listings_2505.csv')"
   ]
  },
  {
   "cell_type": "code",
   "execution_count": null,
   "id": "a169fa10",
   "metadata": {},
   "outputs": [],
   "source": [
    "calendar_2406 = pd.read_csv('C:/Users/q/Desktop/James/Schulich/Data Science/Airbnb/data/calendar_2406.csv')\n",
    "calendar_2407 = pd.read_csv('C:/Users/q/Desktop/James/Schulich/Data Science/Airbnb/data/calendar_2407.csv')\n",
    "calendar_2408 = pd.read_csv('C:/Users/q/Desktop/James/Schulich/Data Science/Airbnb/data/calendar_2408.csv')\n",
    "calendar_2409 = pd.read_csv('C:/Users/q/Desktop/James/Schulich/Data Science/Airbnb/data/calendar_2409.csv')\n",
    "calendar_2410 = pd.read_csv('C:/Users/q/Desktop/James/Schulich/Data Science/Airbnb/data/calendar_2410.csv')\n",
    "calendar_2411 = pd.read_csv('C:/Users/q/Desktop/James/Schulich/Data Science/Airbnb/data/calendar_2411.csv')\n",
    "calendar_2412 = pd.read_csv('C:/Users/q/Desktop/James/Schulich/Data Science/Airbnb/data/calendar_2412.csv')\n",
    "calendar_2501 = pd.read_csv('C:/Users/q/Desktop/James/Schulich/Data Science/Airbnb/data/calendar_2501.csv')\n",
    "calendar_2502 = pd.read_csv('C:/Users/q/Desktop/James/Schulich/Data Science/Airbnb/data/calendar_2502.csv')\n",
    "calendar_2503 = pd.read_csv('C:/Users/q/Desktop/James/Schulich/Data Science/Airbnb/data/calendar_2503.csv')\n",
    "calendar_2504 = pd.read_csv('C:/Users/q/Desktop/James/Schulich/Data Science/Airbnb/data/calendar_2504.csv')\n",
    "calendar_2505 = pd.read_csv('C:/Users/q/Desktop/James/Schulich/Data Science/Airbnb/data/calendar_2505.csv')"
   ]
  },
  {
   "cell_type": "code",
   "execution_count": null,
   "id": "e7726e25",
   "metadata": {},
   "outputs": [],
   "source": [
    "neighbourhoods_2406 = pd.read_csv('C:/Users/q/Desktop/James/Schulich/Data Science/Airbnb/data/neighbourhoods_2406.csv')\n",
    "neighbourhoods_2407 = pd.read_csv('C:/Users/q/Desktop/James/Schulich/Data Science/Airbnb/data/neighbourhoods_2407.csv')\n",
    "neighbourhoods_2408 = pd.read_csv('C:/Users/q/Desktop/James/Schulich/Data Science/Airbnb/data/neighbourhoods_2408.csv')\n",
    "neighbourhoods_2409 = pd.read_csv('C:/Users/q/Desktop/James/Schulich/Data Science/Airbnb/data/neighbourhoods_2409.csv')\n",
    "neighbourhoods_2410 = pd.read_csv('C:/Users/q/Desktop/James/Schulich/Data Science/Airbnb/data/neighbourhoods_2410.csv')\n",
    "neighbourhoods_2411 = pd.read_csv('C:/Users/q/Desktop/James/Schulich/Data Science/Airbnb/data/neighbourhoods_2411.csv')\n",
    "neighbourhoods_2412 = pd.read_csv('C:/Users/q/Desktop/James/Schulich/Data Science/Airbnb/data/neighbourhoods_2412.csv')\n",
    "neighbourhoods_2501 = pd.read_csv('C:/Users/q/Desktop/James/Schulich/Data Science/Airbnb/data/neighbourhoods_2501.csv')\n",
    "neighbourhoods_2502 = pd.read_csv('C:/Users/q/Desktop/James/Schulich/Data Science/Airbnb/data/neighbourhoods_2502.csv')\n",
    "neighbourhoods_2503 = pd.read_csv('C:/Users/q/Desktop/James/Schulich/Data Science/Airbnb/data/neighbourhoods_2503.csv')\n",
    "neighbourhoods_2504 = pd.read_csv('C:/Users/q/Desktop/James/Schulich/Data Science/Airbnb/data/neighbourhoods_2504.csv')\n",
    "neighbourhoods_2505 = pd.read_csv('C:/Users/q/Desktop/James/Schulich/Data Science/Airbnb/data/neighbourhoods_2505.csv')"
   ]
  },
  {
   "cell_type": "code",
   "execution_count": 6,
   "id": "db405d79",
   "metadata": {},
   "outputs": [
    {
     "name": "stdout",
     "output_type": "stream",
     "text": [
      "<class 'pandas.core.frame.DataFrame'>\n",
      "RangeIndex: 37601 entries, 0 to 37600\n",
      "Data columns (total 75 columns):\n",
      " #   Column                                        Non-Null Count  Dtype  \n",
      "---  ------                                        --------------  -----  \n",
      " 0   id                                            37601 non-null  int64  \n",
      " 1   listing_url                                   37601 non-null  object \n",
      " 2   scrape_id                                     37601 non-null  int64  \n",
      " 3   last_scraped                                  37601 non-null  object \n",
      " 4   source                                        37601 non-null  object \n",
      " 5   name                                          37599 non-null  object \n",
      " 6   description                                   36450 non-null  object \n",
      " 7   neighborhood_overview                         21345 non-null  object \n",
      " 8   picture_url                                   37600 non-null  object \n",
      " 9   host_id                                       37601 non-null  int64  \n",
      " 10  host_url                                      37601 non-null  object \n",
      " 11  host_name                                     37596 non-null  object \n",
      " 12  host_since                                    37596 non-null  object \n",
      " 13  host_location                                 29598 non-null  object \n",
      " 14  host_about                                    21218 non-null  object \n",
      " 15  host_response_time                            22770 non-null  object \n",
      " 16  host_response_rate                            22770 non-null  object \n",
      " 17  host_acceptance_rate                          24864 non-null  object \n",
      " 18  host_is_superhost                             37481 non-null  object \n",
      " 19  host_thumbnail_url                            37596 non-null  object \n",
      " 20  host_picture_url                              37596 non-null  object \n",
      " 21  host_neighbourhood                            30124 non-null  object \n",
      " 22  host_listings_count                           37596 non-null  float64\n",
      " 23  host_total_listings_count                     37596 non-null  float64\n",
      " 24  host_verifications                            37596 non-null  object \n",
      " 25  host_has_profile_pic                          37596 non-null  object \n",
      " 26  host_identity_verified                        37596 non-null  object \n",
      " 27  neighbourhood                                 21346 non-null  object \n",
      " 28  neighbourhood_cleansed                        37601 non-null  object \n",
      " 29  neighbourhood_group_cleansed                  37601 non-null  object \n",
      " 30  latitude                                      37601 non-null  float64\n",
      " 31  longitude                                     37601 non-null  float64\n",
      " 32  property_type                                 37601 non-null  object \n",
      " 33  room_type                                     37601 non-null  object \n",
      " 34  accommodates                                  37601 non-null  int64  \n",
      " 35  bathrooms                                     23208 non-null  float64\n",
      " 36  bathrooms_text                                37569 non-null  object \n",
      " 37  bedrooms                                      32081 non-null  float64\n",
      " 38  beds                                          23038 non-null  float64\n",
      " 39  amenities                                     37601 non-null  object \n",
      " 40  price                                         23177 non-null  object \n",
      " 41  minimum_nights                                37601 non-null  int64  \n",
      " 42  maximum_nights                                37601 non-null  int64  \n",
      " 43  minimum_minimum_nights                        37601 non-null  int64  \n",
      " 44  maximum_minimum_nights                        37601 non-null  int64  \n",
      " 45  minimum_maximum_nights                        37601 non-null  int64  \n",
      " 46  maximum_maximum_nights                        37601 non-null  int64  \n",
      " 47  minimum_nights_avg_ntm                        37601 non-null  float64\n",
      " 48  maximum_nights_avg_ntm                        37601 non-null  float64\n",
      " 49  calendar_updated                              0 non-null      float64\n",
      " 50  has_availability                              32221 non-null  object \n",
      " 51  availability_30                               37601 non-null  int64  \n",
      " 52  availability_60                               37601 non-null  int64  \n",
      " 53  availability_90                               37601 non-null  int64  \n",
      " 54  availability_365                              37601 non-null  int64  \n",
      " 55  calendar_last_scraped                         37601 non-null  object \n",
      " 56  number_of_reviews                             37601 non-null  int64  \n",
      " 57  number_of_reviews_ltm                         37601 non-null  int64  \n",
      " 58  number_of_reviews_l30d                        37601 non-null  int64  \n",
      " 59  first_review                                  25987 non-null  object \n",
      " 60  last_review                                   25987 non-null  object \n",
      " 61  review_scores_rating                          25987 non-null  float64\n",
      " 62  review_scores_accuracy                        25966 non-null  float64\n",
      " 63  review_scores_cleanliness                     25976 non-null  float64\n",
      " 64  review_scores_checkin                         25962 non-null  float64\n",
      " 65  review_scores_communication                   25971 non-null  float64\n",
      " 66  review_scores_location                        25959 non-null  float64\n",
      " 67  review_scores_value                           25960 non-null  float64\n",
      " 68  license                                       5056 non-null   object \n",
      " 69  instant_bookable                              37601 non-null  object \n",
      " 70  calculated_host_listings_count                37601 non-null  int64  \n",
      " 71  calculated_host_listings_count_entire_homes   37601 non-null  int64  \n",
      " 72  calculated_host_listings_count_private_rooms  37601 non-null  int64  \n",
      " 73  calculated_host_listings_count_shared_rooms   37601 non-null  int64  \n",
      " 74  reviews_per_month                             25987 non-null  float64\n",
      "dtypes: float64(18), int64(21), object(36)\n",
      "memory usage: 21.5+ MB\n"
     ]
    }
   ],
   "source": [
    "listing_2406.info()"
   ]
  },
  {
   "cell_type": "code",
   "execution_count": 3,
   "id": "f3f74d80",
   "metadata": {},
   "outputs": [],
   "source": [
    "folder_path = r\"C:\\Users\\q\\Desktop\\James\\Schulich\\Data Science\\Airbnb\\data\"\n",
    "file_paths = sorted(glob.glob(os.path.join(folder_path, \"listings_*.csv\")))"
   ]
  },
  {
   "cell_type": "code",
   "execution_count": 4,
   "id": "5d5d3fdd",
   "metadata": {},
   "outputs": [],
   "source": [
    "month_labels = []\n",
    "listing_counts = []\n",
    "median_prices = []\n",
    "price_distributions = {}  # 备用画 boxplot"
   ]
  },
  {
   "cell_type": "code",
   "execution_count": 9,
   "id": "8e12647c",
   "metadata": {},
   "outputs": [
    {
     "name": "stdout",
     "output_type": "stream",
     "text": [
      "2024-06 处理成功\n",
      "2024-07 处理成功\n",
      "2024-08 处理成功\n",
      "2024-09 处理成功\n",
      "2024-10 处理成功\n",
      "2024-11 处理成功\n",
      "2024-12 处理成功\n",
      "2025-01 处理成功\n",
      "2025-02 处理成功\n",
      "2025-03 处理成功\n",
      "2025-04 处理成功\n",
      "2025-05 处理成功\n"
     ]
    }
   ],
   "source": [
    "for file in file_paths:\n",
    "    filename = os.path.basename(file)\n",
    "    ym = filename.split(\"_\")[1].replace(\".csv\", \"\")\n",
    "    year = \"20\" + ym[:2]\n",
    "    month = ym[2:]\n",
    "    label = f\"{year}-{month}\"\n",
    "    month_labels.append(label)\n",
    "\n",
    "    try:\n",
    "        df = pd.read_csv(file)\n",
    "\n",
    "        # 统计 listing 数量\n",
    "        listing_counts.append(df['id'].nunique())\n",
    "\n",
    "        # 价格转换\n",
    "        if 'price' in df.columns:\n",
    "            df['price'] = pd.to_numeric(df['price'].replace('[\\$,]', '', regex=True), errors='coerce')\n",
    "            med_price = df['price'].mean()\n",
    "            median_prices.append(med_price)\n",
    "            price_distributions[label] = df['price'].dropna()\n",
    "        else:\n",
    "            median_prices.append(None)\n",
    "            price_distributions[label] = pd.Series()\n",
    "        \n",
    "        print(f\"{label} 处理成功\")\n",
    "    except Exception as e:\n",
    "        print(f\"{label} 读取失败：{e}\")\n",
    "        listing_counts.append(None)\n",
    "        median_prices.append(None)\n"
   ]
  },
  {
   "cell_type": "code",
   "execution_count": 11,
   "id": "f25e7656",
   "metadata": {},
   "outputs": [
    {
     "data": {
      "image/png": "[encoded data removed]",
      "text/plain": [
       "<Figure size 1000x500 with 1 Axes>"
      ]
     },
     "metadata": {},
     "output_type": "display_data"
    },
    {
     "data": {
      "image/png": "[encoded data removed]",
      "text/plain": [
       "<Figure size 1000x500 with 1 Axes>"
      ]
     },
     "metadata": {},
     "output_type": "display_data"
    }
   ],
   "source": [
    "# 1. Listing 数量趋势图\n",
    "plt.figure(figsize=(10,5))\n",
    "sns.lineplot(x=month_labels, y=listing_counts, marker='o')\n",
    "plt.title(\"Trend of Monthly Listing Amount\")\n",
    "plt.ylabel(\"Amount\")\n",
    "plt.xlabel(\"Month\")\n",
    "plt.xticks(rotation=45)\n",
    "plt.tight_layout()\n",
    "plt.show()\n",
    "\n",
    "# 2. 平均价格趋势图\n",
    "plt.figure(figsize=(10,5))\n",
    "sns.lineplot(x=month_labels, y=median_prices, marker='s', color='orange')\n",
    "plt.title(\"Median Daily Price\")\n",
    "plt.ylabel(\"Med Price ($)\")\n",
    "plt.xlabel(\"Month\")\n",
    "plt.xticks(rotation=45)\n",
    "plt.tight_layout()\n",
    "plt.show()"
   ]
  },
  {
   "cell_type": "code",
   "execution_count": null,
   "id": "49506fa0",
   "metadata": {},
   "outputs": [
    {
     "data": {
      "image/png": "[encoded data removed]",
      "text/plain": [
       "<Figure size 1200x600 with 1 Axes>"
      ]
     },
     "metadata": {},
     "output_type": "display_data"
    }
   ],
   "source": [
    "# 整理成 DataFrame\n",
    "price_box_df = pd.DataFrame([(month, price) for month, series in price_distributions.items() for price in series],\n",
    "                            columns=[\"month\", \"price\"])\n",
    "\n",
    "plt.figure(figsize=(12,6))\n",
    "sns.boxplot(data=price_box_df, x=\"month\", y=\"price\")\n",
    "plt.xticks(rotation=45)\n",
    "plt.title(\"Boxplot of daily price\")\n",
    "plt.ylabel(\"Price($)\")\n",
    "plt.xlabel(\"Month\")\n",
    "plt.tight_layout()\n",
    "plt.ylim(0, price_box_df['price'].quantile(0.95))  # 避免极端值压缩图像\n",
    "plt.show()"
   ]
  },
  {
   "cell_type": "code",
   "execution_count": 13,
   "id": "3d6d3f24",
   "metadata": {},
   "outputs": [],
   "source": [
    "def clean_and_aggregate(file_path, month_str):\n",
    "    df = pd.read_csv(file_path)\n",
    "\n",
    "    # 清理 price\n",
    "    if 'price' in df.columns:\n",
    "        df['price'] = pd.to_numeric(df['price'].replace('[\\$,]', '', regex=True), errors='coerce')\n",
    "\n",
    "    # 仅保留需要栏位并去除缺失\n",
    "    df = df[['room_type', 'price']].dropna()\n",
    "\n",
    "    # 分组统计\n",
    "    summary = df.groupby('room_type').agg(\n",
    "        count=('room_type', 'size'),\n",
    "        avg_price=('price', 'mean')\n",
    "    ).reset_index()\n",
    "\n",
    "    summary['month'] = month_str\n",
    "    return summary\n"
   ]
  },
  {
   "cell_type": "code",
   "execution_count": 14,
   "id": "090220b5",
   "metadata": {},
   "outputs": [],
   "source": [
    "# 总表\n",
    "summary_list = []\n",
    "\n",
    "# 处理每一个档案\n",
    "for file in file_paths:\n",
    "    # 取得月份标签（例如：2406）\n",
    "    month_str = os.path.basename(file).split('_')[1].split('.')[0]\n",
    "    summary_df = clean_and_aggregate(file, month_str)\n",
    "    summary_list.append(summary_df)\n",
    "\n",
    "# 合并所有月份\n",
    "full_summary = pd.concat(summary_list, ignore_index=True)\n"
   ]
  },
  {
   "cell_type": "code",
   "execution_count": 15,
   "id": "1d4f5797",
   "metadata": {},
   "outputs": [
    {
     "data": {
      "image/png": "[encoded data removed]",
      "text/plain": [
       "<Figure size 1200x600 with 1 Axes>"
      ]
     },
     "metadata": {},
     "output_type": "display_data"
    }
   ],
   "source": [
    "# 图一：数量趋势\n",
    "plt.figure(figsize=(12,6))\n",
    "sns.lineplot(\n",
    "    data=full_summary,\n",
    "    x='month',\n",
    "    y='count',\n",
    "    hue='room_type',\n",
    "    marker='o'\n",
    ")\n",
    "plt.title(\"All Kinds of Listing Property(Monthly)\")\n",
    "plt.ylabel(\"Listing Amount\")\n",
    "plt.xticks(rotation=45)\n",
    "plt.grid(True)\n",
    "plt.tight_layout()\n",
    "plt.show()"
   ]
  },
  {
   "cell_type": "code",
   "execution_count": 16,
   "id": "e2917c85",
   "metadata": {},
   "outputs": [
    {
     "data": {
      "image/png": "[encoded data removed]",
      "text/plain": [
       "<Figure size 1200x600 with 1 Axes>"
      ]
     },
     "metadata": {},
     "output_type": "display_data"
    }
   ],
   "source": [
    "# 图二：平均价格趋势\n",
    "plt.figure(figsize=(12,6))\n",
    "sns.lineplot(\n",
    "    data=full_summary,\n",
    "    x='month',\n",
    "    y='avg_price',\n",
    "    hue='room_type',\n",
    "    marker='o'\n",
    ")\n",
    "plt.title(\"各房型平均价格趋势（每月）\")\n",
    "plt.ylabel(\"平均价格（美元）\")\n",
    "plt.xticks(rotation=45)\n",
    "plt.grid(True)\n",
    "plt.tight_layout()\n",
    "plt.show()"
   ]
  },
  {
   "cell_type": "code",
   "execution_count": 6,
   "id": "acc1b14e",
   "metadata": {},
   "outputs": [],
   "source": [
    "def aggregate_minimum_nights(file_path, month_str):\n",
    "    df = pd.read_csv(file_path)\n",
    "\n",
    "    # 仅保留需要栏位\n",
    "    df = df[['room_type', 'minimum_nights']].dropna()\n",
    "\n",
    "    # 转为数值型\n",
    "    df['minimum_nights'] = pd.to_numeric(df['minimum_nights'], errors='coerce')\n",
    "\n",
    "    # 筛选出大于等于 30 天\n",
    "    df = df[df['minimum_nights'] >= 30]\n",
    "\n",
    "    # 分组平均\n",
    "    summary = df.groupby('room_type').agg(\n",
    "        avg_min_nights=('minimum_nights', 'mean')\n",
    "    ).reset_index()\n",
    "\n",
    "    summary['month'] = month_str\n",
    "    return summary\n"
   ]
  },
  {
   "cell_type": "code",
   "execution_count": 7,
   "id": "d06d4328",
   "metadata": {},
   "outputs": [],
   "source": [
    "# 存放 minimum_nights 分析结果\n",
    "min_night_list = []\n",
    "\n",
    "# 处理每一个月\n",
    "for file in file_paths:\n",
    "    month_str = os.path.basename(file).split('_')[1].split('.')[0]\n",
    "    min_summary_df = aggregate_minimum_nights(file, month_str)\n",
    "    min_night_list.append(min_summary_df)\n",
    "\n",
    "# 合并结果\n",
    "min_nights_summary = pd.concat(min_night_list, ignore_index=True)\n"
   ]
  },
  {
   "cell_type": "code",
   "execution_count": 8,
   "id": "6b0790c0",
   "metadata": {},
   "outputs": [
    {
     "data": {
      "image/png": "[encoded data removed]",
      "text/plain": [
       "<Figure size 1200x600 with 1 Axes>"
      ]
     },
     "metadata": {},
     "output_type": "display_data"
    }
   ],
   "source": [
    "plt.figure(figsize=(12,6))\n",
    "sns.lineplot(\n",
    "    data=min_nights_summary,\n",
    "    x='month',\n",
    "    y='avg_min_nights',\n",
    "    hue='room_type',\n",
    "    marker='o'\n",
    ")\n",
    "plt.title(\"各房型平均最短住宿天数（每月，30天以上）\")\n",
    "plt.ylabel(\"平均最短住宿（天）\")\n",
    "plt.xticks(rotation=45)\n",
    "plt.grid(True)\n",
    "plt.tight_layout()\n",
    "plt.show()\n"
   ]
  },
  {
   "cell_type": "code",
   "execution_count": 21,
   "id": "2f5ba7ac",
   "metadata": {},
   "outputs": [],
   "source": [
    "def analyze_shared_room_long_stay(file_path, month_str):\n",
    "    df = pd.read_csv(file_path)\n",
    "\n",
    "    # 只保留我们要的栏位\n",
    "    df = df[['room_type', 'minimum_nights', 'price']].dropna()\n",
    "\n",
    "    # 保留 Shared room 且 minimum_nights > 30\n",
    "    df = df[(df['room_type'] == 'Shared room') & (df['minimum_nights'] > 30)]\n",
    "\n",
    "    # 清理价格\n",
    "    df['price'] = pd.to_numeric(df['price'].replace('[\\$,]', '', regex=True), errors='coerce')\n",
    "    df['minimum_nights'] = pd.to_numeric(df['minimum_nights'], errors='coerce')\n",
    "\n",
    "    df['month'] = month_str\n",
    "    return df\n"
   ]
  },
  {
   "cell_type": "code",
   "execution_count": 22,
   "id": "c1ecd3f1",
   "metadata": {},
   "outputs": [],
   "source": [
    "shared_room_long_list = []\n",
    "\n",
    "for file in file_paths:\n",
    "    month_str = os.path.basename(file).split('_')[1].split('.')[0]\n",
    "    shared_df = analyze_shared_room_long_stay(file, month_str)\n",
    "    shared_room_long_list.append(shared_df)\n",
    "\n",
    "# 合并所有月份\n",
    "shared_long_stays = pd.concat(shared_room_long_list, ignore_index=True)\n"
   ]
  },
  {
   "cell_type": "code",
   "execution_count": 23,
   "id": "171936b1",
   "metadata": {},
   "outputs": [
    {
     "data": {
      "image/png": "[encoded data removed]",
      "text/plain": [
       "<Figure size 1200x600 with 1 Axes>"
      ]
     },
     "metadata": {},
     "output_type": "display_data"
    }
   ],
   "source": [
    "plt.figure(figsize=(12,6))\n",
    "sns.boxplot(\n",
    "    data=shared_long_stays,\n",
    "    x='month',\n",
    "    y='minimum_nights',\n",
    "    color='lightblue'\n",
    ")\n",
    "plt.title(\"Shared Room 最短住宿天数分布（仅限 > 30 天）\")\n",
    "plt.ylabel(\"最短住宿天数\")\n",
    "plt.xlabel(\"月份\")\n",
    "plt.xticks(rotation=45)\n",
    "plt.grid(True)\n",
    "plt.tight_layout()\n",
    "plt.show()\n"
   ]
  },
  {
   "cell_type": "code",
   "execution_count": 24,
   "id": "76c39309",
   "metadata": {},
   "outputs": [
    {
     "data": {
      "image/png": "[encoded data removed]",
      "text/plain": [
       "<Figure size 1200x600 with 1 Axes>"
      ]
     },
     "metadata": {},
     "output_type": "display_data"
    }
   ],
   "source": [
    "# 计算每月中位数价格\n",
    "median_price_by_month = (\n",
    "    shared_long_stays\n",
    "    .groupby('month')['price']\n",
    "    .median()\n",
    "    .reset_index()\n",
    ")\n",
    "\n",
    "plt.figure(figsize=(12,6))\n",
    "sns.lineplot(\n",
    "    data=median_price_by_month,\n",
    "    x='month',\n",
    "    y='price',\n",
    "    marker='o',\n",
    "    color='tomato'\n",
    ")\n",
    "plt.title(\"Shared Room 长租（>30天）中位数价格趋势\")\n",
    "plt.ylabel(\"中位数价格（美元）\")\n",
    "plt.xlabel(\"月份\")\n",
    "plt.xticks(rotation=45)\n",
    "plt.grid(True)\n",
    "plt.tight_layout()\n",
    "plt.show()\n"
   ]
  },
  {
   "cell_type": "code",
   "execution_count": 16,
   "id": "3dec51ec",
   "metadata": {},
   "outputs": [],
   "source": [
    "def load_shared_room_longstay(file_path, month_str):\n",
    "    df = pd.read_csv(file_path)\n",
    "    df = df[['room_type', 'minimum_nights', 'price', 'neighbourhood_group_cleansed']].dropna()\n",
    "\n",
    "    # 只保留 Shared room 且住宿天数 >= 30 天\n",
    "    df = df[(df['room_type'] == 'Shared room') & (df['minimum_nights'] >= 30)]\n",
    "\n",
    "    # 清理数据格式\n",
    "    df['price'] = pd.to_numeric(df['price'].replace('[\\$,]', '', regex=True), errors='coerce')\n",
    "    df['minimum_nights'] = pd.to_numeric(df['minimum_nights'], errors='coerce')\n",
    "\n",
    "    # 加入月份与城市\n",
    "    df['month'] = month_str\n",
    "    df['city'] = df['neighbourhood_group_cleansed']  # 简化城市分析\n",
    "    return df\n",
    "\n",
    "# 所有 csv 路径\n",
    "folder_path = r\"C:\\Users\\q\\Desktop\\James\\Schulich\\Data Science\\Airbnb\\data\"\n",
    "file_paths = [os.path.join(folder_path, f) for f in os.listdir(folder_path) if f.startswith(\"listings_\")]\n",
    "\n",
    "all_data = []\n",
    "\n",
    "for path in sorted(file_paths):\n",
    "    month_code = os.path.basename(path).split('_')[1].split('.')[0]\n",
    "    df_month = load_shared_room_longstay(path, month_code)\n",
    "    all_data.append(df_month)\n",
    "\n",
    "shared_long_stays = pd.concat(all_data, ignore_index=True)"
   ]
  },
  {
   "cell_type": "code",
   "execution_count": 17,
   "id": "d87b2061",
   "metadata": {},
   "outputs": [],
   "source": [
    "q1 = shared_long_stays['minimum_nights'].quantile(0.25)\n",
    "q3 = shared_long_stays['minimum_nights'].quantile(0.75)\n",
    "iqr = q3 - q1\n",
    "lower = q1 - 1.5 * iqr\n",
    "upper = q3 + 1.5 * iqr\n",
    "\n",
    "# 标记异常\n",
    "shared_long_stays['outlier'] = ~shared_long_stays['minimum_nights'].between(lower, upper)\n"
   ]
  },
  {
   "cell_type": "code",
   "execution_count": 18,
   "id": "11c73a98",
   "metadata": {},
   "outputs": [],
   "source": [
    "listing_count = shared_long_stays.groupby('month').size().reset_index(name='shared_room_count')"
   ]
  },
  {
   "cell_type": "code",
   "execution_count": 19,
   "id": "f893d881",
   "metadata": {},
   "outputs": [],
   "source": [
    "city_comparison = (\n",
    "    shared_long_stays[~shared_long_stays['outlier']]\n",
    "    .groupby(['city', 'month'])['minimum_nights']\n",
    "    .median().reset_index()\n",
    ")\n"
   ]
  },
  {
   "cell_type": "code",
   "execution_count": 20,
   "id": "2f9e0236",
   "metadata": {},
   "outputs": [],
   "source": [
    "median_price = (\n",
    "    shared_long_stays\n",
    "    .groupby(['month', 'city'])['price']\n",
    "    .median().reset_index()\n",
    ")"
   ]
  },
  {
   "cell_type": "code",
   "execution_count": null,
   "id": "ff71ce18",
   "metadata": {},
   "outputs": [
    {
     "name": "stdout",
     "output_type": "stream",
     "text": [
      "Collecting plotly\n",
      "  Downloading plotly-6.1.2-py3-none-any.whl (16.3 MB)\n",
      "Collecting narwhals>=1.15.1\n",
      "  Downloading narwhals-1.41.0-py3-none-any.whl (357 kB)\n",
      "Requirement already satisfied: packaging in c:\\users\\q\\appdata\\roaming\\python\\python38\\site-packages (from plotly) (25.0)\n",
      "Installing collected packages: narwhals, plotly\n",
      "Successfully installed narwhals-1.41.0 plotly-6.1.2\n",
      "Note: you may need to restart the kernel to use updated packages.\n"
     ]
    },
    {
     "name": "stderr",
     "output_type": "stream",
     "text": [
      "  WARNING: The script plotly_get_chrome.exe is installed in 'c:\\Users\\q\\AppData\\Local\\Programs\\Python\\Python38\\Scripts' which is not on PATH.\n",
      "  Consider adding this directory to PATH or, if you prefer to suppress this warning, use --no-warn-script-location.\n",
      "WARNING: You are using pip version 20.2.3; however, version 25.0.1 is available.\n",
      "You should consider upgrading via the 'c:\\Users\\q\\AppData\\Local\\Programs\\Python\\Python38\\python.exe -m pip install --upgrade pip' command.\n"
     ]
    }
   ],
   "source": [
    "%pip install plotly"
   ]
  },
  {
   "cell_type": "code",
   "execution_count": null,
   "id": "c08a0a3d",
   "metadata": {},
   "outputs": [
    {
     "name": "stdout",
     "output_type": "stream",
     "text": [
      "Note: you may need to restart the kernel to use updated packages.\n"
     ]
    },
    {
     "name": "stderr",
     "output_type": "stream",
     "text": [
      "ERROR: unknown command \"upgrade\"\n",
      "\n"
     ]
    }
   ],
   "source": [
    "%pip upgrade plotly"
   ]
  },
  {
   "cell_type": "code",
   "execution_count": 31,
   "id": "acda312c",
   "metadata": {},
   "outputs": [
    {
     "name": "stdout",
     "output_type": "stream",
     "text": [
      "Collecting nbformat\n",
      "  Downloading nbformat-5.10.4-py3-none-any.whl (78 kB)\n",
      "Collecting fastjsonschema>=2.15\n",
      "  Downloading fastjsonschema-2.21.1-py3-none-any.whl (23 kB)\n",
      "Requirement already satisfied: jupyter-core!=5.0.*,>=4.12 in c:\\users\\q\\appdata\\roaming\\python\\python38\\site-packages (from nbformat) (5.7.2)\n",
      "Requirement already satisfied: traitlets>=5.1 in c:\\users\\q\\appdata\\roaming\\python\\python38\\site-packages (from nbformat) (5.14.3)\n",
      "Collecting jsonschema>=2.6\n",
      "  Downloading jsonschema-4.23.0-py3-none-any.whl (88 kB)\n",
      "Requirement already satisfied: platformdirs>=2.5 in c:\\users\\q\\appdata\\roaming\\python\\python38\\site-packages (from jupyter-core!=5.0.*,>=4.12->nbformat) (4.3.6)\n",
      "Requirement already satisfied: pywin32>=300; sys_platform == \"win32\" and platform_python_implementation != \"PyPy\" in c:\\users\\q\\appdata\\roaming\\python\\python38\\site-packages (from jupyter-core!=5.0.*,>=4.12->nbformat) (310)\n",
      "Requirement already satisfied: importlib-resources>=1.4.0; python_version < \"3.9\" in c:\\users\\q\\appdata\\local\\programs\\python\\python38\\lib\\site-packages (from jsonschema>=2.6->nbformat) (6.4.5)\n",
      "Collecting attrs>=22.2.0\n",
      "  Downloading attrs-25.3.0-py3-none-any.whl (63 kB)\n",
      "Collecting rpds-py>=0.7.1\n",
      "  Downloading rpds_py-0.20.1-cp38-none-win_amd64.whl (218 kB)\n",
      "Collecting pkgutil-resolve-name>=1.3.10; python_version < \"3.9\"\n",
      "  Downloading pkgutil_resolve_name-1.3.10-py3-none-any.whl (4.7 kB)\n",
      "Collecting jsonschema-specifications>=2023.03.6\n",
      "  Downloading jsonschema_specifications-2023.12.1-py3-none-any.whl (18 kB)\n",
      "Collecting referencing>=0.28.4\n",
      "  Downloading referencing-0.35.1-py3-none-any.whl (26 kB)\n",
      "Requirement already satisfied: zipp>=3.1.0; python_version < \"3.10\" in c:\\users\\q\\appdata\\roaming\\python\\python38\\site-packages (from importlib-resources>=1.4.0; python_version < \"3.9\"->jsonschema>=2.6->nbformat) (3.20.2)\n",
      "Installing collected packages: fastjsonschema, attrs, rpds-py, pkgutil-resolve-name, referencing, jsonschema-specifications, jsonschema, nbformat\n",
      "Successfully installed attrs-25.3.0 fastjsonschema-2.21.1 jsonschema-4.23.0 jsonschema-specifications-2023.12.1 nbformat-5.10.4 pkgutil-resolve-name-1.3.10 referencing-0.35.1 rpds-py-0.20.1\n",
      "Note: you may need to restart the kernel to use updated packages.\n"
     ]
    },
    {
     "name": "stderr",
     "output_type": "stream",
     "text": [
      "  WARNING: The script jsonschema.exe is installed in 'c:\\Users\\q\\AppData\\Local\\Programs\\Python\\Python38\\Scripts' which is not on PATH.\n",
      "  Consider adding this directory to PATH or, if you prefer to suppress this warning, use --no-warn-script-location.\n",
      "  WARNING: The script jupyter-trust.exe is installed in 'c:\\Users\\q\\AppData\\Local\\Programs\\Python\\Python38\\Scripts' which is not on PATH.\n",
      "  Consider adding this directory to PATH or, if you prefer to suppress this warning, use --no-warn-script-location.\n",
      "WARNING: You are using pip version 20.2.3; however, version 25.0.1 is available.\n",
      "You should consider upgrading via the 'c:\\Users\\q\\AppData\\Local\\Programs\\Python\\Python38\\python.exe -m pip install --upgrade pip' command.\n"
     ]
    }
   ],
   "source": [
    "%pip install nbformat"
   ]
  },
  {
   "cell_type": "code",
   "execution_count": 21,
   "id": "6725a377",
   "metadata": {},
   "outputs": [
    {
     "data": {
      "application/vnd.plotly.v1+json": {
       "config": {
        "plotlyServerURL": "https://plot.ly"
       },
       "data": [
        {
         "hovertemplate": "month=%{x}<br>shared_room_count=%{y}<extra></extra>",
         "legendgroup": "",
         "line": {
          "color": "#636efa",
          "dash": "solid"
         },
         "marker": {
          "symbol": "circle"
         },
         "mode": "lines",
         "name": "",
         "orientation": "v",
         "showlegend": false,
         "type": "scatter",
         "x": [
          "2406",
          "2407",
          "2408",
          "2409",
          "2410",
          "2411",
          "2412",
          "2501",
          "2502",
          "2503",
          "2504",
          "2505"
         ],
         "xaxis": "x",
         "y": {
          "bdata": "IwEVAR0B0gDXANMA0gAlADkAPABWAGEA",
          "dtype": "i2"
         },
         "yaxis": "y"
        }
       ],
       "layout": {
        "legend": {
         "tracegroupgap": 0
        },
        "template": {
         "data": {
          "bar": [
           {
            "error_x": {
             "color": "#2a3f5f"
            },
            "error_y": {
             "color": "#2a3f5f"
            },
            "marker": {
             "line": {
              "color": "#E5ECF6",
              "width": 0.5
             },
             "pattern": {
              "fillmode": "overlay",
              "size": 10,
              "solidity": 0.2
             }
            },
            "type": "bar"
           }
          ],
          "barpolar": [
           {
            "marker": {
             "line": {
              "color": "#E5ECF6",
              "width": 0.5
             },
             "pattern": {
              "fillmode": "overlay",
              "size": 10,
              "solidity": 0.2
             }
            },
            "type": "barpolar"
           }
          ],
          "carpet": [
           {
            "aaxis": {
             "endlinecolor": "#2a3f5f",
             "gridcolor": "white",
             "linecolor": "white",
             "minorgridcolor": "white",
             "startlinecolor": "#2a3f5f"
            },
            "baxis": {
             "endlinecolor": "#2a3f5f",
             "gridcolor": "white",
             "linecolor": "white",
             "minorgridcolor": "white",
             "startlinecolor": "#2a3f5f"
            },
            "type": "carpet"
           }
          ],
          "choropleth": [
           {
            "colorbar": {
             "outlinewidth": 0,
             "ticks": ""
            },
            "type": "choropleth"
           }
          ],
          "contour": [
           {
            "colorbar": {
             "outlinewidth": 0,
             "ticks": ""
            },
            "colorscale": [
             [
              0,
              "#0d0887"
             ],
             [
              0.1111111111111111,
              "#46039f"
             ],
             [
              0.2222222222222222,
              "#7201a8"
             ],
             [
              0.3333333333333333,
              "#9c179e"
             ],
             [
              0.4444444444444444,
              "#bd3786"
             ],
             [
              0.5555555555555556,
              "#d8576b"
             ],
             [
              0.6666666666666666,
              "#ed7953"
             ],
             [
              0.7777777777777778,
              "#fb9f3a"
             ],
             [
              0.8888888888888888,
              "#fdca26"
             ],
             [
              1,
              "#f0f921"
             ]
            ],
            "type": "contour"
           }
          ],
          "contourcarpet": [
           {
            "colorbar": {
             "outlinewidth": 0,
             "ticks": ""
            },
            "type": "contourcarpet"
           }
          ],
          "heatmap": [
           {
            "colorbar": {
             "outlinewidth": 0,
             "ticks": ""
            },
            "colorscale": [
             [
              0,
              "#0d0887"
             ],
             [
              0.1111111111111111,
              "#46039f"
             ],
             [
              0.2222222222222222,
              "#7201a8"
             ],
             [
              0.3333333333333333,
              "#9c179e"
             ],
             [
              0.4444444444444444,
              "#bd3786"
             ],
             [
              0.5555555555555556,
              "#d8576b"
             ],
             [
              0.6666666666666666,
              "#ed7953"
             ],
             [
              0.7777777777777778,
              "#fb9f3a"
             ],
             [
              0.8888888888888888,
              "#fdca26"
             ],
             [
              1,
              "#f0f921"
             ]
            ],
            "type": "heatmap"
           }
          ],
          "histogram": [
           {
            "marker": {
             "pattern": {
              "fillmode": "overlay",
              "size": 10,
              "solidity": 0.2
             }
            },
            "type": "histogram"
           }
          ],
          "histogram2d": [
           {
            "colorbar": {
             "outlinewidth": 0,
             "ticks": ""
            },
            "colorscale": [
             [
              0,
              "#0d0887"
             ],
             [
              0.1111111111111111,
              "#46039f"
             ],
             [
              0.2222222222222222,
              "#7201a8"
             ],
             [
              0.3333333333333333,
              "#9c179e"
             ],
             [
              0.4444444444444444,
              "#bd3786"
             ],
             [
              0.5555555555555556,
              "#d8576b"
             ],
             [
              0.6666666666666666,
              "#ed7953"
             ],
             [
              0.7777777777777778,
              "#fb9f3a"
             ],
             [
              0.8888888888888888,
              "#fdca26"
             ],
             [
              1,
              "#f0f921"
             ]
            ],
            "type": "histogram2d"
           }
          ],
          "histogram2dcontour": [
           {
            "colorbar": {
             "outlinewidth": 0,
             "ticks": ""
            },
            "colorscale": [
             [
              0,
              "#0d0887"
             ],
             [
              0.1111111111111111,
              "#46039f"
             ],
             [
              0.2222222222222222,
              "#7201a8"
             ],
             [
              0.3333333333333333,
              "#9c179e"
             ],
             [
              0.4444444444444444,
              "#bd3786"
             ],
             [
              0.5555555555555556,
              "#d8576b"
             ],
             [
              0.6666666666666666,
              "#ed7953"
             ],
             [
              0.7777777777777778,
              "#fb9f3a"
             ],
             [
              0.8888888888888888,
              "#fdca26"
             ],
             [
              1,
              "#f0f921"
             ]
            ],
            "type": "histogram2dcontour"
           }
          ],
          "mesh3d": [
           {
            "colorbar": {
             "outlinewidth": 0,
             "ticks": ""
            },
            "type": "mesh3d"
           }
          ],
          "parcoords": [
           {
            "line": {
             "colorbar": {
              "outlinewidth": 0,
              "ticks": ""
             }
            },
            "type": "parcoords"
           }
          ],
          "pie": [
           {
            "automargin": true,
            "type": "pie"
           }
          ],
          "scatter": [
           {
            "fillpattern": {
             "fillmode": "overlay",
             "size": 10,
             "solidity": 0.2
            },
            "type": "scatter"
           }
          ],
          "scatter3d": [
           {
            "line": {
             "colorbar": {
              "outlinewidth": 0,
              "ticks": ""
             }
            },
            "marker": {
             "colorbar": {
              "outlinewidth": 0,
              "ticks": ""
             }
            },
            "type": "scatter3d"
           }
          ],
          "scattercarpet": [
           {
            "marker": {
             "colorbar": {
              "outlinewidth": 0,
              "ticks": ""
             }
            },
            "type": "scattercarpet"
           }
          ],
          "scattergeo": [
           {
            "marker": {
             "colorbar": {
              "outlinewidth": 0,
              "ticks": ""
             }
            },
            "type": "scattergeo"
           }
          ],
          "scattergl": [
           {
            "marker": {
             "colorbar": {
              "outlinewidth": 0,
              "ticks": ""
             }
            },
            "type": "scattergl"
           }
          ],
          "scattermap": [
           {
            "marker": {
             "colorbar": {
              "outlinewidth": 0,
              "ticks": ""
             }
            },
            "type": "scattermap"
           }
          ],
          "scattermapbox": [
           {
            "marker": {
             "colorbar": {
              "outlinewidth": 0,
              "ticks": ""
             }
            },
            "type": "scattermapbox"
           }
          ],
          "scatterpolar": [
           {
            "marker": {
             "colorbar": {
              "outlinewidth": 0,
              "ticks": ""
             }
            },
            "type": "scatterpolar"
           }
          ],
          "scatterpolargl": [
           {
            "marker": {
             "colorbar": {
              "outlinewidth": 0,
              "ticks": ""
             }
            },
            "type": "scatterpolargl"
           }
          ],
          "scatterternary": [
           {
            "marker": {
             "colorbar": {
              "outlinewidth": 0,
              "ticks": ""
             }
            },
            "type": "scatterternary"
           }
          ],
          "surface": [
           {
            "colorbar": {
             "outlinewidth": 0,
             "ticks": ""
            },
            "colorscale": [
             [
              0,
              "#0d0887"
             ],
             [
              0.1111111111111111,
              "#46039f"
             ],
             [
              0.2222222222222222,
              "#7201a8"
             ],
             [
              0.3333333333333333,
              "#9c179e"
             ],
             [
              0.4444444444444444,
              "#bd3786"
             ],
             [
              0.5555555555555556,
              "#d8576b"
             ],
             [
              0.6666666666666666,
              "#ed7953"
             ],
             [
              0.7777777777777778,
              "#fb9f3a"
             ],
             [
              0.8888888888888888,
              "#fdca26"
             ],
             [
              1,
              "#f0f921"
             ]
            ],
            "type": "surface"
           }
          ],
          "table": [
           {
            "cells": {
             "fill": {
              "color": "#EBF0F8"
             },
             "line": {
              "color": "white"
             }
            },
            "header": {
             "fill": {
              "color": "#C8D4E3"
             },
             "line": {
              "color": "white"
             }
            },
            "type": "table"
           }
          ]
         },
         "layout": {
          "annotationdefaults": {
           "arrowcolor": "#2a3f5f",
           "arrowhead": 0,
           "arrowwidth": 1
          },
          "autotypenumbers": "strict",
          "coloraxis": {
           "colorbar": {
            "outlinewidth": 0,
            "ticks": ""
           }
          },
          "colorscale": {
           "diverging": [
            [
             0,
             "#8e0152"
            ],
            [
             0.1,
             "#c51b7d"
            ],
            [
             0.2,
             "#de77ae"
            ],
            [
             0.3,
             "#f1b6da"
            ],
            [
             0.4,
             "#fde0ef"
            ],
            [
             0.5,
             "#f7f7f7"
            ],
            [
             0.6,
             "#e6f5d0"
            ],
            [
             0.7,
             "#b8e186"
            ],
            [
             0.8,
             "#7fbc41"
            ],
            [
             0.9,
             "#4d9221"
            ],
            [
             1,
             "#276419"
            ]
           ],
           "sequential": [
            [
             0,
             "#0d0887"
            ],
            [
             0.1111111111111111,
             "#46039f"
            ],
            [
             0.2222222222222222,
             "#7201a8"
            ],
            [
             0.3333333333333333,
             "#9c179e"
            ],
            [
             0.4444444444444444,
             "#bd3786"
            ],
            [
             0.5555555555555556,
             "#d8576b"
            ],
            [
             0.6666666666666666,
             "#ed7953"
            ],
            [
             0.7777777777777778,
             "#fb9f3a"
            ],
            [
             0.8888888888888888,
             "#fdca26"
            ],
            [
             1,
             "#f0f921"
            ]
           ],
           "sequentialminus": [
            [
             0,
             "#0d0887"
            ],
            [
             0.1111111111111111,
             "#46039f"
            ],
            [
             0.2222222222222222,
             "#7201a8"
            ],
            [
             0.3333333333333333,
             "#9c179e"
            ],
            [
             0.4444444444444444,
             "#bd3786"
            ],
            [
             0.5555555555555556,
             "#d8576b"
            ],
            [
             0.6666666666666666,
             "#ed7953"
            ],
            [
             0.7777777777777778,
             "#fb9f3a"
            ],
            [
             0.8888888888888888,
             "#fdca26"
            ],
            [
             1,
             "#f0f921"
            ]
           ]
          },
          "colorway": [
           "#636efa",
           "#EF553B",
           "#00cc96",
           "#ab63fa",
           "#FFA15A",
           "#19d3f3",
           "#FF6692",
           "#B6E880",
           "#FF97FF",
           "#FECB52"
          ],
          "font": {
           "color": "#2a3f5f"
          },
          "geo": {
           "bgcolor": "white",
           "lakecolor": "white",
           "landcolor": "#E5ECF6",
           "showlakes": true,
           "showland": true,
           "subunitcolor": "white"
          },
          "hoverlabel": {
           "align": "left"
          },
          "hovermode": "closest",
          "mapbox": {
           "style": "light"
          },
          "paper_bgcolor": "white",
          "plot_bgcolor": "#E5ECF6",
          "polar": {
           "angularaxis": {
            "gridcolor": "white",
            "linecolor": "white",
            "ticks": ""
           },
           "bgcolor": "#E5ECF6",
           "radialaxis": {
            "gridcolor": "white",
            "linecolor": "white",
            "ticks": ""
           }
          },
          "scene": {
           "xaxis": {
            "backgroundcolor": "#E5ECF6",
            "gridcolor": "white",
            "gridwidth": 2,
            "linecolor": "white",
            "showbackground": true,
            "ticks": "",
            "zerolinecolor": "white"
           },
           "yaxis": {
            "backgroundcolor": "#E5ECF6",
            "gridcolor": "white",
            "gridwidth": 2,
            "linecolor": "white",
            "showbackground": true,
            "ticks": "",
            "zerolinecolor": "white"
           },
           "zaxis": {
            "backgroundcolor": "#E5ECF6",
            "gridcolor": "white",
            "gridwidth": 2,
            "linecolor": "white",
            "showbackground": true,
            "ticks": "",
            "zerolinecolor": "white"
           }
          },
          "shapedefaults": {
           "line": {
            "color": "#2a3f5f"
           }
          },
          "ternary": {
           "aaxis": {
            "gridcolor": "white",
            "linecolor": "white",
            "ticks": ""
           },
           "baxis": {
            "gridcolor": "white",
            "linecolor": "white",
            "ticks": ""
           },
           "bgcolor": "#E5ECF6",
           "caxis": {
            "gridcolor": "white",
            "linecolor": "white",
            "ticks": ""
           }
          },
          "title": {
           "x": 0.05
          },
          "xaxis": {
           "automargin": true,
           "gridcolor": "white",
           "linecolor": "white",
           "ticks": "",
           "title": {
            "standoff": 15
           },
           "zerolinecolor": "white",
           "zerolinewidth": 2
          },
          "yaxis": {
           "automargin": true,
           "gridcolor": "white",
           "linecolor": "white",
           "ticks": "",
           "title": {
            "standoff": 15
           },
           "zerolinecolor": "white",
           "zerolinewidth": 2
          }
         }
        },
        "title": {
         "text": "Shared Room (住宿>=30天) 每月数量"
        },
        "xaxis": {
         "anchor": "y",
         "domain": [
          0,
          1
         ],
         "title": {
          "text": "month"
         }
        },
        "yaxis": {
         "anchor": "x",
         "domain": [
          0,
          1
         ],
         "title": {
          "text": "shared_room_count"
         }
        }
       }
      }
     },
     "metadata": {},
     "output_type": "display_data"
    },
    {
     "data": {
      "application/vnd.plotly.v1+json": {
       "config": {
        "plotlyServerURL": "https://plot.ly"
       },
       "data": [
        {
         "alignmentgroup": "True",
         "boxpoints": "outliers",
         "hovertemplate": "outlier=False<br>month=%{x}<br>minimum_nights=%{y}<extra></extra>",
         "legendgroup": "False",
         "marker": {
          "color": "#636efa"
         },
         "name": "False",
         "notched": false,
         "offsetgroup": "False",
         "orientation": "v",
         "showlegend": true,
         "type": "box",
         "x": [
          "2406",
          "2406",
          "2406",
          "2406",
          "2406",
          "2406",
          "2406",
          "2406",
          "2406",
          "2406",
          "2406",
          "2406",
          "2406",
          "2406",
          "2406",
          "2406",
          "2406",
          "2406",
          "2406",
          "2406",
          "2406",
          "2406",
          "2406",
          "2406",
          "2406",
          "2406",
          "2406",
          "2406",
          "2406",
          "2406",
          "2406",
          "2406",
          "2406",
          "2406",
          "2406",
          "2406",
          "2406",
          "2406",
          "2406",
          "2406",
          "2406",
          "2406",
          "2406",
          "2406",
          "2406",
          "2406",
          "2406",
          "2406",
          "2406",
          "2406",
          "2406",
          "2406",
          "2406",
          "2406",
          "2406",
          "2406",
          "2406",
          "2406",
          "2406",
          "2406",
          "2406",
          "2406",
          "2406",
          "2406",
          "2406",
          "2406",
          "2406",
          "2406",
          "2406",
          "2406",
          "2406",
          "2406",
          "2406",
          "2406",
          "2406",
          "2406",
          "2406",
          "2406",
          "2406",
          "2406",
          "2406",
          "2406",
          "2406",
          "2406",
          "2406",
          "2406",
          "2406",
          "2406",
          "2406",
          "2406",
          "2406",
          "2406",
          "2406",
          "2406",
          "2406",
          "2406",
          "2406",
          "2406",
          "2406",
          "2406",
          "2406",
          "2406",
          "2406",
          "2406",
          "2406",
          "2406",
          "2406",
          "2406",
          "2406",
          "2406",
          "2406",
          "2406",
          "2406",
          "2406",
          "2406",
          "2406",
          "2406",
          "2406",
          "2406",
          "2406",
          "2406",
          "2406",
          "2406",
          "2406",
          "2406",
          "2406",
          "2406",
          "2406",
          "2406",
          "2406",
          "2406",
          "2406",
          "2406",
          "2406",
          "2406",
          "2406",
          "2406",
          "2406",
          "2406",
          "2406",
          "2406",
          "2406",
          "2406",
          "2406",
          "2406",
          "2406",
          "2406",
          "2406",
          "2406",
          "2406",
          "2406",
          "2406",
          "2406",
          "2406",
          "2406",
          "2406",
          "2406",
          "2406",
          "2406",
          "2406",
          "2406",
          "2406",
          "2406",
          "2406",
          "2406",
          "2406",
          "2406",
          "2406",
          "2406",
          "2406",
          "2406",
          "2406",
          "2406",
          "2406",
          "2406",
          "2406",
          "2406",
          "2406",
          "2406",
          "2406",
          "2406",
          "2406",
          "2406",
          "2406",
          "2406",
          "2406",
          "2406",
          "2406",
          "2406",
          "2406",
          "2406",
          "2406",
          "2406",
          "2406",
          "2406",
          "2406",
          "2406",
          "2406",
          "2406",
          "2406",
          "2406",
          "2406",
          "2406",
          "2406",
          "2406",
          "2406",
          "2406",
          "2406",
          "2406",
          "2406",
          "2406",
          "2406",
          "2406",
          "2406",
          "2406",
          "2406",
          "2406",
          "2406",
          "2406",
          "2406",
          "2406",
          "2406",
          "2406",
          "2406",
          "2406",
          "2406",
          "2406",
          "2406",
          "2406",
          "2406",
          "2406",
          "2406",
          "2406",
          "2406",
          "2406",
          "2406",
          "2406",
          "2406",
          "2406",
          "2406",
          "2406",
          "2406",
          "2406",
          "2406",
          "2406",
          "2406",
          "2406",
          "2406",
          "2406",
          "2406",
          "2406",
          "2406",
          "2406",
          "2406",
          "2406",
          "2406",
          "2406",
          "2406",
          "2406",
          "2406",
          "2406",
          "2406",
          "2406",
          "2406",
          "2406",
          "2406",
          "2406",
          "2406",
          "2406",
          "2406",
          "2406",
          "2406",
          "2406",
          "2406",
          "2406",
          "2406",
          "2406",
          "2406",
          "2406",
          "2406",
          "2406",
          "2407",
          "2407",
          "2407",
          "2407",
          "2407",
          "2407",
          "2407",
          "2407",
          "2407",
          "2407",
          "2407",
          "2407",
          "2407",
          "2407",
          "2407",
          "2407",
          "2407",
          "2407",
          "2407",
          "2407",
          "2407",
          "2407",
          "2407",
          "2407",
          "2407",
          "2407",
          "2407",
          "2407",
          "2407",
          "2407",
          "2407",
          "2407",
          "2407",
          "2407",
          "2407",
          "2407",
          "2407",
          "2407",
          "2407",
          "2407",
          "2407",
          "2407",
          "2407",
          "2407",
          "2407",
          "2407",
          "2407",
          "2407",
          "2407",
          "2407",
          "2407",
          "2407",
          "2407",
          "2407",
          "2407",
          "2407",
          "2407",
          "2407",
          "2407",
          "2407",
          "2407",
          "2407",
          "2407",
          "2407",
          "2407",
          "2407",
          "2407",
          "2407",
          "2407",
          "2407",
          "2407",
          "2407",
          "2407",
          "2407",
          "2407",
          "2407",
          "2407",
          "2407",
          "2407",
          "2407",
          "2407",
          "2407",
          "2407",
          "2407",
          "2407",
          "2407",
          "2407",
          "2407",
          "2407",
          "2407",
          "2407",
          "2407",
          "2407",
          "2407",
          "2407",
          "2407",
          "2407",
          "2407",
          "2407",
          "2407",
          "2407",
          "2407",
          "2407",
          "2407",
          "2407",
          "2407",
          "2407",
          "2407",
          "2407",
          "2407",
          "2407",
          "2407",
          "2407",
          "2407",
          "2407",
          "2407",
          "2407",
          "2407",
          "2407",
          "2407",
          "2407",
          "2407",
          "2407",
          "2407",
          "2407",
          "2407",
          "2407",
          "2407",
          "2407",
          "2407",
          "2407",
          "2407",
          "2407",
          "2407",
          "2407",
          "2407",
          "2407",
          "2407",
          "2407",
          "2407",
          "2407",
          "2407",
          "2407",
          "2407",
          "2407",
          "2407",
          "2407",
          "2407",
          "2407",
          "2407",
          "2407",
          "2407",
          "2407",
          "2407",
          "2407",
          "2407",
          "2407",
          "2407",
          "2407",
          "2407",
          "2407",
          "2407",
          "2407",
          "2407",
          "2407",
          "2407",
          "2407",
          "2407",
          "2407",
          "2407",
          "2407",
          "2407",
          "2407",
          "2407",
          "2407",
          "2407",
          "2407",
          "2407",
          "2407",
          "2407",
          "2407",
          "2407",
          "2407",
          "2407",
          "2407",
          "2407",
          "2407",
          "2407",
          "2407",
          "2407",
          "2407",
          "2407",
          "2407",
          "2407",
          "2407",
          "2407",
          "2407",
          "2407",
          "2407",
          "2407",
          "2407",
          "2407",
          "2407",
          "2407",
          "2407",
          "2407",
          "2407",
          "2407",
          "2407",
          "2407",
          "2407",
          "2407",
          "2407",
          "2407",
          "2407",
          "2407",
          "2407",
          "2407",
          "2407",
          "2407",
          "2407",
          "2407",
          "2407",
          "2407",
          "2407",
          "2407",
          "2407",
          "2407",
          "2407",
          "2407",
          "2407",
          "2407",
          "2407",
          "2407",
          "2407",
          "2407",
          "2407",
          "2407",
          "2407",
          "2407",
          "2407",
          "2407",
          "2407",
          "2407",
          "2407",
          "2407",
          "2407",
          "2407",
          "2407",
          "2407",
          "2407",
          "2407",
          "2407",
          "2407",
          "2407",
          "2407",
          "2407",
          "2407",
          "2407",
          "2407",
          "2407",
          "2407",
          "2407",
          "2407",
          "2407",
          "2407",
          "2407",
          "2407",
          "2407",
          "2407",
          "2408",
          "2408",
          "2408",
          "2408",
          "2408",
          "2408",
          "2408",
          "2408",
          "2408",
          "2408",
          "2408",
          "2408",
          "2408",
          "2408",
          "2408",
          "2408",
          "2408",
          "2408",
          "2408",
          "2408",
          "2408",
          "2408",
          "2408",
          "2408",
          "2408",
          "2408",
          "2408",
          "2408",
          "2408",
          "2408",
          "2408",
          "2408",
          "2408",
          "2408",
          "2408",
          "2408",
          "2408",
          "2408",
          "2408",
          "2408",
          "2408",
          "2408",
          "2408",
          "2408",
          "2408",
          "2408",
          "2408",
          "2408",
          "2408",
          "2408",
          "2408",
          "2408",
          "2408",
          "2408",
          "2408",
          "2408",
          "2408",
          "2408",
          "2408",
          "2408",
          "2408",
          "2408",
          "2408",
          "2408",
          "2408",
          "2408",
          "2408",
          "2408",
          "2408",
          "2408",
          "2408",
          "2408",
          "2408",
          "2408",
          "2408",
          "2408",
          "2408",
          "2408",
          "2408",
          "2408",
          "2408",
          "2408",
          "2408",
          "2408",
          "2408",
          "2408",
          "2408",
          "2408",
          "2408",
          "2408",
          "2408",
          "2408",
          "2408",
          "2408",
          "2408",
          "2408",
          "2408",
          "2408",
          "2408",
          "2408",
          "2408",
          "2408",
          "2408",
          "2408",
          "2408",
          "2408",
          "2408",
          "2408",
          "2408",
          "2408",
          "2408",
          "2408",
          "2408",
          "2408",
          "2408",
          "2408",
          "2408",
          "2408",
          "2408",
          "2408",
          "2408",
          "2408",
          "2408",
          "2408",
          "2408",
          "2408",
          "2408",
          "2408",
          "2408",
          "2408",
          "2408",
          "2408",
          "2408",
          "2408",
          "2408",
          "2408",
          "2408",
          "2408",
          "2408",
          "2408",
          "2408",
          "2408",
          "2408",
          "2408",
          "2408",
          "2408",
          "2408",
          "2408",
          "2408",
          "2408",
          "2408",
          "2408",
          "2408",
          "2408",
          "2408",
          "2408",
          "2408",
          "2408",
          "2408",
          "2408",
          "2408",
          "2408",
          "2408",
          "2408",
          "2408",
          "2408",
          "2408",
          "2408",
          "2408",
          "2408",
          "2408",
          "2408",
          "2408",
          "2408",
          "2408",
          "2408",
          "2408",
          "2408",
          "2408",
          "2408",
          "2408",
          "2408",
          "2408",
          "2408",
          "2408",
          "2408",
          "2408",
          "2408",
          "2408",
          "2408",
          "2408",
          "2408",
          "2408",
          "2408",
          "2408",
          "2408",
          "2408",
          "2408",
          "2408",
          "2408",
          "2408",
          "2408",
          "2408",
          "2408",
          "2408",
          "2408",
          "2408",
          "2408",
          "2408",
          "2408",
          "2408",
          "2408",
          "2408",
          "2408",
          "2408",
          "2408",
          "2408",
          "2408",
          "2408",
          "2408",
          "2408",
          "2408",
          "2408",
          "2408",
          "2408",
          "2408",
          "2408",
          "2408",
          "2408",
          "2408",
          "2408",
          "2408",
          "2408",
          "2408",
          "2408",
          "2408",
          "2408",
          "2408",
          "2408",
          "2408",
          "2408",
          "2408",
          "2408",
          "2408",
          "2408",
          "2408",
          "2408",
          "2408",
          "2408",
          "2408",
          "2408",
          "2408",
          "2408",
          "2408",
          "2408",
          "2408",
          "2408",
          "2408",
          "2408",
          "2408",
          "2408",
          "2408",
          "2408",
          "2408",
          "2408",
          "2408",
          "2408",
          "2408",
          "2408",
          "2408",
          "2408",
          "2408",
          "2408",
          "2408",
          "2408",
          "2408",
          "2408",
          "2408",
          "2408",
          "2408",
          "2408",
          "2408",
          "2409",
          "2409",
          "2409",
          "2409",
          "2409",
          "2409",
          "2409",
          "2409",
          "2409",
          "2409",
          "2409",
          "2409",
          "2409",
          "2409",
          "2409",
          "2409",
          "2409",
          "2409",
          "2409",
          "2409",
          "2409",
          "2409",
          "2409",
          "2409",
          "2409",
          "2409",
          "2409",
          "2409",
          "2409",
          "2409",
          "2409",
          "2409",
          "2409",
          "2409",
          "2409",
          "2409",
          "2409",
          "2409",
          "2409",
          "2409",
          "2409",
          "2409",
          "2409",
          "2409",
          "2409",
          "2409",
          "2409",
          "2409",
          "2409",
          "2409",
          "2409",
          "2409",
          "2409",
          "2409",
          "2409",
          "2409",
          "2409",
          "2409",
          "2409",
          "2409",
          "2409",
          "2409",
          "2409",
          "2409",
          "2409",
          "2409",
          "2409",
          "2409",
          "2409",
          "2409",
          "2409",
          "2409",
          "2409",
          "2409",
          "2409",
          "2409",
          "2409",
          "2409",
          "2409",
          "2409",
          "2409",
          "2409",
          "2409",
          "2409",
          "2409",
          "2409",
          "2409",
          "2409",
          "2409",
          "2409",
          "2409",
          "2409",
          "2409",
          "2409",
          "2409",
          "2409",
          "2409",
          "2409",
          "2409",
          "2409",
          "2409",
          "2409",
          "2409",
          "2409",
          "2409",
          "2409",
          "2409",
          "2409",
          "2409",
          "2409",
          "2409",
          "2409",
          "2409",
          "2409",
          "2409",
          "2409",
          "2409",
          "2409",
          "2409",
          "2409",
          "2409",
          "2409",
          "2409",
          "2409",
          "2409",
          "2409",
          "2409",
          "2409",
          "2409",
          "2409",
          "2409",
          "2409",
          "2409",
          "2409",
          "2409",
          "2409",
          "2409",
          "2409",
          "2409",
          "2409",
          "2409",
          "2409",
          "2409",
          "2409",
          "2409",
          "2409",
          "2409",
          "2409",
          "2409",
          "2409",
          "2409",
          "2409",
          "2409",
          "2409",
          "2409",
          "2409",
          "2409",
          "2409",
          "2409",
          "2409",
          "2409",
          "2409",
          "2409",
          "2409",
          "2409",
          "2409",
          "2409",
          "2409",
          "2409",
          "2409",
          "2409",
          "2409",
          "2409",
          "2409",
          "2409",
          "2409",
          "2409",
          "2409",
          "2409",
          "2409",
          "2409",
          "2409",
          "2409",
          "2409",
          "2409",
          "2409",
          "2409",
          "2409",
          "2409",
          "2409",
          "2409",
          "2409",
          "2409",
          "2409",
          "2409",
          "2409",
          "2409",
          "2409",
          "2409",
          "2409",
          "2409",
          "2409",
          "2409",
          "2409",
          "2409",
          "2409",
          "2410",
          "2410",
          "2410",
          "2410",
          "2410",
          "2410",
          "2410",
          "2410",
          "2410",
          "2410",
          "2410",
          "2410",
          "2410",
          "2410",
          "2410",
          "2410",
          "2410",
          "2410",
          "2410",
          "2410",
          "2410",
          "2410",
          "2410",
          "2410",
          "2410",
          "2410",
          "2410",
          "2410",
          "2410",
          "2410",
          "2410",
          "2410",
          "2410",
          "2410",
          "2410",
          "2410",
          "2410",
          "2410",
          "2410",
          "2410",
          "2410",
          "2410",
          "2410",
          "2410",
          "2410",
          "2410",
          "2410",
          "2410",
          "2410",
          "2410",
          "2410",
          "2410",
          "2410",
          "2410",
          "2410",
          "2410",
          "2410",
          "2410",
          "2410",
          "2410",
          "2410",
          "2410",
          "2410",
          "2410",
          "2410",
          "2410",
          "2410",
          "2410",
          "2410",
          "2410",
          "2410",
          "2410",
          "2410",
          "2410",
          "2410",
          "2410",
          "2410",
          "2410",
          "2410",
          "2410",
          "2410",
          "2410",
          "2410",
          "2410",
          "2410",
          "2410",
          "2410",
          "2410",
          "2410",
          "2410",
          "2410",
          "2410",
          "2410",
          "2410",
          "2410",
          "2410",
          "2410",
          "2410",
          "2410",
          "2410",
          "2410",
          "2410",
          "2410",
          "2410",
          "2410",
          "2410",
          "2410",
          "2410",
          "2410",
          "2410",
          "2410",
          "2410",
          "2410",
          "2410",
          "2410",
          "2410",
          "2410",
          "2410",
          "2410",
          "2410",
          "2410",
          "2410",
          "2410",
          "2410",
          "2410",
          "2410",
          "2410",
          "2410",
          "2410",
          "2410",
          "2410",
          "2410",
          "2410",
          "2410",
          "2410",
          "2410",
          "2410",
          "2410",
          "2410",
          "2410",
          "2410",
          "2410",
          "2410",
          "2410",
          "2410",
          "2410",
          "2410",
          "2410",
          "2410",
          "2410",
          "2410",
          "2410",
          "2410",
          "2410",
          "2410",
          "2410",
          "2410",
          "2410",
          "2410",
          "2410",
          "2410",
          "2410",
          "2410",
          "2410",
          "2410",
          "2410",
          "2410",
          "2410",
          "2410",
          "2411",
          "2411",
          "2411",
          "2411",
          "2411",
          "2411",
          "2411",
          "2411",
          "2411",
          "2411",
          "2411",
          "2411",
          "2411",
          "2411",
          "2411",
          "2411",
          "2411",
          "2411",
          "2411",
          "2411",
          "2411",
          "2411",
          "2411",
          "2411",
          "2411",
          "2411",
          "2411",
          "2411",
          "2411",
          "2411",
          "2411",
          "2411",
          "2411",
          "2411",
          "2411",
          "2411",
          "2411",
          "2411",
          "2411",
          "2411",
          "2411",
          "2411",
          "2411",
          "2411",
          "2411",
          "2411",
          "2411",
          "2411",
          "2411",
          "2411",
          "2411",
          "2411",
          "2411",
          "2411",
          "2411",
          "2411",
          "2411",
          "2411",
          "2411",
          "2411",
          "2411",
          "2411",
          "2411",
          "2411",
          "2411",
          "2411",
          "2411",
          "2411",
          "2411",
          "2411",
          "2411",
          "2411",
          "2411",
          "2411",
          "2411",
          "2411",
          "2411",
          "2411",
          "2411",
          "2411",
          "2411",
          "2411",
          "2411",
          "2411",
          "2411",
          "2411",
          "2411",
          "2411",
          "2411",
          "2411",
          "2411",
          "2411",
          "2411",
          "2411",
          "2411",
          "2411",
          "2411",
          "2411",
          "2411",
          "2411",
          "2411",
          "2411",
          "2411",
          "2411",
          "2411",
          "2411",
          "2411",
          "2411",
          "2411",
          "2411",
          "2411",
          "2411",
          "2411",
          "2411",
          "2411",
          "2411",
          "2411",
          "2411",
          "2411",
          "2411",
          "2411",
          "2411",
          "2411",
          "2411",
          "2411",
          "2411",
          "2411",
          "2411",
          "2411",
          "2411",
          "2411",
          "2411",
          "2411",
          "2411",
          "2411",
          "2411",
          "2411",
          "2411",
          "2411",
          "2411",
          "2411",
          "2411",
          "2411",
          "2411",
          "2411",
          "2411",
          "2411",
          "2411",
          "2411",
          "2411",
          "2411",
          "2411",
          "2411",
          "2411",
          "2411",
          "2411",
          "2411",
          "2411",
          "2411",
          "2411",
          "2411",
          "2411",
          "2411",
          "2411",
          "2411",
          "2411",
          "2411",
          "2411",
          "2411",
          "2411",
          "2411",
          "2411",
          "2411",
          "2411",
          "2411",
          "2411",
          "2411",
          "2411",
          "2411",
          "2412",
          "2412",
          "2412",
          "2412",
          "2412",
          "2412",
          "2412",
          "2412",
          "2412",
          "2412",
          "2412",
          "2412",
          "2412",
          "2412",
          "2412",
          "2412",
          "2412",
          "2412",
          "2412",
          "2412",
          "2412",
          "2412",
          "2412",
          "2412",
          "2412",
          "2412",
          "2412",
          "2412",
          "2412",
          "2412",
          "2412",
          "2412",
          "2412",
          "2412",
          "2412",
          "2412",
          "2412",
          "2412",
          "2412",
          "2412",
          "2412",
          "2412",
          "2412",
          "2412",
          "2412",
          "2412",
          "2412",
          "2412",
          "2412",
          "2412",
          "2412",
          "2412",
          "2412",
          "2412",
          "2412",
          "2412",
          "2412",
          "2412",
          "2412",
          "2412",
          "2412",
          "2412",
          "2412",
          "2412",
          "2412",
          "2412",
          "2412",
          "2412",
          "2412",
          "2412",
          "2412",
          "2412",
          "2412",
          "2412",
          "2412",
          "2412",
          "2412",
          "2412",
          "2412",
          "2412",
          "2412",
          "2412",
          "2412",
          "2412",
          "2412",
          "2412",
          "2412",
          "2412",
          "2412",
          "2412",
          "2412",
          "2412",
          "2412",
          "2412",
          "2412",
          "2412",
          "2412",
          "2412",
          "2412",
          "2412",
          "2412",
          "2412",
          "2412",
          "2412",
          "2412",
          "2412",
          "2412",
          "2412",
          "2412",
          "2412",
          "2412",
          "2412",
          "2412",
          "2412",
          "2412",
          "2412",
          "2412",
          "2412",
          "2412",
          "2412",
          "2412",
          "2412",
          "2412",
          "2412",
          "2412",
          "2412",
          "2412",
          "2412",
          "2412",
          "2412",
          "2412",
          "2412",
          "2412",
          "2412",
          "2412",
          "2412",
          "2412",
          "2412",
          "2412",
          "2412",
          "2412",
          "2412",
          "2412",
          "2412",
          "2412",
          "2412",
          "2412",
          "2412",
          "2412",
          "2412",
          "2412",
          "2412",
          "2412",
          "2412",
          "2412",
          "2412",
          "2412",
          "2412",
          "2412",
          "2412",
          "2412",
          "2412",
          "2412",
          "2412",
          "2412",
          "2412",
          "2412",
          "2412",
          "2412",
          "2412",
          "2412",
          "2412",
          "2412",
          "2412",
          "2412",
          "2412",
          "2412",
          "2412",
          "2412",
          "2412",
          "2412",
          "2412",
          "2412",
          "2412",
          "2412",
          "2412",
          "2412",
          "2412",
          "2412",
          "2412",
          "2412",
          "2412",
          "2412",
          "2412",
          "2412",
          "2412",
          "2412",
          "2412",
          "2412",
          "2412",
          "2412",
          "2412",
          "2412",
          "2412",
          "2412",
          "2412",
          "2412",
          "2412",
          "2501",
          "2501",
          "2501",
          "2501",
          "2501",
          "2501",
          "2501",
          "2501",
          "2501",
          "2501",
          "2501",
          "2501",
          "2501",
          "2501",
          "2501",
          "2501",
          "2501",
          "2501",
          "2501",
          "2501",
          "2501",
          "2501",
          "2501",
          "2501",
          "2501",
          "2501",
          "2501",
          "2501",
          "2501",
          "2501",
          "2501",
          "2501",
          "2501",
          "2501",
          "2501",
          "2502",
          "2502",
          "2502",
          "2502",
          "2502",
          "2502",
          "2502",
          "2502",
          "2502",
          "2502",
          "2502",
          "2502",
          "2502",
          "2502",
          "2502",
          "2502",
          "2502",
          "2502",
          "2502",
          "2502",
          "2502",
          "2502",
          "2502",
          "2502",
          "2502",
          "2502",
          "2502",
          "2502",
          "2502",
          "2502",
          "2502",
          "2502",
          "2502",
          "2502",
          "2502",
          "2502",
          "2502",
          "2502",
          "2502",
          "2502",
          "2502",
          "2502",
          "2502",
          "2502",
          "2502",
          "2502",
          "2502",
          "2502",
          "2502",
          "2502",
          "2502",
          "2502",
          "2502",
          "2502",
          "2502",
          "2503",
          "2503",
          "2503",
          "2503",
          "2503",
          "2503",
          "2503",
          "2503",
          "2503",
          "2503",
          "2503",
          "2503",
          "2503",
          "2503",
          "2503",
          "2503",
          "2503",
          "2503",
          "2503",
          "2503",
          "2503",
          "2503",
          "2503",
          "2503",
          "2503",
          "2503",
          "2503",
          "2503",
          "2503",
          "2503",
          "2503",
          "2503",
          "2503",
          "2503",
          "2503",
          "2503",
          "2503",
          "2503",
          "2503",
          "2503",
          "2503",
          "2503",
          "2503",
          "2503",
          "2503",
          "2503",
          "2503",
          "2503",
          "2503",
          "2503",
          "2503",
          "2503",
          "2503",
          "2503",
          "2503",
          "2503",
          "2503",
          "2504",
          "2504",
          "2504",
          "2504",
          "2504",
          "2504",
          "2504",
          "2504",
          "2504",
          "2504",
          "2504",
          "2504",
          "2504",
          "2504",
          "2504",
          "2504",
          "2504",
          "2504",
          "2504",
          "2504",
          "2504",
          "2504",
          "2504",
          "2504",
          "2504",
          "2504",
          "2504",
          "2504",
          "2504",
          "2504",
          "2504",
          "2504",
          "2504",
          "2504",
          "2504",
          "2504",
          "2504",
          "2504",
          "2504",
          "2504",
          "2504",
          "2504",
          "2504",
          "2504",
          "2504",
          "2504",
          "2504",
          "2504",
          "2504",
          "2504",
          "2504",
          "2504",
          "2504",
          "2504",
          "2504",
          "2504",
          "2504",
          "2504",
          "2504",
          "2504",
          "2504",
          "2504",
          "2504",
          "2504",
          "2504",
          "2504",
          "2504",
          "2504",
          "2504",
          "2504",
          "2504",
          "2504",
          "2504",
          "2504",
          "2504",
          "2504",
          "2504",
          "2504",
          "2504",
          "2504",
          "2504",
          "2504",
          "2505",
          "2505",
          "2505",
          "2505",
          "2505",
          "2505",
          "2505",
          "2505",
          "2505",
          "2505",
          "2505",
          "2505",
          "2505",
          "2505",
          "2505",
          "2505",
          "2505",
          "2505",
          "2505",
          "2505",
          "2505",
          "2505",
          "2505",
          "2505",
          "2505",
          "2505",
          "2505",
          "2505",
          "2505",
          "2505",
          "2505",
          "2505",
          "2505",
          "2505",
          "2505",
          "2505",
          "2505",
          "2505",
          "2505",
          "2505",
          "2505",
          "2505",
          "2505",
          "2505",
          "2505",
          "2505",
          "2505",
          "2505",
          "2505",
          "2505",
          "2505",
          "2505",
          "2505",
          "2505",
          "2505",
          "2505",
          "2505",
          "2505",
          "2505",
          "2505",
          "2505",
          "2505",
          "2505",
          "2505",
          "2505",
          "2505",
          "2505",
          "2505",
          "2505",
          "2505",
          "2505",
          "2505",
          "2505",
          "2505",
          "2505",
          "2505",
          "2505",
          "2505",
          "2505",
          "2505",
          "2505",
          "2505",
          "2505",
          "2505",
          "2505",
          "2505",
          "2505",
          "2505",
          "2505",
          "2505",
          "2505",
          "2505",
          "2505"
         ],
         "x0": " ",
         "xaxis": "x",
         "y": {
          "bdata": "Hh4eHh4eHh4eHh4eHh4eHh4eHh4eHh4eHh4eHh4eHh4eHh4eHh4eHh4eHh4eHh4eHh4eHh4eHh4eHh4eHh4eHh4eHh4eHh4eHh4eHh4eHh4eHh4eHh4eHh4eHh4eHh4eHh4eHh4eHh4eHh4eHh4eHh4eHh4eHh4eHh4eHh4eHh4eHh4eHh4eHh4eHh4eHh4eHh4eHh4eHh4eHh4eHh4eHh4eHh4eHh4eHh4eHh4eHh4eHh4eHh4eHh4eHh4eHh4eHh4eHh4eHh4eHh4eHh4eHh4eHh4eHh4eHh4eHh4eHh4eHh4eHh4eHh4eHh4eHh4eHh4eHh4eHh4eHh4eHh4eHh4eHh4eHh4eHh4eHh4eHh4eHh4eHh4eHh4eHh4eHh4eHh4eHh4eHh4eHh4eHh4eHh4eHh4eHh4eHh4eHh4eHh4eHh4eHh4eHh4eHh4eHh4eHh4eHh4eHh4eHh4eHh4eHh4eHh4eHh4eHh4eHh4eHh4eHh4eHh4eHh4eHh4eHh4eHh4eHh4eHh4eHh4eHh4eHh4eHh4eHh4eHh4eHh4eHh4eHh4eHh4eHh4eHh4eHh4eHh4eHh4eHh4eHh4eHh4eHh4eHh4eHh4eHh4eHh4eHh4eHh4eHh4eHh4eHh4eHh4eHh4eHh4eHh4eHh4eHh4eHh4eHh4eHh4eHh4eHh4eHh4eHh4eHh4eHh4eHh4eHh4eHh4eHh4eHh4eHh4eHh4eHh4eHh4eHh4eHh4eHh4eHh4eHh4eHh4eHh4eHh4eHh4eHh4eHh4eHh4eHh4eHh4eHh4eHh4eHh4eHh4eHh4eHh4eHh4eHh4eHh4eHh4eHh4eHh4eHh4eHh4eHh4eHh4eHh4eHh4eHh4eHh4eHh4eHh4eHh4eHh4eHh4eHh4eHh4eHh4eHh4eHh4eHh4eHh4eHh4eHh4eHh4eHh4eHh4eHh4eHh4eHh4eHh4eHh4eHh4eHh4eHh4eHh4eHh4eHh4eHh4eHh4eHh4eHh4eHh4eHh4eHh4eHh4eHh4eHh4eHh4eHh4eHh4eHh4eHh4eHh4eHh4eHh4eHh4eHh4eHh4eHh4eHh4eHh4eHh4eHh4eHh4eHh4eHh4eHh4eHh4eHh4eHh4eHh4eHh4eHh4eHh4eHh4eHh4eHh4eHh4eHh4eHh4eHh4eHh4eHh4eHh4eHh4eHh4eHh4eHh4eHh4eHh4eHh4eHh4eHh4eHh4eHh4eHh4eHh4eHh4eHh4eHh4eHh4eHh4eHh4eHh4eHh4eHh4eHh4eHh4eHh4eHh4eHh4eHh4eHh4eHh4eHh4eHh4eHh4eHh4eHh4eHh4eHh4eHh4eHh4eHh4eHh4eHh4eHh4eHh4eHh4eHh4eHh4eHh4eHh4eHh4eHh4eHh4eHh4eHh4eHh4eHh4eHh4eHh4eHh4eHh4eHh4eHh4eHh4eHh4eHh4eHh4eHh4eHh4eHh4eHh4eHh4eHh4eHh4eHh4eHh4eHh4eHh4eHh4eHh4eHh4eHh4eHh4eHh4eHh4eHh4eHh4eHh4eHh4eHh4eHh4eHh4eHh4eHh4eHh4eHh4eHh4eHh4eHh4eHh4eHh4eHh4eHh4eHh4eHh4eHh4eHh4eHh4eHh4eHh4eHh4eHh4eHh4eHh4eHh4eHh4eHh4eHh4eHh4eHh4eHh4eHh4eHh4eHh4eHh4eHh4eHh4eHh4eHh4eHh4eHh4eHh4eHh4eHh4eHh4eHh4eHh4eHh4eHh4eHh4eHh4eHh4eHh4eHh4eHh4eHh4eHh4eHh4eHh4eHh4eHh4eHh4eHh4eHh4eHh4eHh4eHh4eHh4eHh4eHh4eHh4eHh4eHh4eHh4eHh4eHh4eHh4eHh4eHh4eHh4eHh4eHh4eHh4eHh4eHh4eHh4eHh4eHh4eHh4eHh4eHh4eHh4eHh4eHh4eHh4eHh4eHh4eHh4eHh4eHh4eHh4eHh4eHh4eHh4eHh4eHh4eHh4eHh4eHh4eHh4eHh4eHh4eHh4eHh4eHh4eHh4eHh4eHh4eHh4eHh4eHh4eHh4eHh4eHh4eHh4eHh4eHh4eHh4eHh4eHh4eHh4eHh4eHh4eHh4eHh4eHh4eHh4eHh4eHh4eHh4eHh4eHh4eHh4eHh4eHh4eHh4eHh4eHh4eHh4eHh4eHh4eHh4eHh4eHh4eHh4eHh4eHh4eHh4eHh4eHh4eHh4eHh4eHh4eHh4eHh4eHh4eHh4eHh4eHh4eHh4eHh4eHh4eHh4eHh4eHh4eHh4eHh4eHh4eHh4eHh4eHh4eHh4eHh4eHh4eHh4eHh4eHh4eHh4eHh4eHh4eHh4eHh4eHh4eHh4eHh4eHh4eHh4eHh4eHh4eHh4eHh4eHh4eHh4eHh4eHh4eHh4eHh4eHh4eHh4eHh4eHh4eHh4eHh4eHh4eHh4eHh4eHh4eHh4eHh4eHh4eHh4eHh4eHh4eHh4eHh4eHh4eHh4eHh4eHh4eHh4eHh4eHh4eHh4eHh4eHh4eHh4eHh4eHh4eHh4eHh4eHh4eHh4eHh4eHh4eHh4eHh4eHh4eHh4eHh4eHh4eHh4eHh4eHh4eHh4eHh4eHh4eHh4eHh4e",
          "dtype": "i1"
         },
         "y0": " ",
         "yaxis": "y"
        },
        {
         "alignmentgroup": "True",
         "boxpoints": "outliers",
         "hovertemplate": "outlier=True<br>month=%{x}<br>minimum_nights=%{y}<extra></extra>",
         "legendgroup": "True",
         "marker": {
          "color": "#EF553B"
         },
         "name": "True",
         "notched": false,
         "offsetgroup": "True",
         "orientation": "v",
         "showlegend": true,
         "type": "box",
         "x": [
          "2406",
          "2406",
          "2406",
          "2406",
          "2406",
          "2406",
          "2406",
          "2406",
          "2406",
          "2406",
          "2407",
          "2407",
          "2407",
          "2407",
          "2407",
          "2407",
          "2407",
          "2408",
          "2408",
          "2408",
          "2409",
          "2409",
          "2409",
          "2409",
          "2410",
          "2410",
          "2410",
          "2410",
          "2410",
          "2410",
          "2410",
          "2410",
          "2410",
          "2410",
          "2410",
          "2410",
          "2410",
          "2410",
          "2410",
          "2410",
          "2410",
          "2410",
          "2410",
          "2410",
          "2410",
          "2410",
          "2410",
          "2410",
          "2410",
          "2410",
          "2410",
          "2410",
          "2410",
          "2410",
          "2410",
          "2410",
          "2410",
          "2410",
          "2410",
          "2410",
          "2410",
          "2410",
          "2410",
          "2410",
          "2410",
          "2410",
          "2410",
          "2410",
          "2410",
          "2410",
          "2411",
          "2411",
          "2411",
          "2411",
          "2411",
          "2411",
          "2411",
          "2411",
          "2411",
          "2411",
          "2411",
          "2411",
          "2411",
          "2411",
          "2411",
          "2411",
          "2411",
          "2411",
          "2411",
          "2411",
          "2411",
          "2411",
          "2411",
          "2411",
          "2411",
          "2411",
          "2411",
          "2411",
          "2411",
          "2411",
          "2411",
          "2411",
          "2412",
          "2412",
          "2501",
          "2501",
          "2502",
          "2502",
          "2503",
          "2503",
          "2503",
          "2504",
          "2504",
          "2504",
          "2504",
          "2505",
          "2505",
          "2505",
          "2505"
         ],
         "x0": " ",
         "xaxis": "x",
         "y": {
          "bdata": "HwAtAB8ALQAfAB8AHwA3ADcANwAfAFoALQAtAB8ANwA3AC0AHwAfACgAHwAtAB8AWgBaAFoAWgBaAFoAWgBaAFoAWgAoAFoAWgBaAB8AWgBaAFoAWgBaAFoAWgBaAFoAWgBaAFoAWgBaAFoAWgBaAFoAWgAfAFoAWgBaAFoAWgBaAFoALQBaAFoAWgAfAFoAWgBaAFoAWgBaAFoAWgBaAFoALQBaAFoAHwBaAFoAHwBaAFoAWgBaAFoAWgBaACgAWgDZAloAWgBaAFoALQAfAB8ALQAfAC0ALQAfAM8CLQAfANoCzwItAB8A2gLPAg==",
          "dtype": "i2"
         },
         "y0": " ",
         "yaxis": "y"
        }
       ],
       "layout": {
        "boxmode": "group",
        "legend": {
         "title": {
          "text": "outlier"
         },
         "tracegroupgap": 0
        },
        "template": {
         "data": {
          "bar": [
           {
            "error_x": {
             "color": "#2a3f5f"
            },
            "error_y": {
             "color": "#2a3f5f"
            },
            "marker": {
             "line": {
              "color": "#E5ECF6",
              "width": 0.5
             },
             "pattern": {
              "fillmode": "overlay",
              "size": 10,
              "solidity": 0.2
             }
            },
            "type": "bar"
           }
          ],
          "barpolar": [
           {
            "marker": {
             "line": {
              "color": "#E5ECF6",
              "width": 0.5
             },
             "pattern": {
              "fillmode": "overlay",
              "size": 10,
              "solidity": 0.2
             }
            },
            "type": "barpolar"
           }
          ],
          "carpet": [
           {
            "aaxis": {
             "endlinecolor": "#2a3f5f",
             "gridcolor": "white",
             "linecolor": "white",
             "minorgridcolor": "white",
             "startlinecolor": "#2a3f5f"
            },
            "baxis": {
             "endlinecolor": "#2a3f5f",
             "gridcolor": "white",
             "linecolor": "white",
             "minorgridcolor": "white",
             "startlinecolor": "#2a3f5f"
            },
            "type": "carpet"
           }
          ],
          "choropleth": [
           {
            "colorbar": {
             "outlinewidth": 0,
             "ticks": ""
            },
            "type": "choropleth"
           }
          ],
          "contour": [
           {
            "colorbar": {
             "outlinewidth": 0,
             "ticks": ""
            },
            "colorscale": [
             [
              0,
              "#0d0887"
             ],
             [
              0.1111111111111111,
              "#46039f"
             ],
             [
              0.2222222222222222,
              "#7201a8"
             ],
             [
              0.3333333333333333,
              "#9c179e"
             ],
             [
              0.4444444444444444,
              "#bd3786"
             ],
             [
              0.5555555555555556,
              "#d8576b"
             ],
             [
              0.6666666666666666,
              "#ed7953"
             ],
             [
              0.7777777777777778,
              "#fb9f3a"
             ],
             [
              0.8888888888888888,
              "#fdca26"
             ],
             [
              1,
              "#f0f921"
             ]
            ],
            "type": "contour"
           }
          ],
          "contourcarpet": [
           {
            "colorbar": {
             "outlinewidth": 0,
             "ticks": ""
            },
            "type": "contourcarpet"
           }
          ],
          "heatmap": [
           {
            "colorbar": {
             "outlinewidth": 0,
             "ticks": ""
            },
            "colorscale": [
             [
              0,
              "#0d0887"
             ],
             [
              0.1111111111111111,
              "#46039f"
             ],
             [
              0.2222222222222222,
              "#7201a8"
             ],
             [
              0.3333333333333333,
              "#9c179e"
             ],
             [
              0.4444444444444444,
              "#bd3786"
             ],
             [
              0.5555555555555556,
              "#d8576b"
             ],
             [
              0.6666666666666666,
              "#ed7953"
             ],
             [
              0.7777777777777778,
              "#fb9f3a"
             ],
             [
              0.8888888888888888,
              "#fdca26"
             ],
             [
              1,
              "#f0f921"
             ]
            ],
            "type": "heatmap"
           }
          ],
          "histogram": [
           {
            "marker": {
             "pattern": {
              "fillmode": "overlay",
              "size": 10,
              "solidity": 0.2
             }
            },
            "type": "histogram"
           }
          ],
          "histogram2d": [
           {
            "colorbar": {
             "outlinewidth": 0,
             "ticks": ""
            },
            "colorscale": [
             [
              0,
              "#0d0887"
             ],
             [
              0.1111111111111111,
              "#46039f"
             ],
             [
              0.2222222222222222,
              "#7201a8"
             ],
             [
              0.3333333333333333,
              "#9c179e"
             ],
             [
              0.4444444444444444,
              "#bd3786"
             ],
             [
              0.5555555555555556,
              "#d8576b"
             ],
             [
              0.6666666666666666,
              "#ed7953"
             ],
             [
              0.7777777777777778,
              "#fb9f3a"
             ],
             [
              0.8888888888888888,
              "#fdca26"
             ],
             [
              1,
              "#f0f921"
             ]
            ],
            "type": "histogram2d"
           }
          ],
          "histogram2dcontour": [
           {
            "colorbar": {
             "outlinewidth": 0,
             "ticks": ""
            },
            "colorscale": [
             [
              0,
              "#0d0887"
             ],
             [
              0.1111111111111111,
              "#46039f"
             ],
             [
              0.2222222222222222,
              "#7201a8"
             ],
             [
              0.3333333333333333,
              "#9c179e"
             ],
             [
              0.4444444444444444,
              "#bd3786"
             ],
             [
              0.5555555555555556,
              "#d8576b"
             ],
             [
              0.6666666666666666,
              "#ed7953"
             ],
             [
              0.7777777777777778,
              "#fb9f3a"
             ],
             [
              0.8888888888888888,
              "#fdca26"
             ],
             [
              1,
              "#f0f921"
             ]
            ],
            "type": "histogram2dcontour"
           }
          ],
          "mesh3d": [
           {
            "colorbar": {
             "outlinewidth": 0,
             "ticks": ""
            },
            "type": "mesh3d"
           }
          ],
          "parcoords": [
           {
            "line": {
             "colorbar": {
              "outlinewidth": 0,
              "ticks": ""
             }
            },
            "type": "parcoords"
           }
          ],
          "pie": [
           {
            "automargin": true,
            "type": "pie"
           }
          ],
          "scatter": [
           {
            "fillpattern": {
             "fillmode": "overlay",
             "size": 10,
             "solidity": 0.2
            },
            "type": "scatter"
           }
          ],
          "scatter3d": [
           {
            "line": {
             "colorbar": {
              "outlinewidth": 0,
              "ticks": ""
             }
            },
            "marker": {
             "colorbar": {
              "outlinewidth": 0,
              "ticks": ""
             }
            },
            "type": "scatter3d"
           }
          ],
          "scattercarpet": [
           {
            "marker": {
             "colorbar": {
              "outlinewidth": 0,
              "ticks": ""
             }
            },
            "type": "scattercarpet"
           }
          ],
          "scattergeo": [
           {
            "marker": {
             "colorbar": {
              "outlinewidth": 0,
              "ticks": ""
             }
            },
            "type": "scattergeo"
           }
          ],
          "scattergl": [
           {
            "marker": {
             "colorbar": {
              "outlinewidth": 0,
              "ticks": ""
             }
            },
            "type": "scattergl"
           }
          ],
          "scattermap": [
           {
            "marker": {
             "colorbar": {
              "outlinewidth": 0,
              "ticks": ""
             }
            },
            "type": "scattermap"
           }
          ],
          "scattermapbox": [
           {
            "marker": {
             "colorbar": {
              "outlinewidth": 0,
              "ticks": ""
             }
            },
            "type": "scattermapbox"
           }
          ],
          "scatterpolar": [
           {
            "marker": {
             "colorbar": {
              "outlinewidth": 0,
              "ticks": ""
             }
            },
            "type": "scatterpolar"
           }
          ],
          "scatterpolargl": [
           {
            "marker": {
             "colorbar": {
              "outlinewidth": 0,
              "ticks": ""
             }
            },
            "type": "scatterpolargl"
           }
          ],
          "scatterternary": [
           {
            "marker": {
             "colorbar": {
              "outlinewidth": 0,
              "ticks": ""
             }
            },
            "type": "scatterternary"
           }
          ],
          "surface": [
           {
            "colorbar": {
             "outlinewidth": 0,
             "ticks": ""
            },
            "colorscale": [
             [
              0,
              "#0d0887"
             ],
             [
              0.1111111111111111,
              "#46039f"
             ],
             [
              0.2222222222222222,
              "#7201a8"
             ],
             [
              0.3333333333333333,
              "#9c179e"
             ],
             [
              0.4444444444444444,
              "#bd3786"
             ],
             [
              0.5555555555555556,
              "#d8576b"
             ],
             [
              0.6666666666666666,
              "#ed7953"
             ],
             [
              0.7777777777777778,
              "#fb9f3a"
             ],
             [
              0.8888888888888888,
              "#fdca26"
             ],
             [
              1,
              "#f0f921"
             ]
            ],
            "type": "surface"
           }
          ],
          "table": [
           {
            "cells": {
             "fill": {
              "color": "#EBF0F8"
             },
             "line": {
              "color": "white"
             }
            },
            "header": {
             "fill": {
              "color": "#C8D4E3"
             },
             "line": {
              "color": "white"
             }
            },
            "type": "table"
           }
          ]
         },
         "layout": {
          "annotationdefaults": {
           "arrowcolor": "#2a3f5f",
           "arrowhead": 0,
           "arrowwidth": 1
          },
          "autotypenumbers": "strict",
          "coloraxis": {
           "colorbar": {
            "outlinewidth": 0,
            "ticks": ""
           }
          },
          "colorscale": {
           "diverging": [
            [
             0,
             "#8e0152"
            ],
            [
             0.1,
             "#c51b7d"
            ],
            [
             0.2,
             "#de77ae"
            ],
            [
             0.3,
             "#f1b6da"
            ],
            [
             0.4,
             "#fde0ef"
            ],
            [
             0.5,
             "#f7f7f7"
            ],
            [
             0.6,
             "#e6f5d0"
            ],
            [
             0.7,
             "#b8e186"
            ],
            [
             0.8,
             "#7fbc41"
            ],
            [
             0.9,
             "#4d9221"
            ],
            [
             1,
             "#276419"
            ]
           ],
           "sequential": [
            [
             0,
             "#0d0887"
            ],
            [
             0.1111111111111111,
             "#46039f"
            ],
            [
             0.2222222222222222,
             "#7201a8"
            ],
            [
             0.3333333333333333,
             "#9c179e"
            ],
            [
             0.4444444444444444,
             "#bd3786"
            ],
            [
             0.5555555555555556,
             "#d8576b"
            ],
            [
             0.6666666666666666,
             "#ed7953"
            ],
            [
             0.7777777777777778,
             "#fb9f3a"
            ],
            [
             0.8888888888888888,
             "#fdca26"
            ],
            [
             1,
             "#f0f921"
            ]
           ],
           "sequentialminus": [
            [
             0,
             "#0d0887"
            ],
            [
             0.1111111111111111,
             "#46039f"
            ],
            [
             0.2222222222222222,
             "#7201a8"
            ],
            [
             0.3333333333333333,
             "#9c179e"
            ],
            [
             0.4444444444444444,
             "#bd3786"
            ],
            [
             0.5555555555555556,
             "#d8576b"
            ],
            [
             0.6666666666666666,
             "#ed7953"
            ],
            [
             0.7777777777777778,
             "#fb9f3a"
            ],
            [
             0.8888888888888888,
             "#fdca26"
            ],
            [
             1,
             "#f0f921"
            ]
           ]
          },
          "colorway": [
           "#636efa",
           "#EF553B",
           "#00cc96",
           "#ab63fa",
           "#FFA15A",
           "#19d3f3",
           "#FF6692",
           "#B6E880",
           "#FF97FF",
           "#FECB52"
          ],
          "font": {
           "color": "#2a3f5f"
          },
          "geo": {
           "bgcolor": "white",
           "lakecolor": "white",
           "landcolor": "#E5ECF6",
           "showlakes": true,
           "showland": true,
           "subunitcolor": "white"
          },
          "hoverlabel": {
           "align": "left"
          },
          "hovermode": "closest",
          "mapbox": {
           "style": "light"
          },
          "paper_bgcolor": "white",
          "plot_bgcolor": "#E5ECF6",
          "polar": {
           "angularaxis": {
            "gridcolor": "white",
            "linecolor": "white",
            "ticks": ""
           },
           "bgcolor": "#E5ECF6",
           "radialaxis": {
            "gridcolor": "white",
            "linecolor": "white",
            "ticks": ""
           }
          },
          "scene": {
           "xaxis": {
            "backgroundcolor": "#E5ECF6",
            "gridcolor": "white",
            "gridwidth": 2,
            "linecolor": "white",
            "showbackground": true,
            "ticks": "",
            "zerolinecolor": "white"
           },
           "yaxis": {
            "backgroundcolor": "#E5ECF6",
            "gridcolor": "white",
            "gridwidth": 2,
            "linecolor": "white",
            "showbackground": true,
            "ticks": "",
            "zerolinecolor": "white"
           },
           "zaxis": {
            "backgroundcolor": "#E5ECF6",
            "gridcolor": "white",
            "gridwidth": 2,
            "linecolor": "white",
            "showbackground": true,
            "ticks": "",
            "zerolinecolor": "white"
           }
          },
          "shapedefaults": {
           "line": {
            "color": "#2a3f5f"
           }
          },
          "ternary": {
           "aaxis": {
            "gridcolor": "white",
            "linecolor": "white",
            "ticks": ""
           },
           "baxis": {
            "gridcolor": "white",
            "linecolor": "white",
            "ticks": ""
           },
           "bgcolor": "#E5ECF6",
           "caxis": {
            "gridcolor": "white",
            "linecolor": "white",
            "ticks": ""
           }
          },
          "title": {
           "x": 0.05
          },
          "xaxis": {
           "automargin": true,
           "gridcolor": "white",
           "linecolor": "white",
           "ticks": "",
           "title": {
            "standoff": 15
           },
           "zerolinecolor": "white",
           "zerolinewidth": 2
          },
          "yaxis": {
           "automargin": true,
           "gridcolor": "white",
           "linecolor": "white",
           "ticks": "",
           "title": {
            "standoff": 15
           },
           "zerolinecolor": "white",
           "zerolinewidth": 2
          }
         }
        },
        "title": {
         "text": "最短住宿天数 (IQR 异常值标示)"
        },
        "xaxis": {
         "anchor": "y",
         "domain": [
          0,
          1
         ],
         "title": {
          "text": "month"
         }
        },
        "yaxis": {
         "anchor": "x",
         "domain": [
          0,
          1
         ],
         "title": {
          "text": "minimum_nights"
         }
        }
       }
      }
     },
     "metadata": {},
     "output_type": "display_data"
    },
    {
     "data": {
      "application/vnd.plotly.v1+json": {
       "config": {
        "plotlyServerURL": "https://plot.ly"
       },
       "data": [
        {
         "hovertemplate": "city=Bronx<br>month=%{x}<br>minimum_nights=%{y}<extra></extra>",
         "legendgroup": "Bronx",
         "line": {
          "color": "#636efa",
          "dash": "solid"
         },
         "marker": {
          "symbol": "circle"
         },
         "mode": "lines",
         "name": "Bronx",
         "orientation": "v",
         "showlegend": true,
         "type": "scatter",
         "x": [
          "2406",
          "2407",
          "2408",
          "2409",
          "2410",
          "2411",
          "2412"
         ],
         "xaxis": "x",
         "y": {
          "bdata": "AAAAAAAAPkAAAAAAAAA+QAAAAAAAAD5AAAAAAAAAPkAAAAAAAAA+QAAAAAAAAD5AAAAAAAAAPkA=",
          "dtype": "f8"
         },
         "yaxis": "y"
        },
        {
         "hovertemplate": "city=Brooklyn<br>month=%{x}<br>minimum_nights=%{y}<extra></extra>",
         "legendgroup": "Brooklyn",
         "line": {
          "color": "#EF553B",
          "dash": "solid"
         },
         "marker": {
          "symbol": "circle"
         },
         "mode": "lines",
         "name": "Brooklyn",
         "orientation": "v",
         "showlegend": true,
         "type": "scatter",
         "x": [
          "2406",
          "2407",
          "2408",
          "2409",
          "2410",
          "2411",
          "2412",
          "2501",
          "2502",
          "2503",
          "2504",
          "2505"
         ],
         "xaxis": "x",
         "y": {
          "bdata": "AAAAAAAAPkAAAAAAAAA+QAAAAAAAAD5AAAAAAAAAPkAAAAAAAAA+QAAAAAAAAD5AAAAAAAAAPkAAAAAAAAA+QAAAAAAAAD5AAAAAAAAAPkAAAAAAAAA+QAAAAAAAAD5A",
          "dtype": "f8"
         },
         "yaxis": "y"
        },
        {
         "hovertemplate": "city=Manhattan<br>month=%{x}<br>minimum_nights=%{y}<extra></extra>",
         "legendgroup": "Manhattan",
         "line": {
          "color": "#00cc96",
          "dash": "solid"
         },
         "marker": {
          "symbol": "circle"
         },
         "mode": "lines",
         "name": "Manhattan",
         "orientation": "v",
         "showlegend": true,
         "type": "scatter",
         "x": [
          "2406",
          "2407",
          "2408",
          "2409",
          "2410",
          "2411",
          "2412",
          "2501",
          "2502",
          "2503",
          "2504",
          "2505"
         ],
         "xaxis": "x",
         "y": {
          "bdata": "AAAAAAAAPkAAAAAAAAA+QAAAAAAAAD5AAAAAAAAAPkAAAAAAAAA+QAAAAAAAAD5AAAAAAAAAPkAAAAAAAAA+QAAAAAAAAD5AAAAAAAAAPkAAAAAAAAA+QAAAAAAAAD5A",
          "dtype": "f8"
         },
         "yaxis": "y"
        },
        {
         "hovertemplate": "city=Queens<br>month=%{x}<br>minimum_nights=%{y}<extra></extra>",
         "legendgroup": "Queens",
         "line": {
          "color": "#ab63fa",
          "dash": "solid"
         },
         "marker": {
          "symbol": "circle"
         },
         "mode": "lines",
         "name": "Queens",
         "orientation": "v",
         "showlegend": true,
         "type": "scatter",
         "x": [
          "2406",
          "2407",
          "2408",
          "2409",
          "2410",
          "2411",
          "2412",
          "2501",
          "2502",
          "2503",
          "2504",
          "2505"
         ],
         "xaxis": "x",
         "y": {
          "bdata": "AAAAAAAAPkAAAAAAAAA+QAAAAAAAAD5AAAAAAAAAPkAAAAAAAAA+QAAAAAAAAD5AAAAAAAAAPkAAAAAAAAA+QAAAAAAAAD5AAAAAAAAAPkAAAAAAAAA+QAAAAAAAAD5A",
          "dtype": "f8"
         },
         "yaxis": "y"
        },
        {
         "hovertemplate": "city=Staten Island<br>month=%{x}<br>minimum_nights=%{y}<extra></extra>",
         "legendgroup": "Staten Island",
         "line": {
          "color": "#FFA15A",
          "dash": "solid"
         },
         "marker": {
          "symbol": "circle"
         },
         "mode": "lines",
         "name": "Staten Island",
         "orientation": "v",
         "showlegend": true,
         "type": "scatter",
         "x": [
          "2406",
          "2407",
          "2408",
          "2409",
          "2410",
          "2411",
          "2412",
          "2501",
          "2504",
          "2505"
         ],
         "xaxis": "x",
         "y": {
          "bdata": "AAAAAAAAPkAAAAAAAAA+QAAAAAAAAD5AAAAAAAAAPkAAAAAAAAA+QAAAAAAAAD5AAAAAAAAAPkAAAAAAAAA+QAAAAAAAAD5AAAAAAAAAPkA=",
          "dtype": "f8"
         },
         "yaxis": "y"
        }
       ],
       "layout": {
        "legend": {
         "title": {
          "text": "city"
         },
         "tracegroupgap": 0
        },
        "template": {
         "data": {
          "bar": [
           {
            "error_x": {
             "color": "#2a3f5f"
            },
            "error_y": {
             "color": "#2a3f5f"
            },
            "marker": {
             "line": {
              "color": "#E5ECF6",
              "width": 0.5
             },
             "pattern": {
              "fillmode": "overlay",
              "size": 10,
              "solidity": 0.2
             }
            },
            "type": "bar"
           }
          ],
          "barpolar": [
           {
            "marker": {
             "line": {
              "color": "#E5ECF6",
              "width": 0.5
             },
             "pattern": {
              "fillmode": "overlay",
              "size": 10,
              "solidity": 0.2
             }
            },
            "type": "barpolar"
           }
          ],
          "carpet": [
           {
            "aaxis": {
             "endlinecolor": "#2a3f5f",
             "gridcolor": "white",
             "linecolor": "white",
             "minorgridcolor": "white",
             "startlinecolor": "#2a3f5f"
            },
            "baxis": {
             "endlinecolor": "#2a3f5f",
             "gridcolor": "white",
             "linecolor": "white",
             "minorgridcolor": "white",
             "startlinecolor": "#2a3f5f"
            },
            "type": "carpet"
           }
          ],
          "choropleth": [
           {
            "colorbar": {
             "outlinewidth": 0,
             "ticks": ""
            },
            "type": "choropleth"
           }
          ],
          "contour": [
           {
            "colorbar": {
             "outlinewidth": 0,
             "ticks": ""
            },
            "colorscale": [
             [
              0,
              "#0d0887"
             ],
             [
              0.1111111111111111,
              "#46039f"
             ],
             [
              0.2222222222222222,
              "#7201a8"
             ],
             [
              0.3333333333333333,
              "#9c179e"
             ],
             [
              0.4444444444444444,
              "#bd3786"
             ],
             [
              0.5555555555555556,
              "#d8576b"
             ],
             [
              0.6666666666666666,
              "#ed7953"
             ],
             [
              0.7777777777777778,
              "#fb9f3a"
             ],
             [
              0.8888888888888888,
              "#fdca26"
             ],
             [
              1,
              "#f0f921"
             ]
            ],
            "type": "contour"
           }
          ],
          "contourcarpet": [
           {
            "colorbar": {
             "outlinewidth": 0,
             "ticks": ""
            },
            "type": "contourcarpet"
           }
          ],
          "heatmap": [
           {
            "colorbar": {
             "outlinewidth": 0,
             "ticks": ""
            },
            "colorscale": [
             [
              0,
              "#0d0887"
             ],
             [
              0.1111111111111111,
              "#46039f"
             ],
             [
              0.2222222222222222,
              "#7201a8"
             ],
             [
              0.3333333333333333,
              "#9c179e"
             ],
             [
              0.4444444444444444,
              "#bd3786"
             ],
             [
              0.5555555555555556,
              "#d8576b"
             ],
             [
              0.6666666666666666,
              "#ed7953"
             ],
             [
              0.7777777777777778,
              "#fb9f3a"
             ],
             [
              0.8888888888888888,
              "#fdca26"
             ],
             [
              1,
              "#f0f921"
             ]
            ],
            "type": "heatmap"
           }
          ],
          "histogram": [
           {
            "marker": {
             "pattern": {
              "fillmode": "overlay",
              "size": 10,
              "solidity": 0.2
             }
            },
            "type": "histogram"
           }
          ],
          "histogram2d": [
           {
            "colorbar": {
             "outlinewidth": 0,
             "ticks": ""
            },
            "colorscale": [
             [
              0,
              "#0d0887"
             ],
             [
              0.1111111111111111,
              "#46039f"
             ],
             [
              0.2222222222222222,
              "#7201a8"
             ],
             [
              0.3333333333333333,
              "#9c179e"
             ],
             [
              0.4444444444444444,
              "#bd3786"
             ],
             [
              0.5555555555555556,
              "#d8576b"
             ],
             [
              0.6666666666666666,
              "#ed7953"
             ],
             [
              0.7777777777777778,
              "#fb9f3a"
             ],
             [
              0.8888888888888888,
              "#fdca26"
             ],
             [
              1,
              "#f0f921"
             ]
            ],
            "type": "histogram2d"
           }
          ],
          "histogram2dcontour": [
           {
            "colorbar": {
             "outlinewidth": 0,
             "ticks": ""
            },
            "colorscale": [
             [
              0,
              "#0d0887"
             ],
             [
              0.1111111111111111,
              "#46039f"
             ],
             [
              0.2222222222222222,
              "#7201a8"
             ],
             [
              0.3333333333333333,
              "#9c179e"
             ],
             [
              0.4444444444444444,
              "#bd3786"
             ],
             [
              0.5555555555555556,
              "#d8576b"
             ],
             [
              0.6666666666666666,
              "#ed7953"
             ],
             [
              0.7777777777777778,
              "#fb9f3a"
             ],
             [
              0.8888888888888888,
              "#fdca26"
             ],
             [
              1,
              "#f0f921"
             ]
            ],
            "type": "histogram2dcontour"
           }
          ],
          "mesh3d": [
           {
            "colorbar": {
             "outlinewidth": 0,
             "ticks": ""
            },
            "type": "mesh3d"
           }
          ],
          "parcoords": [
           {
            "line": {
             "colorbar": {
              "outlinewidth": 0,
              "ticks": ""
             }
            },
            "type": "parcoords"
           }
          ],
          "pie": [
           {
            "automargin": true,
            "type": "pie"
           }
          ],
          "scatter": [
           {
            "fillpattern": {
             "fillmode": "overlay",
             "size": 10,
             "solidity": 0.2
            },
            "type": "scatter"
           }
          ],
          "scatter3d": [
           {
            "line": {
             "colorbar": {
              "outlinewidth": 0,
              "ticks": ""
             }
            },
            "marker": {
             "colorbar": {
              "outlinewidth": 0,
              "ticks": ""
             }
            },
            "type": "scatter3d"
           }
          ],
          "scattercarpet": [
           {
            "marker": {
             "colorbar": {
              "outlinewidth": 0,
              "ticks": ""
             }
            },
            "type": "scattercarpet"
           }
          ],
          "scattergeo": [
           {
            "marker": {
             "colorbar": {
              "outlinewidth": 0,
              "ticks": ""
             }
            },
            "type": "scattergeo"
           }
          ],
          "scattergl": [
           {
            "marker": {
             "colorbar": {
              "outlinewidth": 0,
              "ticks": ""
             }
            },
            "type": "scattergl"
           }
          ],
          "scattermap": [
           {
            "marker": {
             "colorbar": {
              "outlinewidth": 0,
              "ticks": ""
             }
            },
            "type": "scattermap"
           }
          ],
          "scattermapbox": [
           {
            "marker": {
             "colorbar": {
              "outlinewidth": 0,
              "ticks": ""
             }
            },
            "type": "scattermapbox"
           }
          ],
          "scatterpolar": [
           {
            "marker": {
             "colorbar": {
              "outlinewidth": 0,
              "ticks": ""
             }
            },
            "type": "scatterpolar"
           }
          ],
          "scatterpolargl": [
           {
            "marker": {
             "colorbar": {
              "outlinewidth": 0,
              "ticks": ""
             }
            },
            "type": "scatterpolargl"
           }
          ],
          "scatterternary": [
           {
            "marker": {
             "colorbar": {
              "outlinewidth": 0,
              "ticks": ""
             }
            },
            "type": "scatterternary"
           }
          ],
          "surface": [
           {
            "colorbar": {
             "outlinewidth": 0,
             "ticks": ""
            },
            "colorscale": [
             [
              0,
              "#0d0887"
             ],
             [
              0.1111111111111111,
              "#46039f"
             ],
             [
              0.2222222222222222,
              "#7201a8"
             ],
             [
              0.3333333333333333,
              "#9c179e"
             ],
             [
              0.4444444444444444,
              "#bd3786"
             ],
             [
              0.5555555555555556,
              "#d8576b"
             ],
             [
              0.6666666666666666,
              "#ed7953"
             ],
             [
              0.7777777777777778,
              "#fb9f3a"
             ],
             [
              0.8888888888888888,
              "#fdca26"
             ],
             [
              1,
              "#f0f921"
             ]
            ],
            "type": "surface"
           }
          ],
          "table": [
           {
            "cells": {
             "fill": {
              "color": "#EBF0F8"
             },
             "line": {
              "color": "white"
             }
            },
            "header": {
             "fill": {
              "color": "#C8D4E3"
             },
             "line": {
              "color": "white"
             }
            },
            "type": "table"
           }
          ]
         },
         "layout": {
          "annotationdefaults": {
           "arrowcolor": "#2a3f5f",
           "arrowhead": 0,
           "arrowwidth": 1
          },
          "autotypenumbers": "strict",
          "coloraxis": {
           "colorbar": {
            "outlinewidth": 0,
            "ticks": ""
           }
          },
          "colorscale": {
           "diverging": [
            [
             0,
             "#8e0152"
            ],
            [
             0.1,
             "#c51b7d"
            ],
            [
             0.2,
             "#de77ae"
            ],
            [
             0.3,
             "#f1b6da"
            ],
            [
             0.4,
             "#fde0ef"
            ],
            [
             0.5,
             "#f7f7f7"
            ],
            [
             0.6,
             "#e6f5d0"
            ],
            [
             0.7,
             "#b8e186"
            ],
            [
             0.8,
             "#7fbc41"
            ],
            [
             0.9,
             "#4d9221"
            ],
            [
             1,
             "#276419"
            ]
           ],
           "sequential": [
            [
             0,
             "#0d0887"
            ],
            [
             0.1111111111111111,
             "#46039f"
            ],
            [
             0.2222222222222222,
             "#7201a8"
            ],
            [
             0.3333333333333333,
             "#9c179e"
            ],
            [
             0.4444444444444444,
             "#bd3786"
            ],
            [
             0.5555555555555556,
             "#d8576b"
            ],
            [
             0.6666666666666666,
             "#ed7953"
            ],
            [
             0.7777777777777778,
             "#fb9f3a"
            ],
            [
             0.8888888888888888,
             "#fdca26"
            ],
            [
             1,
             "#f0f921"
            ]
           ],
           "sequentialminus": [
            [
             0,
             "#0d0887"
            ],
            [
             0.1111111111111111,
             "#46039f"
            ],
            [
             0.2222222222222222,
             "#7201a8"
            ],
            [
             0.3333333333333333,
             "#9c179e"
            ],
            [
             0.4444444444444444,
             "#bd3786"
            ],
            [
             0.5555555555555556,
             "#d8576b"
            ],
            [
             0.6666666666666666,
             "#ed7953"
            ],
            [
             0.7777777777777778,
             "#fb9f3a"
            ],
            [
             0.8888888888888888,
             "#fdca26"
            ],
            [
             1,
             "#f0f921"
            ]
           ]
          },
          "colorway": [
           "#636efa",
           "#EF553B",
           "#00cc96",
           "#ab63fa",
           "#FFA15A",
           "#19d3f3",
           "#FF6692",
           "#B6E880",
           "#FF97FF",
           "#FECB52"
          ],
          "font": {
           "color": "#2a3f5f"
          },
          "geo": {
           "bgcolor": "white",
           "lakecolor": "white",
           "landcolor": "#E5ECF6",
           "showlakes": true,
           "showland": true,
           "subunitcolor": "white"
          },
          "hoverlabel": {
           "align": "left"
          },
          "hovermode": "closest",
          "mapbox": {
           "style": "light"
          },
          "paper_bgcolor": "white",
          "plot_bgcolor": "#E5ECF6",
          "polar": {
           "angularaxis": {
            "gridcolor": "white",
            "linecolor": "white",
            "ticks": ""
           },
           "bgcolor": "#E5ECF6",
           "radialaxis": {
            "gridcolor": "white",
            "linecolor": "white",
            "ticks": ""
           }
          },
          "scene": {
           "xaxis": {
            "backgroundcolor": "#E5ECF6",
            "gridcolor": "white",
            "gridwidth": 2,
            "linecolor": "white",
            "showbackground": true,
            "ticks": "",
            "zerolinecolor": "white"
           },
           "yaxis": {
            "backgroundcolor": "#E5ECF6",
            "gridcolor": "white",
            "gridwidth": 2,
            "linecolor": "white",
            "showbackground": true,
            "ticks": "",
            "zerolinecolor": "white"
           },
           "zaxis": {
            "backgroundcolor": "#E5ECF6",
            "gridcolor": "white",
            "gridwidth": 2,
            "linecolor": "white",
            "showbackground": true,
            "ticks": "",
            "zerolinecolor": "white"
           }
          },
          "shapedefaults": {
           "line": {
            "color": "#2a3f5f"
           }
          },
          "ternary": {
           "aaxis": {
            "gridcolor": "white",
            "linecolor": "white",
            "ticks": ""
           },
           "baxis": {
            "gridcolor": "white",
            "linecolor": "white",
            "ticks": ""
           },
           "bgcolor": "#E5ECF6",
           "caxis": {
            "gridcolor": "white",
            "linecolor": "white",
            "ticks": ""
           }
          },
          "title": {
           "x": 0.05
          },
          "xaxis": {
           "automargin": true,
           "gridcolor": "white",
           "linecolor": "white",
           "ticks": "",
           "title": {
            "standoff": 15
           },
           "zerolinecolor": "white",
           "zerolinewidth": 2
          },
          "yaxis": {
           "automargin": true,
           "gridcolor": "white",
           "linecolor": "white",
           "ticks": "",
           "title": {
            "standoff": 15
           },
           "zerolinecolor": "white",
           "zerolinewidth": 2
          }
         }
        },
        "title": {
         "text": "不同城市 Shared Room 最短住宿中位数（去除异常）"
        },
        "xaxis": {
         "anchor": "y",
         "domain": [
          0,
          1
         ],
         "title": {
          "text": "month"
         }
        },
        "yaxis": {
         "anchor": "x",
         "domain": [
          0,
          1
         ],
         "title": {
          "text": "minimum_nights"
         }
        }
       }
      }
     },
     "metadata": {},
     "output_type": "display_data"
    },
    {
     "data": {
      "application/vnd.plotly.v1+json": {
       "config": {
        "plotlyServerURL": "https://plot.ly"
       },
       "data": [
        {
         "hovertemplate": "city=Bronx<br>month=%{x}<br>price=%{y}<extra></extra>",
         "legendgroup": "Bronx",
         "line": {
          "color": "#636efa",
          "dash": "solid"
         },
         "marker": {
          "symbol": "circle"
         },
         "mode": "lines",
         "name": "Bronx",
         "orientation": "v",
         "showlegend": true,
         "type": "scatter",
         "x": [
          "2406",
          "2407",
          "2408",
          "2409",
          "2410",
          "2411",
          "2412"
         ],
         "xaxis": "x",
         "y": {
          "bdata": "AAAAAABgU0AAAAAAAMBXQAAAAAAAwFdAAAAAAACAS0AAAAAAAABJQAAAAAAAQEpAAAAAAABASkA=",
          "dtype": "f8"
         },
         "yaxis": "y"
        },
        {
         "hovertemplate": "city=Brooklyn<br>month=%{x}<br>price=%{y}<extra></extra>",
         "legendgroup": "Brooklyn",
         "line": {
          "color": "#EF553B",
          "dash": "solid"
         },
         "marker": {
          "symbol": "circle"
         },
         "mode": "lines",
         "name": "Brooklyn",
         "orientation": "v",
         "showlegend": true,
         "type": "scatter",
         "x": [
          "2406",
          "2407",
          "2408",
          "2409",
          "2410",
          "2411",
          "2412",
          "2501",
          "2502",
          "2503",
          "2504",
          "2505"
         ],
         "xaxis": "x",
         "y": {
          "bdata": "AAAAAAAASkAAAAAAAIBJQAAAAAAAAEpAAAAAAAAAREAAAAAAAEBDQAAAAAAAAENAAAAAAAAAQ0AAAAAAAMBNQAAAAAAAgEFAAAAAAACAQ0AAAAAAAABDQAAAAAAAAEdA",
          "dtype": "f8"
         },
         "yaxis": "y"
        },
        {
         "hovertemplate": "city=Manhattan<br>month=%{x}<br>price=%{y}<extra></extra>",
         "legendgroup": "Manhattan",
         "line": {
          "color": "#00cc96",
          "dash": "solid"
         },
         "marker": {
          "symbol": "circle"
         },
         "mode": "lines",
         "name": "Manhattan",
         "orientation": "v",
         "showlegend": true,
         "type": "scatter",
         "x": [
          "2406",
          "2407",
          "2408",
          "2409",
          "2410",
          "2411",
          "2412",
          "2501",
          "2502",
          "2503",
          "2504",
          "2505"
         ],
         "xaxis": "x",
         "y": {
          "bdata": "AAAAAAAAVUAAAAAAAEBWQAAAAAAAAFZAAAAAAACAUUAAAAAAAIBRQAAAAAAAQFJAAAAAAACAUUAAAAAAAEBZQAAAAAAAoFNAAAAAAABAUkAAAAAAAABQQAAAAAAAwEpA",
          "dtype": "f8"
         },
         "yaxis": "y"
        },
        {
         "hovertemplate": "city=Queens<br>month=%{x}<br>price=%{y}<extra></extra>",
         "legendgroup": "Queens",
         "line": {
          "color": "#ab63fa",
          "dash": "solid"
         },
         "marker": {
          "symbol": "circle"
         },
         "mode": "lines",
         "name": "Queens",
         "orientation": "v",
         "showlegend": true,
         "type": "scatter",
         "x": [
          "2406",
          "2407",
          "2408",
          "2409",
          "2410",
          "2411",
          "2412",
          "2501",
          "2502",
          "2503",
          "2504",
          "2505"
         ],
         "xaxis": "x",
         "y": {
          "bdata": "AAAAAACAUEAAAAAAAABOQAAAAAAAwE1AAAAAAACATUAAAAAAAIBNQAAAAAAAgE1AAAAAAABgUEAAAAAAAEBaQAAAAAAAgFhAAAAAAABAWkAAAAAAAIBXQAAAAAAAoFZA",
          "dtype": "f8"
         },
         "yaxis": "y"
        },
        {
         "hovertemplate": "city=Staten Island<br>month=%{x}<br>price=%{y}<extra></extra>",
         "legendgroup": "Staten Island",
         "line": {
          "color": "#FFA15A",
          "dash": "solid"
         },
         "marker": {
          "symbol": "circle"
         },
         "mode": "lines",
         "name": "Staten Island",
         "orientation": "v",
         "showlegend": true,
         "type": "scatter",
         "x": [
          "2406",
          "2407",
          "2408",
          "2409",
          "2410",
          "2411",
          "2412",
          "2501",
          "2504",
          "2505"
         ],
         "xaxis": "x",
         "y": {
          "bdata": "AAAAAAAwYEAAAAAAAMBYQAAAAAAAMGBAAAAAAADAWEAAAAAAAMBYQAAAAAAAwFhAAAAAAADAWEAAAAAAAGBhQAAAAAAAAFlAAAAAAABgWUA=",
          "dtype": "f8"
         },
         "yaxis": "y"
        }
       ],
       "layout": {
        "legend": {
         "title": {
          "text": "city"
         },
         "tracegroupgap": 0
        },
        "template": {
         "data": {
          "bar": [
           {
            "error_x": {
             "color": "#2a3f5f"
            },
            "error_y": {
             "color": "#2a3f5f"
            },
            "marker": {
             "line": {
              "color": "#E5ECF6",
              "width": 0.5
             },
             "pattern": {
              "fillmode": "overlay",
              "size": 10,
              "solidity": 0.2
             }
            },
            "type": "bar"
           }
          ],
          "barpolar": [
           {
            "marker": {
             "line": {
              "color": "#E5ECF6",
              "width": 0.5
             },
             "pattern": {
              "fillmode": "overlay",
              "size": 10,
              "solidity": 0.2
             }
            },
            "type": "barpolar"
           }
          ],
          "carpet": [
           {
            "aaxis": {
             "endlinecolor": "#2a3f5f",
             "gridcolor": "white",
             "linecolor": "white",
             "minorgridcolor": "white",
             "startlinecolor": "#2a3f5f"
            },
            "baxis": {
             "endlinecolor": "#2a3f5f",
             "gridcolor": "white",
             "linecolor": "white",
             "minorgridcolor": "white",
             "startlinecolor": "#2a3f5f"
            },
            "type": "carpet"
           }
          ],
          "choropleth": [
           {
            "colorbar": {
             "outlinewidth": 0,
             "ticks": ""
            },
            "type": "choropleth"
           }
          ],
          "contour": [
           {
            "colorbar": {
             "outlinewidth": 0,
             "ticks": ""
            },
            "colorscale": [
             [
              0,
              "#0d0887"
             ],
             [
              0.1111111111111111,
              "#46039f"
             ],
             [
              0.2222222222222222,
              "#7201a8"
             ],
             [
              0.3333333333333333,
              "#9c179e"
             ],
             [
              0.4444444444444444,
              "#bd3786"
             ],
             [
              0.5555555555555556,
              "#d8576b"
             ],
             [
              0.6666666666666666,
              "#ed7953"
             ],
             [
              0.7777777777777778,
              "#fb9f3a"
             ],
             [
              0.8888888888888888,
              "#fdca26"
             ],
             [
              1,
              "#f0f921"
             ]
            ],
            "type": "contour"
           }
          ],
          "contourcarpet": [
           {
            "colorbar": {
             "outlinewidth": 0,
             "ticks": ""
            },
            "type": "contourcarpet"
           }
          ],
          "heatmap": [
           {
            "colorbar": {
             "outlinewidth": 0,
             "ticks": ""
            },
            "colorscale": [
             [
              0,
              "#0d0887"
             ],
             [
              0.1111111111111111,
              "#46039f"
             ],
             [
              0.2222222222222222,
              "#7201a8"
             ],
             [
              0.3333333333333333,
              "#9c179e"
             ],
             [
              0.4444444444444444,
              "#bd3786"
             ],
             [
              0.5555555555555556,
              "#d8576b"
             ],
             [
              0.6666666666666666,
              "#ed7953"
             ],
             [
              0.7777777777777778,
              "#fb9f3a"
             ],
             [
              0.8888888888888888,
              "#fdca26"
             ],
             [
              1,
              "#f0f921"
             ]
            ],
            "type": "heatmap"
           }
          ],
          "histogram": [
           {
            "marker": {
             "pattern": {
              "fillmode": "overlay",
              "size": 10,
              "solidity": 0.2
             }
            },
            "type": "histogram"
           }
          ],
          "histogram2d": [
           {
            "colorbar": {
             "outlinewidth": 0,
             "ticks": ""
            },
            "colorscale": [
             [
              0,
              "#0d0887"
             ],
             [
              0.1111111111111111,
              "#46039f"
             ],
             [
              0.2222222222222222,
              "#7201a8"
             ],
             [
              0.3333333333333333,
              "#9c179e"
             ],
             [
              0.4444444444444444,
              "#bd3786"
             ],
             [
              0.5555555555555556,
              "#d8576b"
             ],
             [
              0.6666666666666666,
              "#ed7953"
             ],
             [
              0.7777777777777778,
              "#fb9f3a"
             ],
             [
              0.8888888888888888,
              "#fdca26"
             ],
             [
              1,
              "#f0f921"
             ]
            ],
            "type": "histogram2d"
           }
          ],
          "histogram2dcontour": [
           {
            "colorbar": {
             "outlinewidth": 0,
             "ticks": ""
            },
            "colorscale": [
             [
              0,
              "#0d0887"
             ],
             [
              0.1111111111111111,
              "#46039f"
             ],
             [
              0.2222222222222222,
              "#7201a8"
             ],
             [
              0.3333333333333333,
              "#9c179e"
             ],
             [
              0.4444444444444444,
              "#bd3786"
             ],
             [
              0.5555555555555556,
              "#d8576b"
             ],
             [
              0.6666666666666666,
              "#ed7953"
             ],
             [
              0.7777777777777778,
              "#fb9f3a"
             ],
             [
              0.8888888888888888,
              "#fdca26"
             ],
             [
              1,
              "#f0f921"
             ]
            ],
            "type": "histogram2dcontour"
           }
          ],
          "mesh3d": [
           {
            "colorbar": {
             "outlinewidth": 0,
             "ticks": ""
            },
            "type": "mesh3d"
           }
          ],
          "parcoords": [
           {
            "line": {
             "colorbar": {
              "outlinewidth": 0,
              "ticks": ""
             }
            },
            "type": "parcoords"
           }
          ],
          "pie": [
           {
            "automargin": true,
            "type": "pie"
           }
          ],
          "scatter": [
           {
            "fillpattern": {
             "fillmode": "overlay",
             "size": 10,
             "solidity": 0.2
            },
            "type": "scatter"
           }
          ],
          "scatter3d": [
           {
            "line": {
             "colorbar": {
              "outlinewidth": 0,
              "ticks": ""
             }
            },
            "marker": {
             "colorbar": {
              "outlinewidth": 0,
              "ticks": ""
             }
            },
            "type": "scatter3d"
           }
          ],
          "scattercarpet": [
           {
            "marker": {
             "colorbar": {
              "outlinewidth": 0,
              "ticks": ""
             }
            },
            "type": "scattercarpet"
           }
          ],
          "scattergeo": [
           {
            "marker": {
             "colorbar": {
              "outlinewidth": 0,
              "ticks": ""
             }
            },
            "type": "scattergeo"
           }
          ],
          "scattergl": [
           {
            "marker": {
             "colorbar": {
              "outlinewidth": 0,
              "ticks": ""
             }
            },
            "type": "scattergl"
           }
          ],
          "scattermap": [
           {
            "marker": {
             "colorbar": {
              "outlinewidth": 0,
              "ticks": ""
             }
            },
            "type": "scattermap"
           }
          ],
          "scattermapbox": [
           {
            "marker": {
             "colorbar": {
              "outlinewidth": 0,
              "ticks": ""
             }
            },
            "type": "scattermapbox"
           }
          ],
          "scatterpolar": [
           {
            "marker": {
             "colorbar": {
              "outlinewidth": 0,
              "ticks": ""
             }
            },
            "type": "scatterpolar"
           }
          ],
          "scatterpolargl": [
           {
            "marker": {
             "colorbar": {
              "outlinewidth": 0,
              "ticks": ""
             }
            },
            "type": "scatterpolargl"
           }
          ],
          "scatterternary": [
           {
            "marker": {
             "colorbar": {
              "outlinewidth": 0,
              "ticks": ""
             }
            },
            "type": "scatterternary"
           }
          ],
          "surface": [
           {
            "colorbar": {
             "outlinewidth": 0,
             "ticks": ""
            },
            "colorscale": [
             [
              0,
              "#0d0887"
             ],
             [
              0.1111111111111111,
              "#46039f"
             ],
             [
              0.2222222222222222,
              "#7201a8"
             ],
             [
              0.3333333333333333,
              "#9c179e"
             ],
             [
              0.4444444444444444,
              "#bd3786"
             ],
             [
              0.5555555555555556,
              "#d8576b"
             ],
             [
              0.6666666666666666,
              "#ed7953"
             ],
             [
              0.7777777777777778,
              "#fb9f3a"
             ],
             [
              0.8888888888888888,
              "#fdca26"
             ],
             [
              1,
              "#f0f921"
             ]
            ],
            "type": "surface"
           }
          ],
          "table": [
           {
            "cells": {
             "fill": {
              "color": "#EBF0F8"
             },
             "line": {
              "color": "white"
             }
            },
            "header": {
             "fill": {
              "color": "#C8D4E3"
             },
             "line": {
              "color": "white"
             }
            },
            "type": "table"
           }
          ]
         },
         "layout": {
          "annotationdefaults": {
           "arrowcolor": "#2a3f5f",
           "arrowhead": 0,
           "arrowwidth": 1
          },
          "autotypenumbers": "strict",
          "coloraxis": {
           "colorbar": {
            "outlinewidth": 0,
            "ticks": ""
           }
          },
          "colorscale": {
           "diverging": [
            [
             0,
             "#8e0152"
            ],
            [
             0.1,
             "#c51b7d"
            ],
            [
             0.2,
             "#de77ae"
            ],
            [
             0.3,
             "#f1b6da"
            ],
            [
             0.4,
             "#fde0ef"
            ],
            [
             0.5,
             "#f7f7f7"
            ],
            [
             0.6,
             "#e6f5d0"
            ],
            [
             0.7,
             "#b8e186"
            ],
            [
             0.8,
             "#7fbc41"
            ],
            [
             0.9,
             "#4d9221"
            ],
            [
             1,
             "#276419"
            ]
           ],
           "sequential": [
            [
             0,
             "#0d0887"
            ],
            [
             0.1111111111111111,
             "#46039f"
            ],
            [
             0.2222222222222222,
             "#7201a8"
            ],
            [
             0.3333333333333333,
             "#9c179e"
            ],
            [
             0.4444444444444444,
             "#bd3786"
            ],
            [
             0.5555555555555556,
             "#d8576b"
            ],
            [
             0.6666666666666666,
             "#ed7953"
            ],
            [
             0.7777777777777778,
             "#fb9f3a"
            ],
            [
             0.8888888888888888,
             "#fdca26"
            ],
            [
             1,
             "#f0f921"
            ]
           ],
           "sequentialminus": [
            [
             0,
             "#0d0887"
            ],
            [
             0.1111111111111111,
             "#46039f"
            ],
            [
             0.2222222222222222,
             "#7201a8"
            ],
            [
             0.3333333333333333,
             "#9c179e"
            ],
            [
             0.4444444444444444,
             "#bd3786"
            ],
            [
             0.5555555555555556,
             "#d8576b"
            ],
            [
             0.6666666666666666,
             "#ed7953"
            ],
            [
             0.7777777777777778,
             "#fb9f3a"
            ],
            [
             0.8888888888888888,
             "#fdca26"
            ],
            [
             1,
             "#f0f921"
            ]
           ]
          },
          "colorway": [
           "#636efa",
           "#EF553B",
           "#00cc96",
           "#ab63fa",
           "#FFA15A",
           "#19d3f3",
           "#FF6692",
           "#B6E880",
           "#FF97FF",
           "#FECB52"
          ],
          "font": {
           "color": "#2a3f5f"
          },
          "geo": {
           "bgcolor": "white",
           "lakecolor": "white",
           "landcolor": "#E5ECF6",
           "showlakes": true,
           "showland": true,
           "subunitcolor": "white"
          },
          "hoverlabel": {
           "align": "left"
          },
          "hovermode": "closest",
          "mapbox": {
           "style": "light"
          },
          "paper_bgcolor": "white",
          "plot_bgcolor": "#E5ECF6",
          "polar": {
           "angularaxis": {
            "gridcolor": "white",
            "linecolor": "white",
            "ticks": ""
           },
           "bgcolor": "#E5ECF6",
           "radialaxis": {
            "gridcolor": "white",
            "linecolor": "white",
            "ticks": ""
           }
          },
          "scene": {
           "xaxis": {
            "backgroundcolor": "#E5ECF6",
            "gridcolor": "white",
            "gridwidth": 2,
            "linecolor": "white",
            "showbackground": true,
            "ticks": "",
            "zerolinecolor": "white"
           },
           "yaxis": {
            "backgroundcolor": "#E5ECF6",
            "gridcolor": "white",
            "gridwidth": 2,
            "linecolor": "white",
            "showbackground": true,
            "ticks": "",
            "zerolinecolor": "white"
           },
           "zaxis": {
            "backgroundcolor": "#E5ECF6",
            "gridcolor": "white",
            "gridwidth": 2,
            "linecolor": "white",
            "showbackground": true,
            "ticks": "",
            "zerolinecolor": "white"
           }
          },
          "shapedefaults": {
           "line": {
            "color": "#2a3f5f"
           }
          },
          "ternary": {
           "aaxis": {
            "gridcolor": "white",
            "linecolor": "white",
            "ticks": ""
           },
           "baxis": {
            "gridcolor": "white",
            "linecolor": "white",
            "ticks": ""
           },
           "bgcolor": "#E5ECF6",
           "caxis": {
            "gridcolor": "white",
            "linecolor": "white",
            "ticks": ""
           }
          },
          "title": {
           "x": 0.05
          },
          "xaxis": {
           "automargin": true,
           "gridcolor": "white",
           "linecolor": "white",
           "ticks": "",
           "title": {
            "standoff": 15
           },
           "zerolinecolor": "white",
           "zerolinewidth": 2
          },
          "yaxis": {
           "automargin": true,
           "gridcolor": "white",
           "linecolor": "white",
           "ticks": "",
           "title": {
            "standoff": 15
           },
           "zerolinecolor": "white",
           "zerolinewidth": 2
          }
         }
        },
        "title": {
         "text": "不同城市 Shared Room 中位数价格趋势"
        },
        "xaxis": {
         "anchor": "y",
         "domain": [
          0,
          1
         ],
         "title": {
          "text": "month"
         }
        },
        "yaxis": {
         "anchor": "x",
         "domain": [
          0,
          1
         ],
         "title": {
          "text": "price"
         }
        }
       }
      }
     },
     "metadata": {},
     "output_type": "display_data"
    }
   ],
   "source": [
    "import plotly.express as px\n",
    "\n",
    "# 1. Shared room 数量变化\n",
    "fig1 = px.line(listing_count, x='month', y='shared_room_count',\n",
    "               title='Shared Room (住宿>=30天) 每月数量')\n",
    "\n",
    "# 2. 异常值盒状图\n",
    "fig2 = px.box(shared_long_stays, x='month', y='minimum_nights', color='outlier',\n",
    "              points='outliers', title='最短住宿天数 (IQR 异常值标示)')\n",
    "\n",
    "# 3. 城市 vs 最短住宿中位数\n",
    "fig3 = px.line(city_comparison, x='month', y='minimum_nights', color='city',\n",
    "               title='不同城市 Shared Room 最短住宿中位数（去除异常）')\n",
    "\n",
    "# 4. 城市 vs 中位数价格\n",
    "fig4 = px.line(median_price, x='month', y='price', color='city',\n",
    "               title='不同城市 Shared Room 中位数价格趋势')\n",
    "\n",
    "# 展示所有图\n",
    "fig1.show()\n",
    "fig2.show()\n",
    "fig3.show()\n",
    "fig4.show()\n"
   ]
  },
  {
   "cell_type": "code",
   "execution_count": 27,
   "id": "ea91f7b7",
   "metadata": {},
   "outputs": [
    {
     "name": "stdout",
     "output_type": "stream",
     "text": [
      "listings_2503 ✅ 成功筛选 120 笔 Shared Room (min 30)\n",
      "listings_2504 ✅ 成功筛选 145 笔 Shared Room (min 30)\n",
      "listings_2505 ✅ 成功筛选 159 笔 Shared Room (min 30)\n"
     ]
    }
   ],
   "source": [
    "for key in results:\n",
    "    print(f\"{key} 成功筛选出 {len(results[key])} 笔数据\")\n",
    "\n",
    "for month in months:\n",
    "    file_path = os.path.join(folder_path, f\"{month}.csv\")\n",
    "    try:\n",
    "        df = pd.read_csv(file_path, low_memory=False)\n",
    "        \n",
    "        if \"room_type\" in df.columns and \"minimum_nights\" in df.columns:\n",
    "            filtered = df[\n",
    "                (df[\"room_type\"] == \"Shared room\") &\n",
    "                (df[\"minimum_nights\"] >= 30)\n",
    "            ].copy()\n",
    "            \n",
    "            if not filtered.empty:\n",
    "                filtered[\"month\"] = month\n",
    "                keep_cols = [\n",
    "                    \"id\", \"listing_url\", \"room_type\", \"minimum_nights\", \"price\",\n",
    "                    \"availability_30\", \"availability_60\", \"availability_90\", \"availability_365\",\n",
    "                    \"neighbourhood_group_cleansed\", \"month\"\n",
    "                ]\n",
    "                selected = filtered[[col for col in keep_cols if col in filtered.columns]]\n",
    "                results[month] = selected\n",
    "                print(f\"{month} ✅ 成功筛选 {len(selected)} 笔 Shared Room (min 30)\")\n",
    "            else:\n",
    "                print(f\"{month} ⚠️ 没有符合条件的 Shared Room\")\n",
    "        else:\n",
    "            print(f\"{month} ❌ 缺少必要栏位 room_type 或 minimum_nights\")\n",
    "    except Exception as e:\n",
    "        print(f\"{month} ❌ 读取失败：{e}\")"
   ]
  },
  {
   "cell_type": "code",
   "execution_count": 31,
   "id": "23180fd0",
   "metadata": {},
   "outputs": [
    {
     "data": {
      "text/html": [
       "<div>\n",
       "<style scoped>\n",
       "    .dataframe tbody tr th:only-of-type {\n",
       "        vertical-align: middle;\n",
       "    }\n",
       "\n",
       "    .dataframe tbody tr th {\n",
       "        vertical-align: top;\n",
       "    }\n",
       "\n",
       "    .dataframe thead th {\n",
       "        text-align: right;\n",
       "    }\n",
       "</style>\n",
       "<table border=\"1\" class=\"dataframe\">\n",
       "  <thead>\n",
       "    <tr style=\"text-align: right;\">\n",
       "      <th></th>\n",
       "      <th>id</th>\n",
       "      <th>listing_url</th>\n",
       "      <th>room_type</th>\n",
       "      <th>minimum_nights</th>\n",
       "      <th>price</th>\n",
       "      <th>availability_30</th>\n",
       "      <th>availability_60</th>\n",
       "      <th>availability_90</th>\n",
       "      <th>availability_365</th>\n",
       "      <th>neighbourhood_group_cleansed</th>\n",
       "      <th>month</th>\n",
       "    </tr>\n",
       "  </thead>\n",
       "  <tbody>\n",
       "    <tr>\n",
       "      <th>826</th>\n",
       "      <td>819206</td>\n",
       "      <td>https://www.airbnb.com/rooms/819206</td>\n",
       "      <td>Shared room</td>\n",
       "      <td>30</td>\n",
       "      <td>$38.00</td>\n",
       "      <td>19</td>\n",
       "      <td>49</td>\n",
       "      <td>70</td>\n",
       "      <td>321</td>\n",
       "      <td>Manhattan</td>\n",
       "      <td>listings_2503</td>\n",
       "    </tr>\n",
       "    <tr>\n",
       "      <th>844</th>\n",
       "      <td>1016004</td>\n",
       "      <td>https://www.airbnb.com/rooms/1016004</td>\n",
       "      <td>Shared room</td>\n",
       "      <td>30</td>\n",
       "      <td>NaN</td>\n",
       "      <td>0</td>\n",
       "      <td>0</td>\n",
       "      <td>0</td>\n",
       "      <td>0</td>\n",
       "      <td>Queens</td>\n",
       "      <td>listings_2503</td>\n",
       "    </tr>\n",
       "    <tr>\n",
       "      <th>1162</th>\n",
       "      <td>2055559</td>\n",
       "      <td>https://www.airbnb.com/rooms/2055559</td>\n",
       "      <td>Shared room</td>\n",
       "      <td>30</td>\n",
       "      <td>NaN</td>\n",
       "      <td>0</td>\n",
       "      <td>0</td>\n",
       "      <td>0</td>\n",
       "      <td>0</td>\n",
       "      <td>Brooklyn</td>\n",
       "      <td>listings_2503</td>\n",
       "    </tr>\n",
       "    <tr>\n",
       "      <th>1545</th>\n",
       "      <td>2569466</td>\n",
       "      <td>https://www.airbnb.com/rooms/2569466</td>\n",
       "      <td>Shared room</td>\n",
       "      <td>30</td>\n",
       "      <td>NaN</td>\n",
       "      <td>0</td>\n",
       "      <td>0</td>\n",
       "      <td>0</td>\n",
       "      <td>0</td>\n",
       "      <td>Manhattan</td>\n",
       "      <td>listings_2503</td>\n",
       "    </tr>\n",
       "    <tr>\n",
       "      <th>1586</th>\n",
       "      <td>3120957</td>\n",
       "      <td>https://www.airbnb.com/rooms/3120957</td>\n",
       "      <td>Shared room</td>\n",
       "      <td>30</td>\n",
       "      <td>NaN</td>\n",
       "      <td>0</td>\n",
       "      <td>0</td>\n",
       "      <td>0</td>\n",
       "      <td>0</td>\n",
       "      <td>Manhattan</td>\n",
       "      <td>listings_2503</td>\n",
       "    </tr>\n",
       "    <tr>\n",
       "      <th>...</th>\n",
       "      <td>...</td>\n",
       "      <td>...</td>\n",
       "      <td>...</td>\n",
       "      <td>...</td>\n",
       "      <td>...</td>\n",
       "      <td>...</td>\n",
       "      <td>...</td>\n",
       "      <td>...</td>\n",
       "      <td>...</td>\n",
       "      <td>...</td>\n",
       "      <td>...</td>\n",
       "    </tr>\n",
       "    <tr>\n",
       "      <th>37287</th>\n",
       "      <td>1356624484375250156</td>\n",
       "      <td>https://www.airbnb.com/rooms/1356624484375250156</td>\n",
       "      <td>Shared room</td>\n",
       "      <td>30</td>\n",
       "      <td>$23.00</td>\n",
       "      <td>0</td>\n",
       "      <td>0</td>\n",
       "      <td>0</td>\n",
       "      <td>275</td>\n",
       "      <td>Queens</td>\n",
       "      <td>listings_2503</td>\n",
       "    </tr>\n",
       "    <tr>\n",
       "      <th>37297</th>\n",
       "      <td>1362337688179925950</td>\n",
       "      <td>https://www.airbnb.com/rooms/1362337688179925950</td>\n",
       "      <td>Shared room</td>\n",
       "      <td>30</td>\n",
       "      <td>$32.00</td>\n",
       "      <td>0</td>\n",
       "      <td>0</td>\n",
       "      <td>0</td>\n",
       "      <td>274</td>\n",
       "      <td>Manhattan</td>\n",
       "      <td>listings_2503</td>\n",
       "    </tr>\n",
       "    <tr>\n",
       "      <th>37298</th>\n",
       "      <td>1362352331028746090</td>\n",
       "      <td>https://www.airbnb.com/rooms/1362352331028746090</td>\n",
       "      <td>Shared room</td>\n",
       "      <td>30</td>\n",
       "      <td>$36.00</td>\n",
       "      <td>30</td>\n",
       "      <td>60</td>\n",
       "      <td>90</td>\n",
       "      <td>365</td>\n",
       "      <td>Manhattan</td>\n",
       "      <td>listings_2503</td>\n",
       "    </tr>\n",
       "    <tr>\n",
       "      <th>37324</th>\n",
       "      <td>1358373520011451882</td>\n",
       "      <td>https://www.airbnb.com/rooms/1358373520011451882</td>\n",
       "      <td>Shared room</td>\n",
       "      <td>719</td>\n",
       "      <td>$14.00</td>\n",
       "      <td>30</td>\n",
       "      <td>60</td>\n",
       "      <td>90</td>\n",
       "      <td>365</td>\n",
       "      <td>Queens</td>\n",
       "      <td>listings_2503</td>\n",
       "    </tr>\n",
       "    <tr>\n",
       "      <th>37395</th>\n",
       "      <td>1366845814698104281</td>\n",
       "      <td>https://www.airbnb.com/rooms/1366845814698104281</td>\n",
       "      <td>Shared room</td>\n",
       "      <td>30</td>\n",
       "      <td>$30.00</td>\n",
       "      <td>30</td>\n",
       "      <td>60</td>\n",
       "      <td>90</td>\n",
       "      <td>365</td>\n",
       "      <td>Manhattan</td>\n",
       "      <td>listings_2503</td>\n",
       "    </tr>\n",
       "  </tbody>\n",
       "</table>\n",
       "<p>120 rows × 11 columns</p>\n",
       "</div>"
      ],
      "text/plain": [
       "                        id                                       listing_url  \\\n",
       "826                 819206               https://www.airbnb.com/rooms/819206   \n",
       "844                1016004              https://www.airbnb.com/rooms/1016004   \n",
       "1162               2055559              https://www.airbnb.com/rooms/2055559   \n",
       "1545               2569466              https://www.airbnb.com/rooms/2569466   \n",
       "1586               3120957              https://www.airbnb.com/rooms/3120957   \n",
       "...                    ...                                               ...   \n",
       "37287  1356624484375250156  https://www.airbnb.com/rooms/1356624484375250156   \n",
       "37297  1362337688179925950  https://www.airbnb.com/rooms/1362337688179925950   \n",
       "37298  1362352331028746090  https://www.airbnb.com/rooms/1362352331028746090   \n",
       "37324  1358373520011451882  https://www.airbnb.com/rooms/1358373520011451882   \n",
       "37395  1366845814698104281  https://www.airbnb.com/rooms/1366845814698104281   \n",
       "\n",
       "         room_type  minimum_nights   price  availability_30  availability_60  \\\n",
       "826    Shared room              30  $38.00               19               49   \n",
       "844    Shared room              30     NaN                0                0   \n",
       "1162   Shared room              30     NaN                0                0   \n",
       "1545   Shared room              30     NaN                0                0   \n",
       "1586   Shared room              30     NaN                0                0   \n",
       "...            ...             ...     ...              ...              ...   \n",
       "37287  Shared room              30  $23.00                0                0   \n",
       "37297  Shared room              30  $32.00                0                0   \n",
       "37298  Shared room              30  $36.00               30               60   \n",
       "37324  Shared room             719  $14.00               30               60   \n",
       "37395  Shared room              30  $30.00               30               60   \n",
       "\n",
       "       availability_90  availability_365 neighbourhood_group_cleansed  \\\n",
       "826                 70               321                    Manhattan   \n",
       "844                  0                 0                       Queens   \n",
       "1162                 0                 0                     Brooklyn   \n",
       "1545                 0                 0                    Manhattan   \n",
       "1586                 0                 0                    Manhattan   \n",
       "...                ...               ...                          ...   \n",
       "37287                0               275                       Queens   \n",
       "37297                0               274                    Manhattan   \n",
       "37298               90               365                    Manhattan   \n",
       "37324               90               365                       Queens   \n",
       "37395               90               365                    Manhattan   \n",
       "\n",
       "               month  \n",
       "826    listings_2503  \n",
       "844    listings_2503  \n",
       "1162   listings_2503  \n",
       "1545   listings_2503  \n",
       "1586   listings_2503  \n",
       "...              ...  \n",
       "37287  listings_2503  \n",
       "37297  listings_2503  \n",
       "37298  listings_2503  \n",
       "37324  listings_2503  \n",
       "37395  listings_2503  \n",
       "\n",
       "[120 rows x 11 columns]"
      ]
     },
     "execution_count": 31,
     "metadata": {},
     "output_type": "execute_result"
    }
   ],
   "source": [
    "results.get(\"listings_2503\", pd.DataFrame())"
   ]
  }
 ],
 "metadata": {
  "kernelspec": {
   "display_name": "Python 3",
   "language": "python",
   "name": "python3"
  },
  "language_info": {
   "codemirror_mode": {
    "name": "ipython",
    "version": 3
   },
   "file_extension": ".py",
   "mimetype": "text/x-python",
   "name": "python",
   "nbconvert_exporter": "python",
   "pygments_lexer": "ipython3",
   "version": "3.8.7"
  }
 },
 "nbformat": 4,
 "nbformat_minor": 5
}
