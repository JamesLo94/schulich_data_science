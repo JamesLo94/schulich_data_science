{
 "cells": [
  {
   "cell_type": "code",
   "execution_count": null,
   "id": "ad25779b",
   "metadata": {},
   "outputs": [],
   "source": [
    "# Step 1: input library\n",
    "# Step 2: read data\n",
    "# Step 3: 浏览数据\n",
    "#         df.head()\n",
    "#         df.info()\n",
    "#         print(\"数据维度：\", df.shape)\n",
    "#         print(\"每列缺失值：\\n\", df.isnull().sum())\n",
    "#         print(df.describe()) 检视异常值\n",
    "# Step 4: 1. 调整异常问题，比如不符合dictionary的、统一格式、missing value、将一些文字转换成数字（是否、男女、喜欢程度...）\n",
    "#         2. 极值是否保留\n",
    "#         3. 再检视一次调整完的重要参数（null, 异常值） \n",
    "# Step 5:\n",
    "# Step 6:\n",
    "# Step 7:\n",
    "# Step 8:\n",
    "# Step 9: "
   ]
  }
 ],
 "metadata": {
  "language_info": {
   "name": "python"
  }
 },
 "nbformat": 4,
 "nbformat_minor": 5
}
