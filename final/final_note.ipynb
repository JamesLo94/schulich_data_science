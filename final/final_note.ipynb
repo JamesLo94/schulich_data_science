{
 "cells": [
  {
   "cell_type": "code",
   "execution_count": null,
   "id": "ad25779b",
   "metadata": {},
   "outputs": [],
   "source": [
    "# Step 1: input library\n",
    "# Step 2: read data\n",
    "\n",
    "# Step 3: 浏览数据\n",
    "#         df.head()\n",
    "#         df.info()\n",
    "#         print(\"数据维度：\", df.shape)\n",
    "#         print(\"每列缺失值：\\n\", df.isnull().sum())\n",
    "#         print(df.describe()) 检视异常值\n",
    "#         print(\"重复值数量:\", df.duplicated().sum())\n",
    "#         对分类变量用 df['列名'].unique() 或 df['列名'].nunique()\n",
    "\n",
    "# Step 4: 先处理缺失值/异常值，再统一格式（如日期）\n",
    "#         1. 调整异常问题，比如不符合dictionary的、统一格式(叙述中很多空格、乱码、%或是datatype调整，尤其日期)、missing value、将一些文字转换成数字（是否、男女、喜欢程度...）\n",
    "#         2. 极值是否保留\n",
    "#         3. df.loc[15532]['amenities'] 看amenities的内容，是否符合需求（参考代码：all_amenities = re.sub(r'\\\\u[0-9a-fA-F]{4}', '', all_amenities )\n",
    "#                                                                               all_amenities = re.sub(r'[\\{\\}\\[\\]\"\\']', '', all_amenities)    ）\n",
    "#         4. 如果有新创建的栏位，需要concatenate\n",
    "#         5. drop不重要的栏位\n",
    "#         6. df.sample(10) 这可以随机取样，检视调整后的结果\n",
    "#         7. 再检视一次调整完的重要参数（null, 异常值） \n",
    "\n",
    "# Step 5: EDA\n",
    "#         了解y与其他参数之间的关系，散点图、盒装图、相关性\n",
    "#         补充可视化：\n",
    "#         分类变量：用 sns.countplot() 或 df['列名'].value_counts().plot(kind='bar')。\n",
    "#         数值变量：用 sns.histplot() 或 sns.boxplot() 看分布。\n",
    "\n",
    "# Step 6: 特征工程（标准化、创建新参数、One-hot encode）\n",
    "\n",
    "# Step 7: 1. 确认有哪些栏位要进行训练 （df.columns）\n",
    "#         2. 定义参数y, X_类别, X_连续, X_离散\n",
    "\n",
    "# Step 8: 分出训练组和测试组以后，需要进行平衡性检验\n",
    "\n",
    "# Step 9: 建立并训练模型、预测（result、confusion metrix、AUC/ROC、important feature）、调参数（Hyperparameter tuning and cross-validation）"
   ]
  }
 ],
 "metadata": {
  "language_info": {
   "name": "python"
  }
 },
 "nbformat": 4,
 "nbformat_minor": 5
}
