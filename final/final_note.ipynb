{
 "cells": [
  {
   "cell_type": "code",
   "execution_count": null,
   "id": "ad25779b",
   "metadata": {},
   "outputs": [],
   "source": [
    "# Step 1: input library\n",
    "# Step 2: read data\n",
    "# Step 3: 浏览数据\n",
    "#         df.head()\n",
    "#         df.info()\n",
    "#         print(\"数据维度：\", df.shape)\n",
    "#         print(\"每列缺失值：\\n\", df.isnull().sum())\n",
    "#         print(df.describe()) 检视异常值\n",
    "# Step 4: 1. 调整异常问题，比如不符合dictionary的、统一格式(叙述中很多空格、乱码、%或是datatype调整，尤其日期)、missing value、将一些文字转换成数字（是否、男女、喜欢程度...）\n",
    "#         2. 极值是否保留\n",
    "#         3. df.loc[15532]['amenities'] 看amenities的内容，是否符合需求（参考代码：all_amenities = re.sub(r'\\\\u[0-9a-zA-Z]{4}', '', all_amenities )\n",
    "#                                                                               all_amenities = re.sub(r'[\\{\\}\\[\\]\"\\']', '', all_amenities)    ）\n",
    "#         4. 如果有新创建的栏位，需要concatenate\n",
    "#         5. drop不重要的栏位\n",
    "#         6. df.sample(10) 这可以随机取样，检视调整后的结果\n",
    "#         7. 再检视一次调整完的重要参数（null, 异常值） \n",
    "# Step 5: EDA\n",
    "#         了解y与其他参数之间的关系，散点图、盒装图、相关性\n",
    "# Step 6: 特征工程（标准化、创建新参数）\n",
    "# Step 7: 1. 确认有哪些栏位要进行训练 （df.columns）\n",
    "#         2. 定义参数y, X_类别, X_连续, X_离散\n",
    "# Step 8: 分出训练组和测试组以后，需要进行平衡性检验\n",
    "# Step 9: "
   ]
  }
 ],
 "metadata": {
  "language_info": {
   "name": "python"
  }
 },
 "nbformat": 4,
 "nbformat_minor": 5
}
