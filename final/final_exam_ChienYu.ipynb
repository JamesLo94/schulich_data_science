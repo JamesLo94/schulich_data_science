{
 "cells": [
  {
   "cell_type": "code",
   "execution_count": null,
   "id": "87122f2f",
   "metadata": {},
   "outputs": [],
   "source": [
    "#任务简述：\n",
    "#目标是构建一个分类模型，预测企业客户是否会流失（churned: 0/1），属于典型的二元分类问题。\n",
    "#数据包含：公司规模、使用行为、合同类型、定价、活动数据等特征，都是和B2B软件使用行为相关的指标。\n",
    "\n",
    "#目前重点：\n",
    "#任务类型：二分类\n",
    "#目标变量：churned\n",
    "#特征类型：有数值型、分类型（如Yes/No, plan_type, region等）、比例型、时间型\n",
    "\n"
   ]
  },
  {
   "cell_type": "code",
   "execution_count": null,
   "id": "c69924db",
   "metadata": {},
   "outputs": [],
   "source": [
    "# 1. Explain your data preparation process. How did you treat the data to prepare it for modelling?\n",
    "# 2. Which models did you choose to evaluate, and why? Provide the supporting data analysis used to inform your choice, and explain why the models you selected are expected to work well for the problem.\n",
    "# 3. Make a final recommendation on a model. Discuss why this is your recommendation, and the trade-offs you've considered in your decision. \n",
    "# 4. Discuss what techniques you used to ensure you have built the best version of the model possible, given the data you have."
   ]
  },
  {
   "cell_type": "code",
   "execution_count": null,
   "id": "23abec8d",
   "metadata": {},
   "outputs": [],
   "source": [
    "import pandas as pd\n",
    "\n",
    "df = pd.read_csv('data_file.csv')\n"
   ]
  },
  {
   "cell_type": "code",
   "execution_count": null,
   "id": "e96d9a03",
   "metadata": {},
   "outputs": [],
   "source": []
  }
 ],
 "metadata": {
  "language_info": {
   "name": "python"
  }
 },
 "nbformat": 4,
 "nbformat_minor": 5
}
